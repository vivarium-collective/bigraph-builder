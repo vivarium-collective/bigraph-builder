{
 "cells": [
  {
   "cell_type": "code",
   "execution_count": 1,
   "id": "b385dca6-942d-472c-9963-13b8cb33843c",
   "metadata": {
    "ExecuteTime": {
     "end_time": "2024-01-04T15:19:10.318586Z",
     "start_time": "2024-01-04T15:19:09.735519Z"
    }
   },
   "outputs": [],
   "source": [
    "from builder import Builder\n",
    "from core_processes import process_registry"
   ]
  },
  {
   "cell_type": "code",
   "execution_count": 2,
   "id": "30297af1-2d65-43d9-9ab7-0589d94a8cfe",
   "metadata": {
    "ExecuteTime": {
     "end_time": "2024-01-04T15:19:10.321029Z",
     "start_time": "2024-01-04T15:19:10.318979Z"
    }
   },
   "outputs": [],
   "source": [
    "b = Builder(process_registry=process_registry)"
   ]
  },
  {
   "cell_type": "code",
   "execution_count": 3,
   "outputs": [
    {
     "data": {
      "text/plain": "['console-emitter',\n 'ram-emitter',\n 'copasi',\n 'tellurium_step',\n 'cobra',\n 'smoldyn_process',\n 'tellurium_process',\n 'database-emitter']"
     },
     "execution_count": 3,
     "metadata": {},
     "output_type": "execute_result"
    }
   ],
   "source": [
    "b.process_list()"
   ],
   "metadata": {
    "collapsed": false,
    "ExecuteTime": {
     "end_time": "2024-01-04T15:19:10.491854Z",
     "start_time": "2024-01-04T15:19:10.487435Z"
    }
   },
   "id": "979e0bd85a31d4b0"
  },
  {
   "cell_type": "code",
   "execution_count": null,
   "outputs": [],
   "source": [],
   "metadata": {
    "collapsed": false
   },
   "id": "a84d340622208914"
  }
 ],
 "metadata": {
  "kernelspec": {
   "display_name": "Python 3 (ipykernel)",
   "language": "python",
   "name": "python3"
  },
  "language_info": {
   "codemirror_mode": {
    "name": "ipython",
    "version": 3
   },
   "file_extension": ".py",
   "mimetype": "text/x-python",
   "name": "python",
   "nbconvert_exporter": "python",
   "pygments_lexer": "ipython3",
   "version": "3.9.6"
  }
 },
 "nbformat": 4,
 "nbformat_minor": 5
}
