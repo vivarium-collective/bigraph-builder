{
 "cells": [
  {
   "cell_type": "markdown",
   "id": "808b6a4b-0894-4a8e-99d8-bf11b3164b6a",
   "metadata": {},
   "source": [
    "# Bigraph-Builder Demo"
   ]
  },
  {
   "cell_type": "code",
   "execution_count": 1,
   "id": "b385dca6-942d-472c-9963-13b8cb33843c",
   "metadata": {
    "ExecuteTime": {
     "end_time": "2024-01-21T21:29:21.891373Z",
     "start_time": "2024-01-21T21:29:13.531449Z"
    }
   },
   "outputs": [],
   "source": [
    "# imports\n",
    "from builder import Builder, Process, ProcessTypes"
   ]
  },
  {
   "cell_type": "markdown",
   "id": "a403d619-4dbe-49cc-8f24-29a83e31fe15",
   "metadata": {},
   "source": [
    "## Initialize the builder"
   ]
  },
  {
   "cell_type": "code",
   "execution_count": 2,
   "id": "b6260555-2bad-4834-adc5-e6d358063579",
   "metadata": {},
   "outputs": [],
   "source": [
    "core = ProcessTypes()\n",
    "b = Builder(core=core)"
   ]
  },
  {
   "cell_type": "markdown",
   "id": "dd85f98e-c5e3-467b-97ab-1ced7e810a17",
   "metadata": {},
   "source": [
    "### register new types"
   ]
  },
  {
   "cell_type": "code",
   "execution_count": 3,
   "id": "30297af1-2d65-43d9-9ab7-0589d94a8cfe",
   "metadata": {
    "ExecuteTime": {
     "end_time": "2024-01-21T21:29:21.896737Z",
     "start_time": "2024-01-21T21:29:21.891980Z"
    }
   },
   "outputs": [],
   "source": [
    "b.register_type(\n",
    "    'default 1', {\n",
    "        '_inherit': 'float',\n",
    "        '_default': 1.0})"
   ]
  },
  {
   "cell_type": "markdown",
   "id": "4f7cb796-ae5f-4209-b81c-dec1544f0840",
   "metadata": {},
   "source": [
    "## Register some processes"
   ]
  },
  {
   "cell_type": "markdown",
   "id": "603e75fd-7b86-4e4c-9e95-adb9faf9668b",
   "metadata": {},
   "source": [
    "### list built-in processes"
   ]
  },
  {
   "cell_type": "code",
   "execution_count": 4,
   "id": "979e0bd85a31d4b0",
   "metadata": {
    "ExecuteTime": {
     "end_time": "2024-01-21T21:29:21.984800Z",
     "start_time": "2024-01-21T21:29:21.894599Z"
    },
    "collapsed": false,
    "jupyter": {
     "outputs_hidden": false
    }
   },
   "outputs": [
    {
     "data": {
      "text/plain": [
       "['ram-emitter', 'console-emitter']"
      ]
     },
     "execution_count": 4,
     "metadata": {},
     "output_type": "execute_result"
    }
   ],
   "source": [
    "b.list_processes()"
   ]
  },
  {
   "cell_type": "markdown",
   "id": "9710444c-97c5-484c-83b0-8d82c3fdb92f",
   "metadata": {},
   "source": [
    "### register by passing in process class"
   ]
  },
  {
   "cell_type": "code",
   "execution_count": 5,
   "id": "5bff2ea4-42f9-430e-b1cc-f0581510ec8d",
   "metadata": {},
   "outputs": [],
   "source": [
    "from process_bigraph.experiments.minimal_gillespie import GillespieEvent\n",
    "b.register_process('GillespieEvent', GillespieEvent)"
   ]
  },
  {
   "cell_type": "markdown",
   "id": "c3635047-66dd-4c80-85ea-481c74da2a86",
   "metadata": {},
   "source": [
    "### register by address"
   ]
  },
  {
   "cell_type": "code",
   "execution_count": 6,
   "id": "f2893d4a-c13a-4d95-b85e-d5e9dce53a89",
   "metadata": {},
   "outputs": [],
   "source": [
    "b.register_process(\n",
    "    'GillespieInterval',\n",
    "    address='process_bigraph.experiments.minimal_gillespie.GillespieInterval',  # currently only supports local addresses\n",
    ")"
   ]
  },
  {
   "cell_type": "markdown",
   "id": "731974c5-b470-4ddf-a037-4d4aeebc7b42",
   "metadata": {},
   "source": [
    "### register with decorator"
   ]
  },
  {
   "cell_type": "code",
   "execution_count": 7,
   "id": "aec69dcc-471e-4c18-b22b-824cfe440e79",
   "metadata": {},
   "outputs": [],
   "source": [
    "@b.register_process('toy')\n",
    "class Toy(Process):\n",
    "    config_schema = {\n",
    "        'A': 'float',\n",
    "        'B': 'float',\n",
    "    }\n",
    "\n",
    "    def __init__(self, config, core):\n",
    "        super().__init__(config, core)\n",
    "\n",
    "    def schema(self):\n",
    "        return {\n",
    "            'inputs': {\n",
    "                'A': 'float',\n",
    "                'B': 'float'},\n",
    "            'outputs': {\n",
    "                'C': 'float'}\n",
    "        }\n",
    "\n",
    "    def update(self, state, interval):\n",
    "        update = {\n",
    "            'C': state['A'] + state['B']\n",
    "        }\n",
    "        return update\n"
   ]
  },
  {
   "cell_type": "markdown",
   "id": "a108cbf0-a594-41d4-996a-de9bf9b6aeea",
   "metadata": {},
   "source": [
    "### list registered processes"
   ]
  },
  {
   "cell_type": "code",
   "execution_count": 8,
   "id": "40cde984-cfdf-4571-af9c-3a3755e3763c",
   "metadata": {},
   "outputs": [
    {
     "data": {
      "text/plain": [
       "['ram-emitter',\n",
       " 'GillespieEvent',\n",
       " 'GillespieInterval',\n",
       " 'toy',\n",
       " 'console-emitter']"
      ]
     },
     "execution_count": 8,
     "metadata": {},
     "output_type": "execute_result"
    }
   ],
   "source": [
    "b.list_processes()"
   ]
  },
  {
   "cell_type": "markdown",
   "id": "dfa2d764-8cdb-4a1e-84c5-fd81cc4e6afe",
   "metadata": {},
   "source": [
    "## Add processes to the bigraph"
   ]
  },
  {
   "cell_type": "code",
   "execution_count": 9,
   "id": "503863ee-0a58-44b3-accc-20e0167b947b",
   "metadata": {},
   "outputs": [],
   "source": [
    "## add processes\n",
    "b['event_process'].add_process(\n",
    "    name='GillespieEvent',\n",
    "    kdeg=1.0,  # kwargs fill parameters in the config\n",
    ")"
   ]
  },
  {
   "cell_type": "code",
   "execution_count": 10,
   "id": "b094f1e5-5202-48d0-8bdd-57bbdded7fd1",
   "metadata": {},
   "outputs": [
    {
     "data": {
      "image/svg+xml": [
       "<?xml version=\"1.0\" encoding=\"UTF-8\" standalone=\"no\"?>\n",
       "<!DOCTYPE svg PUBLIC \"-//W3C//DTD SVG 1.1//EN\"\n",
       " \"http://www.w3.org/Graphics/SVG/1.1/DTD/svg11.dtd\">\n",
       "<!-- Generated by graphviz version 9.0.0 (0)\n",
       " -->\n",
       "<!-- Title: bigraph Pages: 1 -->\n",
       "<svg width=\"81pt\" height=\"128pt\"\n",
       " viewBox=\"0.00 0.00 83.17 131.84\" xmlns=\"http://www.w3.org/2000/svg\" xmlns:xlink=\"http://www.w3.org/1999/xlink\">\n",
       "<g id=\"graph0\" class=\"graph\" transform=\"scale(0.972222 0.972222) rotate(0) translate(4 127.84)\">\n",
       "<title>bigraph</title>\n",
       "<polygon fill=\"white\" stroke=\"none\" points=\"-4,4 -4,-127.84 79.17,-127.84 79.17,4 -4,4\"/>\n",
       "<!-- (&#39;event_process&#39;, &#39;interval&#39;) -->\n",
       "<g id=\"node1\" class=\"node\">\n",
       "<title>(&#39;event_process&#39;, &#39;interval&#39;)</title>\n",
       "<ellipse fill=\"none\" stroke=\"black\" stroke-width=\"2\" cx=\"37.59\" cy=\"-25.92\" rx=\"25.92\" ry=\"25.92\"/>\n",
       "<text text-anchor=\"start\" x=\"19.26\" y=\"-22.32\" font-family=\"Times,serif\" font-size=\"12.00\">interval</text>\n",
       "</g>\n",
       "<!-- (&#39;event_process&#39;,) -->\n",
       "<g id=\"node2\" class=\"node\">\n",
       "<title>(&#39;event_process&#39;,)</title>\n",
       "<polygon fill=\"none\" stroke=\"black\" stroke-width=\"2\" points=\"75.17,-123.84 0,-123.84 0,-87.84 75.17,-87.84 75.17,-123.84\"/>\n",
       "<text text-anchor=\"start\" x=\"3.6\" y=\"-102.24\" font-family=\"Times,serif\" font-size=\"12.00\">event_process</text>\n",
       "</g>\n",
       "<!-- (&#39;event_process&#39;,)&#45;&gt;(&#39;event_process&#39;, &#39;interval&#39;) -->\n",
       "<g id=\"edge1\" class=\"edge\">\n",
       "<title>(&#39;event_process&#39;,)&#45;&gt;(&#39;event_process&#39;, &#39;interval&#39;)</title>\n",
       "<path fill=\"none\" stroke=\"black\" stroke-width=\"2\" d=\"M37.59,-87.16C37.59,-77.01 37.59,-64.08 37.59,-52.81\"/>\n",
       "</g>\n",
       "</g>\n",
       "</svg>\n"
      ],
      "text/plain": [
       "<graphviz.graphs.Digraph at 0x11552c910>"
      ]
     },
     "execution_count": 10,
     "metadata": {},
     "output_type": "execute_result"
    }
   ],
   "source": [
    "b.visualize()"
   ]
  },
  {
   "cell_type": "markdown",
   "id": "0238392e-5d1f-403d-98c9-785576a0d91b",
   "metadata": {},
   "source": [
    "### print ports"
   ]
  },
  {
   "cell_type": "code",
   "execution_count": 11,
   "id": "5ea31425-a8bb-45c3-a31d-77714cc8c137",
   "metadata": {},
   "outputs": [
    {
     "name": "stdout",
     "output_type": "stream",
     "text": [
      "{ '_inputs': { 'DNA': {'A gene': 'float', 'B gene': 'float'},\n",
      "               'mRNA': 'map[float]'},\n",
      "  '_outputs': {'mRNA': 'map[float]'}}\n"
     ]
    }
   ],
   "source": [
    "b['event_process'].interface(True)"
   ]
  },
  {
   "cell_type": "markdown",
   "id": "8068e0af-ebdd-4f01-8c54-4fb3b07fc21e",
   "metadata": {},
   "source": [
    "### connect ports"
   ]
  },
  {
   "cell_type": "code",
   "execution_count": 12,
   "id": "c9f462bb-5316-4724-aa8e-b3b71eb379b2",
   "metadata": {},
   "outputs": [
    {
     "data": {
      "text/plain": [
       "Builder({ 'event_process': { '_type': 'process',\n",
       "                     'address': 'local:GillespieEvent',\n",
       "                     'config': {'kdeg': 1.0, 'ktsc': 5.0},\n",
       "                     'inputs': {'DNA': ['DNA_store'], 'mRNA': ['mRNA_store']},\n",
       "                     'instance': <process_bigraph.experiments.minimal_gillespie.GillespieEvent object at 0x11552c400>,\n",
       "                     'interval': 1.0,\n",
       "                     'outputs': {'mRNA': ['mRNA_store']}}})"
      ]
     },
     "execution_count": 12,
     "metadata": {},
     "output_type": "execute_result"
    }
   ],
   "source": [
    "b['event_process'].connect(port='mRNA', target=['mRNA_store'])\n",
    "b['event_process'].connect(port='DNA', target=['DNA_store'])\n",
    "b"
   ]
  },
  {
   "cell_type": "code",
   "execution_count": 13,
   "id": "79809baf-1d87-475a-b85f-3729f4716cb4",
   "metadata": {},
   "outputs": [
    {
     "data": {
      "image/svg+xml": [
       "<?xml version=\"1.0\" encoding=\"UTF-8\" standalone=\"no\"?>\n",
       "<!DOCTYPE svg PUBLIC \"-//W3C//DTD SVG 1.1//EN\"\n",
       " \"http://www.w3.org/Graphics/SVG/1.1/DTD/svg11.dtd\">\n",
       "<!-- Generated by graphviz version 9.0.0 (0)\n",
       " -->\n",
       "<!-- Title: bigraph Pages: 1 -->\n",
       "<svg width=\"252pt\" height=\"268pt\"\n",
       " viewBox=\"0.00 0.00 259.23 275.31\" xmlns=\"http://www.w3.org/2000/svg\" xmlns:xlink=\"http://www.w3.org/1999/xlink\">\n",
       "<g id=\"graph0\" class=\"graph\" transform=\"scale(0.972222 0.972222) rotate(0) translate(4 271.31)\">\n",
       "<title>bigraph</title>\n",
       "<polygon fill=\"white\" stroke=\"none\" points=\"-4,4 -4,-271.31 255.23,-271.31 255.23,4 -4,4\"/>\n",
       "<!-- (&#39;event_process&#39;, &#39;interval&#39;) -->\n",
       "<g id=\"node1\" class=\"node\">\n",
       "<title>(&#39;event_process&#39;, &#39;interval&#39;)</title>\n",
       "<ellipse fill=\"none\" stroke=\"black\" stroke-width=\"2\" cx=\"72.08\" cy=\"-25.92\" rx=\"25.92\" ry=\"25.92\"/>\n",
       "<text text-anchor=\"start\" x=\"53.76\" y=\"-22.32\" font-family=\"Times,serif\" font-size=\"12.00\">interval</text>\n",
       "</g>\n",
       "<!-- (&#39;mRNA_store&#39;,) -->\n",
       "<g id=\"node2\" class=\"node\">\n",
       "<title>(&#39;mRNA_store&#39;,)</title>\n",
       "<ellipse fill=\"none\" stroke=\"black\" stroke-width=\"2\" cx=\"42.08\" cy=\"-225.23\" rx=\"42.08\" ry=\"42.08\"/>\n",
       "<text text-anchor=\"start\" x=\"10.08\" y=\"-221.63\" font-family=\"Times,serif\" font-size=\"12.00\">mRNA_store</text>\n",
       "</g>\n",
       "<!-- (&#39;event_process&#39;,) -->\n",
       "<g id=\"node6\" class=\"node\">\n",
       "<title>(&#39;event_process&#39;,)</title>\n",
       "<polygon fill=\"none\" stroke=\"black\" stroke-width=\"2\" points=\"109.67,-130.99 34.5,-130.99 34.5,-94.99 109.67,-94.99 109.67,-130.99\"/>\n",
       "<text text-anchor=\"start\" x=\"38.1\" y=\"-109.39\" font-family=\"Times,serif\" font-size=\"12.00\">event_process</text>\n",
       "</g>\n",
       "<!-- (&#39;mRNA_store&#39;,)&#45;&gt;(&#39;event_process&#39;,) -->\n",
       "<g id=\"edge4\" class=\"edge\">\n",
       "<title>(&#39;mRNA_store&#39;,)&#45;&gt;(&#39;event_process&#39;,)</title>\n",
       "<path fill=\"none\" stroke=\"black\" stroke-dasharray=\"5,2\" d=\"M21.11,-187.95C17.5,-177.14 16.28,-165.43 21.19,-155.14 24.01,-149.23 28.15,-143.9 32.86,-139.18\"/>\n",
       "<polygon fill=\"black\" stroke=\"black\" points=\"34.88,-142.06 40.06,-132.82 30.25,-136.81 34.88,-142.06\"/>\n",
       "<text text-anchor=\"start\" x=\"22.08\" y=\"-157.14\" font-family=\"Times,serif\" font-size=\"10.00\">mRNA</text>\n",
       "</g>\n",
       "<!-- (&#39;mRNA_store&#39;,)&#45;&gt;(&#39;event_process&#39;,) -->\n",
       "<g id=\"edge6\" class=\"edge\">\n",
       "<title>(&#39;mRNA_store&#39;,)&#45;&gt;(&#39;event_process&#39;,)</title>\n",
       "<path fill=\"none\" stroke=\"black\" stroke-dasharray=\"5,2\" d=\"M56.09,-172.74C60.08,-158.1 64.16,-143.11 67.2,-131.93\"/>\n",
       "<polygon fill=\"black\" stroke=\"black\" points=\"52.73,-171.78 53.48,-182.34 59.48,-173.61 52.73,-171.78\"/>\n",
       "<text text-anchor=\"start\" x=\"61.08\" y=\"-157.14\" font-family=\"Times,serif\" font-size=\"10.00\">mRNA</text>\n",
       "</g>\n",
       "<!-- (&#39;DNA_store&#39;,) -->\n",
       "<g id=\"node3\" class=\"node\">\n",
       "<title>(&#39;DNA_store&#39;,)</title>\n",
       "<ellipse fill=\"none\" stroke=\"black\" stroke-width=\"2\" cx=\"161.08\" cy=\"-225.23\" rx=\"36.96\" ry=\"36.96\"/>\n",
       "<text text-anchor=\"start\" x=\"133.42\" y=\"-221.63\" font-family=\"Times,serif\" font-size=\"12.00\">DNA_store</text>\n",
       "</g>\n",
       "<!-- (&#39;DNA_store&#39;, &#39;A gene&#39;) -->\n",
       "<g id=\"node4\" class=\"node\">\n",
       "<title>(&#39;DNA_store&#39;, &#39;A gene&#39;)</title>\n",
       "<ellipse fill=\"none\" stroke=\"black\" stroke-width=\"2\" cx=\"161.08\" cy=\"-112.99\" rx=\"24.15\" ry=\"24.15\"/>\n",
       "<text text-anchor=\"start\" x=\"144.25\" y=\"-109.39\" font-family=\"Times,serif\" font-size=\"12.00\">A gene</text>\n",
       "</g>\n",
       "<!-- (&#39;DNA_store&#39;,)&#45;&gt;(&#39;DNA_store&#39;, &#39;A gene&#39;) -->\n",
       "<g id=\"edge2\" class=\"edge\">\n",
       "<title>(&#39;DNA_store&#39;,)&#45;&gt;(&#39;DNA_store&#39;, &#39;A gene&#39;)</title>\n",
       "<path fill=\"none\" stroke=\"black\" stroke-width=\"2\" d=\"M161.08,-187.52C161.08,-171.24 161.08,-152.53 161.08,-138.06\"/>\n",
       "</g>\n",
       "<!-- (&#39;DNA_store&#39;, &#39;B gene&#39;) -->\n",
       "<g id=\"node5\" class=\"node\">\n",
       "<title>(&#39;DNA_store&#39;, &#39;B gene&#39;)</title>\n",
       "<ellipse fill=\"none\" stroke=\"black\" stroke-width=\"2\" cx=\"227.08\" cy=\"-112.99\" rx=\"24.15\" ry=\"24.15\"/>\n",
       "<text text-anchor=\"start\" x=\"210.25\" y=\"-109.39\" font-family=\"Times,serif\" font-size=\"12.00\">B gene</text>\n",
       "</g>\n",
       "<!-- (&#39;DNA_store&#39;,)&#45;&gt;(&#39;DNA_store&#39;, &#39;B gene&#39;) -->\n",
       "<g id=\"edge3\" class=\"edge\">\n",
       "<title>(&#39;DNA_store&#39;,)&#45;&gt;(&#39;DNA_store&#39;, &#39;B gene&#39;)</title>\n",
       "<path fill=\"none\" stroke=\"black\" stroke-width=\"2\" d=\"M180,-192.64C191.12,-174.06 204.87,-151.09 214.63,-134.78\"/>\n",
       "</g>\n",
       "<!-- (&#39;DNA_store&#39;,)&#45;&gt;(&#39;event_process&#39;,) -->\n",
       "<g id=\"edge5\" class=\"edge\">\n",
       "<title>(&#39;DNA_store&#39;,)&#45;&gt;(&#39;event_process&#39;,)</title>\n",
       "<path fill=\"none\" stroke=\"black\" stroke-dasharray=\"5,2\" d=\"M137.93,-195.55C124.2,-178.54 106.91,-157.13 93.5,-140.51\"/>\n",
       "<polygon fill=\"black\" stroke=\"black\" points=\"96.44,-138.59 87.44,-133.01 91,-142.99 96.44,-138.59\"/>\n",
       "<text text-anchor=\"start\" x=\"112.08\" y=\"-157.14\" font-family=\"Times,serif\" font-size=\"10.00\">DNA</text>\n",
       "</g>\n",
       "<!-- (&#39;event_process&#39;,)&#45;&gt;(&#39;event_process&#39;, &#39;interval&#39;) -->\n",
       "<g id=\"edge1\" class=\"edge\">\n",
       "<title>(&#39;event_process&#39;,)&#45;&gt;(&#39;event_process&#39;, &#39;interval&#39;)</title>\n",
       "<path fill=\"none\" stroke=\"black\" stroke-width=\"2\" d=\"M72.08,-94.36C72.08,-82.29 72.08,-66.09 72.08,-52.6\"/>\n",
       "</g>\n",
       "</g>\n",
       "</svg>\n"
      ],
      "text/plain": [
       "<graphviz.graphs.Digraph at 0x11552c970>"
      ]
     },
     "execution_count": 13,
     "metadata": {},
     "output_type": "execute_result"
    }
   ],
   "source": [
    "b.visualize()"
   ]
  },
  {
   "cell_type": "code",
   "execution_count": 14,
   "id": "f02c15797bdb73b8",
   "metadata": {
    "ExecuteTime": {
     "start_time": "2024-01-21T21:29:21.997588Z"
    },
    "collapsed": false,
    "jupyter": {
     "outputs_hidden": false
    }
   },
   "outputs": [],
   "source": [
    "b['interval_process'].add_process(\n",
    "    name='GillespieInterval',\n",
    "    # inputs={'port_id': ['store']}  # we should be able to set the wires directly like this\n",
    ")"
   ]
  },
  {
   "cell_type": "code",
   "execution_count": 15,
   "id": "aeb344bcd6a120ae",
   "metadata": {
    "ExecuteTime": {
     "start_time": "2024-01-21T21:29:21.998661Z"
    },
    "collapsed": false,
    "jupyter": {
     "outputs_hidden": false
    }
   },
   "outputs": [
    {
     "data": {
      "image/svg+xml": [
       "<?xml version=\"1.0\" encoding=\"UTF-8\" standalone=\"no\"?>\n",
       "<!DOCTYPE svg PUBLIC \"-//W3C//DTD SVG 1.1//EN\"\n",
       " \"http://www.w3.org/Graphics/SVG/1.1/DTD/svg11.dtd\">\n",
       "<!-- Generated by graphviz version 9.0.0 (0)\n",
       " -->\n",
       "<!-- Title: bigraph Pages: 1 -->\n",
       "<svg width=\"336pt\" height=\"271pt\"\n",
       " viewBox=\"0.00 0.00 346.00 278.84\" xmlns=\"http://www.w3.org/2000/svg\" xmlns:xlink=\"http://www.w3.org/1999/xlink\">\n",
       "<g id=\"graph0\" class=\"graph\" transform=\"scale(0.972222 0.972222) rotate(0) translate(4 274.84)\">\n",
       "<title>bigraph</title>\n",
       "<polygon fill=\"white\" stroke=\"none\" points=\"-4,4 -4,-274.84 342,-274.84 342,4 -4,4\"/>\n",
       "<!-- (&#39;event_process&#39;, &#39;interval&#39;) -->\n",
       "<g id=\"node1\" class=\"node\">\n",
       "<title>(&#39;event_process&#39;, &#39;interval&#39;)</title>\n",
       "<ellipse fill=\"none\" stroke=\"black\" stroke-width=\"2\" cx=\"72.08\" cy=\"-25.92\" rx=\"25.92\" ry=\"25.92\"/>\n",
       "<text text-anchor=\"start\" x=\"53.76\" y=\"-22.32\" font-family=\"Times,serif\" font-size=\"12.00\">interval</text>\n",
       "</g>\n",
       "<!-- (&#39;interval_process&#39;, &#39;interval&#39;) -->\n",
       "<g id=\"node2\" class=\"node\">\n",
       "<title>(&#39;interval_process&#39;, &#39;interval&#39;)</title>\n",
       "<ellipse fill=\"none\" stroke=\"black\" stroke-width=\"2\" cx=\"295.08\" cy=\"-114.76\" rx=\"25.92\" ry=\"25.92\"/>\n",
       "<text text-anchor=\"start\" x=\"276.76\" y=\"-111.16\" font-family=\"Times,serif\" font-size=\"12.00\">interval</text>\n",
       "</g>\n",
       "<!-- (&#39;mRNA_store&#39;,) -->\n",
       "<g id=\"node3\" class=\"node\">\n",
       "<title>(&#39;mRNA_store&#39;,)</title>\n",
       "<ellipse fill=\"none\" stroke=\"black\" stroke-width=\"2\" cx=\"42.08\" cy=\"-228.76\" rx=\"42.08\" ry=\"42.08\"/>\n",
       "<text text-anchor=\"start\" x=\"10.08\" y=\"-225.16\" font-family=\"Times,serif\" font-size=\"12.00\">mRNA_store</text>\n",
       "</g>\n",
       "<!-- (&#39;event_process&#39;,) -->\n",
       "<g id=\"node7\" class=\"node\">\n",
       "<title>(&#39;event_process&#39;,)</title>\n",
       "<polygon fill=\"none\" stroke=\"black\" stroke-width=\"2\" points=\"109.67,-132.76 34.5,-132.76 34.5,-96.76 109.67,-96.76 109.67,-132.76\"/>\n",
       "<text text-anchor=\"start\" x=\"38.1\" y=\"-111.16\" font-family=\"Times,serif\" font-size=\"12.00\">event_process</text>\n",
       "</g>\n",
       "<!-- (&#39;mRNA_store&#39;,)&#45;&gt;(&#39;event_process&#39;,) -->\n",
       "<g id=\"edge5\" class=\"edge\">\n",
       "<title>(&#39;mRNA_store&#39;,)&#45;&gt;(&#39;event_process&#39;,)</title>\n",
       "<path fill=\"none\" stroke=\"black\" stroke-dasharray=\"5,2\" d=\"M21.13,-191.19C17.61,-180.48 16.44,-168.9 21.19,-158.68 24.2,-152.21 28.71,-146.37 33.83,-141.23\"/>\n",
       "<polygon fill=\"black\" stroke=\"black\" points=\"35.97,-144 41.11,-134.74 31.31,-138.78 35.97,-144\"/>\n",
       "<text text-anchor=\"start\" x=\"22.08\" y=\"-160.68\" font-family=\"Times,serif\" font-size=\"10.00\">mRNA</text>\n",
       "</g>\n",
       "<!-- (&#39;mRNA_store&#39;,)&#45;&gt;(&#39;event_process&#39;,) -->\n",
       "<g id=\"edge7\" class=\"edge\">\n",
       "<title>(&#39;mRNA_store&#39;,)&#45;&gt;(&#39;event_process&#39;,)</title>\n",
       "<path fill=\"none\" stroke=\"black\" stroke-dasharray=\"5,2\" d=\"M55.86,-176.32C59.96,-161 64.19,-145.22 67.3,-133.61\"/>\n",
       "<polygon fill=\"black\" stroke=\"black\" points=\"52.51,-175.3 53.31,-185.86 59.27,-177.11 52.51,-175.3\"/>\n",
       "<text text-anchor=\"start\" x=\"60.08\" y=\"-160.68\" font-family=\"Times,serif\" font-size=\"10.00\">mRNA</text>\n",
       "</g>\n",
       "<!-- (&#39;DNA_store&#39;,) -->\n",
       "<g id=\"node4\" class=\"node\">\n",
       "<title>(&#39;DNA_store&#39;,)</title>\n",
       "<ellipse fill=\"none\" stroke=\"black\" stroke-width=\"2\" cx=\"161.08\" cy=\"-228.76\" rx=\"36.96\" ry=\"36.96\"/>\n",
       "<text text-anchor=\"start\" x=\"133.42\" y=\"-225.16\" font-family=\"Times,serif\" font-size=\"12.00\">DNA_store</text>\n",
       "</g>\n",
       "<!-- (&#39;DNA_store&#39;, &#39;A gene&#39;) -->\n",
       "<g id=\"node5\" class=\"node\">\n",
       "<title>(&#39;DNA_store&#39;, &#39;A gene&#39;)</title>\n",
       "<ellipse fill=\"none\" stroke=\"black\" stroke-width=\"2\" cx=\"161.08\" cy=\"-114.76\" rx=\"24.15\" ry=\"24.15\"/>\n",
       "<text text-anchor=\"start\" x=\"144.25\" y=\"-111.16\" font-family=\"Times,serif\" font-size=\"12.00\">A gene</text>\n",
       "</g>\n",
       "<!-- (&#39;DNA_store&#39;,)&#45;&gt;(&#39;DNA_store&#39;, &#39;A gene&#39;) -->\n",
       "<g id=\"edge3\" class=\"edge\">\n",
       "<title>(&#39;DNA_store&#39;,)&#45;&gt;(&#39;DNA_store&#39;, &#39;A gene&#39;)</title>\n",
       "<path fill=\"none\" stroke=\"black\" stroke-width=\"2\" d=\"M161.08,-191.09C161.08,-174.24 161.08,-154.74 161.08,-139.8\"/>\n",
       "</g>\n",
       "<!-- (&#39;DNA_store&#39;, &#39;B gene&#39;) -->\n",
       "<g id=\"node6\" class=\"node\">\n",
       "<title>(&#39;DNA_store&#39;, &#39;B gene&#39;)</title>\n",
       "<ellipse fill=\"none\" stroke=\"black\" stroke-width=\"2\" cx=\"227.08\" cy=\"-114.76\" rx=\"24.15\" ry=\"24.15\"/>\n",
       "<text text-anchor=\"start\" x=\"210.25\" y=\"-111.16\" font-family=\"Times,serif\" font-size=\"12.00\">B gene</text>\n",
       "</g>\n",
       "<!-- (&#39;DNA_store&#39;,)&#45;&gt;(&#39;DNA_store&#39;, &#39;B gene&#39;) -->\n",
       "<g id=\"edge4\" class=\"edge\">\n",
       "<title>(&#39;DNA_store&#39;,)&#45;&gt;(&#39;DNA_store&#39;, &#39;B gene&#39;)</title>\n",
       "<path fill=\"none\" stroke=\"black\" stroke-width=\"2\" d=\"M179.82,-195.96C191.02,-176.95 204.94,-153.33 214.77,-136.66\"/>\n",
       "</g>\n",
       "<!-- (&#39;DNA_store&#39;,)&#45;&gt;(&#39;event_process&#39;,) -->\n",
       "<g id=\"edge6\" class=\"edge\">\n",
       "<title>(&#39;DNA_store&#39;,)&#45;&gt;(&#39;event_process&#39;,)</title>\n",
       "<path fill=\"none\" stroke=\"black\" stroke-dasharray=\"5,2\" d=\"M138.16,-198.92C124.34,-181.53 106.86,-159.52 93.35,-142.52\"/>\n",
       "<polygon fill=\"black\" stroke=\"black\" points=\"96.2,-140.49 87.24,-134.83 90.72,-144.84 96.2,-140.49\"/>\n",
       "<text text-anchor=\"start\" x=\"114.08\" y=\"-160.68\" font-family=\"Times,serif\" font-size=\"10.00\">DNA</text>\n",
       "</g>\n",
       "<!-- (&#39;event_process&#39;,)&#45;&gt;(&#39;event_process&#39;, &#39;interval&#39;) -->\n",
       "<g id=\"edge1\" class=\"edge\">\n",
       "<title>(&#39;event_process&#39;,)&#45;&gt;(&#39;event_process&#39;, &#39;interval&#39;)</title>\n",
       "<path fill=\"none\" stroke=\"black\" stroke-width=\"2\" d=\"M72.08,-95.76C72.08,-83.34 72.08,-66.64 72.08,-52.8\"/>\n",
       "</g>\n",
       "<!-- (&#39;interval_process&#39;,) -->\n",
       "<g id=\"node8\" class=\"node\">\n",
       "<title>(&#39;interval_process&#39;,)</title>\n",
       "<polygon fill=\"none\" stroke=\"black\" stroke-width=\"2\" points=\"338,-246.76 252.16,-246.76 252.16,-210.76 338,-210.76 338,-246.76\"/>\n",
       "<text text-anchor=\"start\" x=\"255.76\" y=\"-225.16\" font-family=\"Times,serif\" font-size=\"12.00\">interval_process</text>\n",
       "</g>\n",
       "<!-- (&#39;interval_process&#39;,)&#45;&gt;(&#39;interval_process&#39;, &#39;interval&#39;) -->\n",
       "<g id=\"edge2\" class=\"edge\">\n",
       "<title>(&#39;interval_process&#39;,)&#45;&gt;(&#39;interval_process&#39;, &#39;interval&#39;)</title>\n",
       "<path fill=\"none\" stroke=\"black\" stroke-width=\"2\" d=\"M295.08,-209.76C295.08,-191.34 295.08,-162.51 295.08,-141.64\"/>\n",
       "</g>\n",
       "</g>\n",
       "</svg>\n"
      ],
      "text/plain": [
       "<graphviz.graphs.Digraph at 0x11552af40>"
      ]
     },
     "execution_count": 15,
     "metadata": {},
     "output_type": "execute_result"
    }
   ],
   "source": [
    "b.visualize()"
   ]
  },
  {
   "cell_type": "code",
   "execution_count": 16,
   "id": "a5a1f48a-41aa-4768-b931-ad268495d836",
   "metadata": {},
   "outputs": [
    {
     "ename": "AttributeError",
     "evalue": "'Builder' object has no attribute 'connect_all'",
     "output_type": "error",
     "traceback": [
      "\u001b[0;31m---------------------------------------------------------------------------\u001b[0m",
      "\u001b[0;31mAttributeError\u001b[0m                            Traceback (most recent call last)",
      "Cell \u001b[0;32mIn[16], line 1\u001b[0m\n\u001b[0;32m----> 1\u001b[0m \u001b[43mb\u001b[49m\u001b[38;5;241;43m.\u001b[39;49m\u001b[43mconnect_all\u001b[49m()\n",
      "\u001b[0;31mAttributeError\u001b[0m: 'Builder' object has no attribute 'connect_all'"
     ]
    }
   ],
   "source": [
    "b.connect_all()"
   ]
  },
  {
   "cell_type": "code",
   "execution_count": null,
   "id": "6e00749f-03b8-496e-9a10-106dbac3713f",
   "metadata": {},
   "outputs": [],
   "source": [
    "b.builder_tree"
   ]
  },
  {
   "cell_type": "code",
   "execution_count": null,
   "id": "e9a69f36-154c-416e-b00c-5df0726be49e",
   "metadata": {},
   "outputs": [],
   "source": [
    "b.compile()"
   ]
  },
  {
   "cell_type": "code",
   "execution_count": null,
   "id": "c975aab012b2706f",
   "metadata": {
    "ExecuteTime": {
     "start_time": "2024-01-21T21:29:21.999855Z"
    },
    "collapsed": false,
    "jupyter": {
     "outputs_hidden": false
    }
   },
   "outputs": [],
   "source": [
    "doc = b.document()\n",
    "doc"
   ]
  },
  {
   "cell_type": "code",
   "execution_count": null,
   "id": "752e43636bf9fd17",
   "metadata": {
    "ExecuteTime": {
     "start_time": "2024-01-21T21:29:22.001078Z"
    },
    "collapsed": false,
    "jupyter": {
     "outputs_hidden": false
    }
   },
   "outputs": [],
   "source": [
    "b.write(filename='toy_bigraph')"
   ]
  },
  {
   "cell_type": "code",
   "execution_count": null,
   "id": "c88f8059a315792e",
   "metadata": {
    "ExecuteTime": {
     "start_time": "2024-01-21T21:29:22.001943Z"
    },
    "collapsed": false,
    "jupyter": {
     "outputs_hidden": false
    }
   },
   "outputs": [],
   "source": []
  }
 ],
 "metadata": {
  "kernelspec": {
   "display_name": "venv",
   "language": "python",
   "name": "venv"
  },
  "language_info": {
   "codemirror_mode": {
    "name": "ipython",
    "version": 3
   },
   "file_extension": ".py",
   "mimetype": "text/x-python",
   "name": "python",
   "nbconvert_exporter": "python",
   "pygments_lexer": "ipython3",
   "version": "3.9.6"
  }
 },
 "nbformat": 4,
 "nbformat_minor": 5
}
