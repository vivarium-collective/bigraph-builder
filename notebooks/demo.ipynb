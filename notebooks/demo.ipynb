{
 "cells": [
  {
   "cell_type": "markdown",
   "id": "808b6a4b-0894-4a8e-99d8-bf11b3164b6a",
   "metadata": {},
   "source": [
    "# Bigraph-Builder Demo"
   ]
  },
  {
   "cell_type": "code",
   "execution_count": 1,
   "id": "b385dca6-942d-472c-9963-13b8cb33843c",
   "metadata": {
    "ExecuteTime": {
     "end_time": "2024-03-05T01:06:35.803193Z",
     "start_time": "2024-03-05T01:06:35.164919Z"
    }
   },
   "outputs": [],
   "source": [
    "from builder import Builder, Process, ProcessTypes"
   ]
  },
  {
   "cell_type": "markdown",
   "id": "a403d619-4dbe-49cc-8f24-29a83e31fe15",
   "metadata": {},
   "source": [
    "## Initialize the builder"
   ]
  },
  {
   "cell_type": "code",
   "execution_count": 2,
   "id": "b6260555-2bad-4834-adc5-e6d358063579",
   "metadata": {
    "ExecuteTime": {
     "end_time": "2024-03-05T01:06:35.849027Z",
     "start_time": "2024-03-05T01:06:35.804294Z"
    }
   },
   "outputs": [],
   "source": [
    "core = ProcessTypes()\n",
    "b = Builder(core=core)"
   ]
  },
  {
   "cell_type": "code",
   "execution_count": 3,
   "id": "0f177358-bab3-42ae-9a30-a76262d0a119",
   "metadata": {
    "ExecuteTime": {
     "end_time": "2024-03-05T01:06:35.853468Z",
     "start_time": "2024-03-05T01:06:35.849853Z"
    }
   },
   "outputs": [
    {
     "data": {
      "text/plain": [
       "<bigraph_schema.registry.Registry at 0x1063e72e0>"
      ]
     },
     "execution_count": 3,
     "metadata": {},
     "output_type": "execute_result"
    }
   ],
   "source": [
    "core.process_registry"
   ]
  },
  {
   "cell_type": "code",
   "execution_count": 4,
   "id": "504cdc74-56c3-473a-9ce8-1075de0d30d0",
   "metadata": {
    "ExecuteTime": {
     "end_time": "2024-03-05T01:06:35.857458Z",
     "start_time": "2024-03-05T01:06:35.854910Z"
    }
   },
   "outputs": [
    {
     "data": {
      "text/plain": [
       "<bigraph_schema.registry.TypeRegistry at 0x1062aec70>"
      ]
     },
     "execution_count": 4,
     "metadata": {},
     "output_type": "execute_result"
    }
   ],
   "source": [
    "core.type_registry"
   ]
  },
  {
   "cell_type": "markdown",
   "id": "dd85f98e-c5e3-467b-97ab-1ced7e810a17",
   "metadata": {},
   "source": [
    "### register new types"
   ]
  },
  {
   "cell_type": "code",
   "execution_count": 5,
   "id": "30297af1-2d65-43d9-9ab7-0589d94a8cfe",
   "metadata": {
    "ExecuteTime": {
     "end_time": "2024-03-05T01:06:35.860253Z",
     "start_time": "2024-03-05T01:06:35.858381Z"
    }
   },
   "outputs": [],
   "source": [
    "b.register_type(\n",
    "    'default 1', {\n",
    "        '_inherit': 'float',\n",
    "        '_default': 1.0})"
   ]
  },
  {
   "cell_type": "code",
   "execution_count": 6,
   "id": "fa947283-8520-422f-8891-662934bec059",
   "metadata": {
    "ExecuteTime": {
     "end_time": "2024-03-05T01:06:35.863951Z",
     "start_time": "2024-03-05T01:06:35.861010Z"
    }
   },
   "outputs": [
    {
     "data": {
      "text/plain": [
       "['integer',\n",
       " '',\n",
       " 'luminosity/length^2',\n",
       " 'tuple',\n",
       " 'current^2*time^3/length^2*mass',\n",
       " 'length/time',\n",
       " 'substance/length^3',\n",
       " 'current*time/mass',\n",
       " 'length^2*mass/temperature*time^2',\n",
       " 'current*length*time',\n",
       " 'step',\n",
       " 'printing_unit/length',\n",
       " 'wires',\n",
       " 'current^2*time^4/length^2*mass',\n",
       " 'length^2/time^2',\n",
       " 'length^1_5*mass^0_5/time^2',\n",
       " 'mass^0_5/length^0_5*time',\n",
       " 'length*mass/time^2',\n",
       " 'process',\n",
       " 'length^3/mass*time^2',\n",
       " 'tree',\n",
       " 'length/mass',\n",
       " 'length^2*mass/time^2',\n",
       " '/substance',\n",
       " 'length^4*mass/current*time^3',\n",
       " 'substance',\n",
       " 'length^0_5*mass^0_5/time',\n",
       " 'length^2*mass/current^2*time^2',\n",
       " 'time',\n",
       " 'mass/length*time^2',\n",
       " 'mass/current*time^2',\n",
       " 'length^4*mass/time^3',\n",
       " 'length^2*mass/current*time^2',\n",
       " 'default 1',\n",
       " 'list',\n",
       " 'array',\n",
       " 'length/time^2',\n",
       " 'protocol',\n",
       " 'length^2*mass/current^2*time^3',\n",
       " 'current*time^2/length^2*mass',\n",
       " 'length^3/time',\n",
       " 'current*length^2',\n",
       " 'length*mass/current*time^3',\n",
       " 'temperature',\n",
       " 'current',\n",
       " 'length*mass/current^2*time^2',\n",
       " 'current*length^2*time',\n",
       " 'substance/time',\n",
       " 'maybe',\n",
       " 'length*time/mass',\n",
       " 'printing_unit',\n",
       " 'length^2*mass/time',\n",
       " 'boolean',\n",
       " 'mass^0_5/length^1_5',\n",
       " 'number',\n",
       " 'luminosity',\n",
       " 'any',\n",
       " 'map',\n",
       " '/length',\n",
       " 'length^2/time',\n",
       " 'mass/temperature^4*time^3',\n",
       " 'union',\n",
       " 'length^3',\n",
       " 'time^2/length',\n",
       " 'length^1_5*mass^0_5/time',\n",
       " 'length^2*mass/time^3',\n",
       " 'length^2',\n",
       " 'interval',\n",
       " 'mass/length^3',\n",
       " 'current*time',\n",
       " 'current^2*time^4/length^3*mass',\n",
       " 'float',\n",
       " 'length',\n",
       " 'schema',\n",
       " '/printing_unit',\n",
       " 'string',\n",
       " 'path',\n",
       " 'mass',\n",
       " 'length^3*mass/current^2*time^4',\n",
       " 'length^0_5*mass^0_5',\n",
       " 'edge',\n",
       " '/time',\n",
       " 'length^2*mass/current*time^3',\n",
       " 'current*time/substance',\n",
       " 'mass/length',\n",
       " '/temperature*time',\n",
       " 'length^2*mass/substance*temperature*time^2',\n",
       " 'mass/time^3',\n",
       " 'length*temperature',\n",
       " 'mass/length*time',\n",
       " 'time/length',\n",
       " 'mass/time^2']"
      ]
     },
     "execution_count": 6,
     "metadata": {},
     "output_type": "execute_result"
    }
   ],
   "source": [
    "b.list_types()"
   ]
  },
  {
   "cell_type": "markdown",
   "id": "4f7cb796-ae5f-4209-b81c-dec1544f0840",
   "metadata": {},
   "source": [
    "## Register processes"
   ]
  },
  {
   "cell_type": "markdown",
   "id": "603e75fd-7b86-4e4c-9e95-adb9faf9668b",
   "metadata": {},
   "source": [
    "### list built-in processes"
   ]
  },
  {
   "cell_type": "code",
   "execution_count": 7,
   "id": "979e0bd85a31d4b0",
   "metadata": {
    "ExecuteTime": {
     "end_time": "2024-03-05T01:06:35.867236Z",
     "start_time": "2024-03-05T01:06:35.864659Z"
    },
    "collapsed": false,
    "jupyter": {
     "outputs_hidden": false
    }
   },
   "outputs": [
    {
     "data": {
      "text/plain": [
       "['ram-emitter', 'console-emitter']"
      ]
     },
     "execution_count": 7,
     "metadata": {},
     "output_type": "execute_result"
    }
   ],
   "source": [
    "b.list_processes()"
   ]
  },
  {
   "cell_type": "markdown",
   "id": "9710444c-97c5-484c-83b0-8d82c3fdb92f",
   "metadata": {},
   "source": [
    "### register process with process class"
   ]
  },
  {
   "cell_type": "code",
   "execution_count": 8,
   "id": "5bff2ea4-42f9-430e-b1cc-f0581510ec8d",
   "metadata": {
    "ExecuteTime": {
     "end_time": "2024-03-05T01:06:35.871137Z",
     "start_time": "2024-03-05T01:06:35.867922Z"
    }
   },
   "outputs": [],
   "source": [
    "from process_bigraph.experiments.minimal_gillespie import GillespieEvent\n",
    "b.register_process('GillespieEvent', GillespieEvent)"
   ]
  },
  {
   "cell_type": "markdown",
   "id": "c3635047-66dd-4c80-85ea-481c74da2a86",
   "metadata": {},
   "source": [
    "### register process by address\n",
    "currently only supports local addresses, but the plan is to support remote addresses and different protocols"
   ]
  },
  {
   "cell_type": "code",
   "execution_count": 9,
   "id": "f2893d4a-c13a-4d95-b85e-d5e9dce53a89",
   "metadata": {
    "ExecuteTime": {
     "end_time": "2024-03-05T01:06:35.873904Z",
     "start_time": "2024-03-05T01:06:35.871929Z"
    }
   },
   "outputs": [],
   "source": [
    "b.register_process(\n",
    "    'GillespieInterval',\n",
    "    address='process_bigraph.experiments.minimal_gillespie.GillespieInterval',  \n",
    ")"
   ]
  },
  {
   "cell_type": "markdown",
   "id": "731974c5-b470-4ddf-a037-4d4aeebc7b42",
   "metadata": {},
   "source": [
    "### register with decorator"
   ]
  },
  {
   "cell_type": "code",
   "execution_count": 10,
   "id": "aec69dcc-471e-4c18-b22b-824cfe440e79",
   "metadata": {
    "ExecuteTime": {
     "end_time": "2024-03-05T01:06:35.879127Z",
     "start_time": "2024-03-05T01:06:35.876367Z"
    }
   },
   "outputs": [],
   "source": [
    "@b.register_process('toy')\n",
    "class Toy(Process):\n",
    "    config_schema = {\n",
    "        'A': 'float',\n",
    "        'B': 'float'}\n",
    "\n",
    "    def __init__(self, config, core):\n",
    "        super().__init__(config, core)\n",
    "\n",
    "    def schema(self):\n",
    "        return {\n",
    "            'inputs': {\n",
    "                'A': 'float',\n",
    "                'B': 'float'},\n",
    "            'outputs': {\n",
    "                'C': 'float'}}\n",
    "\n",
    "    def update(self, state, interval):\n",
    "        update = {'C': state['A'] + state['B']}\n",
    "        return update\n"
   ]
  },
  {
   "cell_type": "markdown",
   "id": "a108cbf0-a594-41d4-996a-de9bf9b6aeea",
   "metadata": {},
   "source": [
    "### list registered processes"
   ]
  },
  {
   "cell_type": "code",
   "execution_count": 11,
   "id": "40cde984-cfdf-4571-af9c-3a3755e3763c",
   "metadata": {
    "ExecuteTime": {
     "end_time": "2024-03-05T01:06:35.882531Z",
     "start_time": "2024-03-05T01:06:35.879972Z"
    }
   },
   "outputs": [
    {
     "data": {
      "text/plain": [
       "['console-emitter',\n",
       " 'GillespieInterval',\n",
       " 'ram-emitter',\n",
       " 'GillespieEvent',\n",
       " 'toy']"
      ]
     },
     "execution_count": 11,
     "metadata": {},
     "output_type": "execute_result"
    }
   ],
   "source": [
    "b.list_processes()"
   ]
  },
  {
   "cell_type": "markdown",
   "id": "dfa2d764-8cdb-4a1e-84c5-fd81cc4e6afe",
   "metadata": {},
   "source": [
    "## Add processes to the bigraph"
   ]
  },
  {
   "cell_type": "markdown",
   "id": "49cca341-3f7d-4ac8-be5a-6a7e9f6c4872",
   "metadata": {},
   "source": [
    "### add event_process"
   ]
  },
  {
   "cell_type": "code",
   "execution_count": 12,
   "id": "503863ee-0a58-44b3-accc-20e0167b947b",
   "metadata": {
    "ExecuteTime": {
     "end_time": "2024-03-05T01:06:35.885338Z",
     "start_time": "2024-03-05T01:06:35.883323Z"
    }
   },
   "outputs": [],
   "source": [
    "b['event_process'].add_process(\n",
    "    name='GillespieEvent',\n",
    "    kdeg=1.0,  # kwargs fill parameters in the config\n",
    ")"
   ]
  },
  {
   "cell_type": "code",
   "execution_count": 13,
   "id": "b094f1e5-5202-48d0-8bdd-57bbdded7fd1",
   "metadata": {
    "ExecuteTime": {
     "end_time": "2024-03-05T01:06:35.956718Z",
     "start_time": "2024-03-05T01:06:35.886159Z"
    }
   },
   "outputs": [
    {
     "data": {
      "image/svg+xml": [
       "<?xml version=\"1.0\" encoding=\"UTF-8\" standalone=\"no\"?>\n",
       "<!DOCTYPE svg PUBLIC \"-//W3C//DTD SVG 1.1//EN\"\n",
       " \"http://www.w3.org/Graphics/SVG/1.1/DTD/svg11.dtd\">\n",
       "<!-- Generated by graphviz version 9.0.0 (0)\n",
       " -->\n",
       "<!-- Title: bigraph Pages: 1 -->\n",
       "<svg width=\"180pt\" height=\"123pt\"\n",
       " viewBox=\"0.00 0.00 185.58 126.00\" xmlns=\"http://www.w3.org/2000/svg\" xmlns:xlink=\"http://www.w3.org/1999/xlink\">\n",
       "<g id=\"graph0\" class=\"graph\" transform=\"scale(0.972222 0.972222) rotate(0) translate(4 122)\">\n",
       "<title>bigraph</title>\n",
       "<polygon fill=\"white\" stroke=\"none\" points=\"-4,4 -4,-122 181.58,-122 181.58,4 -4,4\"/>\n",
       "<!-- (&#39;emitter&#39;,) -->\n",
       "<g id=\"node1\" class=\"node\">\n",
       "<title>(&#39;emitter&#39;,)</title>\n",
       "<polygon fill=\"none\" stroke=\"black\" stroke-width=\"2\" points=\"54,-118 0,-118 0,-82 54,-82 54,-118\"/>\n",
       "<text text-anchor=\"start\" x=\"10.01\" y=\"-96.4\" font-family=\"Times,serif\" font-size=\"12.00\">emitter</text>\n",
       "</g>\n",
       "<!-- (&#39;event_process&#39;,) -->\n",
       "<g id=\"node2\" class=\"node\">\n",
       "<title>(&#39;event_process&#39;,)</title>\n",
       "<polygon fill=\"none\" stroke=\"black\" stroke-width=\"2\" points=\"149.59,-36 74.41,-36 74.41,0 149.59,0 149.59,-36\"/>\n",
       "<text text-anchor=\"start\" x=\"78.01\" y=\"-14.4\" font-family=\"Times,serif\" font-size=\"12.00\">event_process</text>\n",
       "</g>\n",
       "<!-- (&#39;event_process&#39;, &#39;m&#39;, &#39;R&#39;, &#39;N&#39;, &#39;A&#39;) -->\n",
       "<!-- (&#39;event_process&#39;, &#39;m&#39;, &#39;R&#39;, &#39;N&#39;, &#39;A&#39;)&#45;&gt;(&#39;event_process&#39;,) -->\n",
       "<g id=\"edge1\" class=\"edge\">\n",
       "<title>(&#39;event_process&#39;, &#39;m&#39;, &#39;R&#39;, &#39;N&#39;, &#39;A&#39;)&#45;&gt;(&#39;event_process&#39;,)</title>\n",
       "<path fill=\"none\" stroke=\"black\" stroke-dasharray=\"5,2\" d=\"M75.32,-90.1C65.84,-81.06 54.46,-66.64 61.11,-54 62.94,-50.53 65.28,-47.33 67.96,-44.4\"/>\n",
       "<polygon fill=\"black\" stroke=\"black\" points=\"70.08,-47.2 75.11,-37.88 65.37,-42.03 70.08,-47.2\"/>\n",
       "<text text-anchor=\"start\" x=\"61\" y=\"-56\" font-family=\"Times,serif\" font-size=\"10.00\">mRNA</text>\n",
       "</g>\n",
       "<!-- (&#39;event_process&#39;, &#39;m&#39;, &#39;R&#39;, &#39;N&#39;, &#39;A&#39;)&#45;&gt;(&#39;event_process&#39;,) -->\n",
       "<g id=\"edge3\" class=\"edge\">\n",
       "<title>(&#39;event_process&#39;, &#39;m&#39;, &#39;R&#39;, &#39;N&#39;, &#39;A&#39;)&#45;&gt;(&#39;event_process&#39;,)</title>\n",
       "<path fill=\"none\" stroke=\"black\" stroke-dasharray=\"5,2\" d=\"M93.7,-75.31C97.7,-63.01 102.5,-48.22 106.19,-36.89\"/>\n",
       "<polygon fill=\"black\" stroke=\"black\" points=\"90.41,-74.12 90.65,-84.71 97.06,-76.28 90.41,-74.12\"/>\n",
       "<text text-anchor=\"start\" x=\"100\" y=\"-56\" font-family=\"Times,serif\" font-size=\"10.00\">mRNA</text>\n",
       "</g>\n",
       "<!-- (&#39;event_process&#39;, &#39;D&#39;, &#39;N&#39;, &#39;A&#39;) -->\n",
       "<!-- (&#39;event_process&#39;, &#39;D&#39;, &#39;N&#39;, &#39;A&#39;)&#45;&gt;(&#39;event_process&#39;,) -->\n",
       "<g id=\"edge2\" class=\"edge\">\n",
       "<title>(&#39;event_process&#39;, &#39;D&#39;, &#39;N&#39;, &#39;A&#39;)&#45;&gt;(&#39;event_process&#39;,)</title>\n",
       "<path fill=\"none\" stroke=\"black\" stroke-dasharray=\"5,2\" d=\"M156.55,-87.54C149.57,-76.8 138.86,-60.33 129.69,-46.22\"/>\n",
       "<polygon fill=\"black\" stroke=\"black\" points=\"132.87,-44.68 124.48,-38.21 127,-48.5 132.87,-44.68\"/>\n",
       "<text text-anchor=\"start\" x=\"141\" y=\"-56\" font-family=\"Times,serif\" font-size=\"10.00\">DNA</text>\n",
       "</g>\n",
       "</g>\n",
       "</svg>\n"
      ],
      "text/plain": [
       "<graphviz.graphs.Digraph at 0x10640bf70>"
      ]
     },
     "execution_count": 13,
     "metadata": {},
     "output_type": "execute_result"
    }
   ],
   "source": [
    "# visualize shows the process with its disconnected ports\n",
    "b.visualize()"
   ]
  },
  {
   "cell_type": "markdown",
   "id": "0238392e-5d1f-403d-98c9-785576a0d91b",
   "metadata": {},
   "source": [
    "### print ports"
   ]
  },
  {
   "cell_type": "code",
   "execution_count": 14,
   "id": "5ea31425-a8bb-45c3-a31d-77714cc8c137",
   "metadata": {
    "ExecuteTime": {
     "end_time": "2024-03-05T01:06:35.960415Z",
     "start_time": "2024-03-05T01:06:35.957772Z"
    }
   },
   "outputs": [
    {
     "name": "stdout",
     "output_type": "stream",
     "text": [
      "{ '_inputs': { 'DNA': {'A gene': 'float', 'B gene': 'float'},\n",
      "               'mRNA': 'map[float]'},\n",
      "  '_outputs': {'mRNA': 'map[float]'}}\n"
     ]
    }
   ],
   "source": [
    "b['event_process'].interface(True)"
   ]
  },
  {
   "cell_type": "markdown",
   "id": "8068e0af-ebdd-4f01-8c54-4fb3b07fc21e",
   "metadata": {},
   "source": [
    "### connect ports using connect_all\n",
    "`Builder.connect_all` connects ports to stores of the same name."
   ]
  },
  {
   "cell_type": "code",
   "execution_count": 15,
   "id": "c9f462bb-5316-4724-aa8e-b3b71eb379b2",
   "metadata": {
    "ExecuteTime": {
     "end_time": "2024-03-05T01:06:35.964314Z",
     "start_time": "2024-03-05T01:06:35.961540Z"
    }
   },
   "outputs": [
    {
     "data": {
      "text/plain": [
       "Builder({ 'emitter': { '_type': 'step',\n",
       "               'address': 'local:ram-emitter',\n",
       "               'config': {'emit': {}},\n",
       "               'inputs': {},\n",
       "               'instance': <process_bigraph.composite.RAMEmitter object at 0x1063e73d0>,\n",
       "               'outputs': {}},\n",
       "  'event_process': { '_type': 'process',\n",
       "                     'address': 'local:GillespieEvent',\n",
       "                     'config': {'kdeg': 1.0, 'ktsc': 5.0},\n",
       "                     'inputs': {'DNA': ['DNA_store'], 'mRNA': ['mRNA_store']},\n",
       "                     'instance': <process_bigraph.experiments.minimal_gillespie.GillespieEvent object at 0x10640b790>,\n",
       "                     'interval': 1.0,\n",
       "                     'outputs': {'mRNA': ['mRNA_store']}}})"
      ]
     },
     "execution_count": 15,
     "metadata": {},
     "output_type": "execute_result"
    }
   ],
   "source": [
    "b.connect_all(append_to_store_name='_store')\n",
    "b"
   ]
  },
  {
   "cell_type": "code",
   "execution_count": 16,
   "id": "79809baf-1d87-475a-b85f-3729f4716cb4",
   "metadata": {
    "ExecuteTime": {
     "end_time": "2024-03-05T01:06:35.982919Z",
     "start_time": "2024-03-05T01:06:35.965151Z"
    }
   },
   "outputs": [
    {
     "data": {
      "image/svg+xml": [
       "<?xml version=\"1.0\" encoding=\"UTF-8\" standalone=\"no\"?>\n",
       "<!DOCTYPE svg PUBLIC \"-//W3C//DTD SVG 1.1//EN\"\n",
       " \"http://www.w3.org/Graphics/SVG/1.1/DTD/svg11.dtd\">\n",
       "<!-- Generated by graphviz version 9.0.0 (0)\n",
       " -->\n",
       "<!-- Title: bigraph Pages: 1 -->\n",
       "<svg width=\"270pt\" height=\"181pt\"\n",
       " viewBox=\"0.00 0.00 278.08 186.47\" xmlns=\"http://www.w3.org/2000/svg\" xmlns:xlink=\"http://www.w3.org/1999/xlink\">\n",
       "<g id=\"graph0\" class=\"graph\" transform=\"scale(0.972222 0.972222) rotate(0) translate(4 182.47)\">\n",
       "<title>bigraph</title>\n",
       "<polygon fill=\"white\" stroke=\"none\" points=\"-4,4 -4,-182.47 274.08,-182.47 274.08,4 -4,4\"/>\n",
       "<!-- (&#39;mRNA_store&#39;,) -->\n",
       "<g id=\"node1\" class=\"node\">\n",
       "<title>(&#39;mRNA_store&#39;,)</title>\n",
       "<ellipse fill=\"none\" stroke=\"black\" stroke-width=\"2\" cx=\"42.08\" cy=\"-136.39\" rx=\"42.08\" ry=\"42.08\"/>\n",
       "<text text-anchor=\"start\" x=\"10.08\" y=\"-132.79\" font-family=\"Times,serif\" font-size=\"12.00\">mRNA_store</text>\n",
       "</g>\n",
       "<!-- (&#39;event_process&#39;,) -->\n",
       "<g id=\"node6\" class=\"node\">\n",
       "<title>(&#39;event_process&#39;,)</title>\n",
       "<polygon fill=\"none\" stroke=\"black\" stroke-width=\"2\" points=\"109.67,-42.15 34.5,-42.15 34.5,-6.15 109.67,-6.15 109.67,-42.15\"/>\n",
       "<text text-anchor=\"start\" x=\"38.1\" y=\"-20.55\" font-family=\"Times,serif\" font-size=\"12.00\">event_process</text>\n",
       "</g>\n",
       "<!-- (&#39;mRNA_store&#39;,)&#45;&gt;(&#39;event_process&#39;,) -->\n",
       "<g id=\"edge3\" class=\"edge\">\n",
       "<title>(&#39;mRNA_store&#39;,)&#45;&gt;(&#39;event_process&#39;,)</title>\n",
       "<path fill=\"none\" stroke=\"black\" stroke-dasharray=\"5,2\" d=\"M21.11,-99.11C17.5,-88.3 16.28,-76.6 21.19,-66.31 24.01,-60.39 28.15,-55.06 32.86,-50.34\"/>\n",
       "<polygon fill=\"black\" stroke=\"black\" points=\"34.88,-53.22 40.06,-43.98 30.25,-47.97 34.88,-53.22\"/>\n",
       "<text text-anchor=\"start\" x=\"22.08\" y=\"-68.31\" font-family=\"Times,serif\" font-size=\"10.00\">mRNA</text>\n",
       "</g>\n",
       "<!-- (&#39;mRNA_store&#39;,)&#45;&gt;(&#39;event_process&#39;,) -->\n",
       "<g id=\"edge5\" class=\"edge\">\n",
       "<title>(&#39;mRNA_store&#39;,)&#45;&gt;(&#39;event_process&#39;,)</title>\n",
       "<path fill=\"none\" stroke=\"black\" stroke-dasharray=\"5,2\" d=\"M56.09,-83.9C60.08,-69.26 64.16,-54.27 67.2,-43.1\"/>\n",
       "<polygon fill=\"black\" stroke=\"black\" points=\"52.73,-82.94 53.48,-93.51 59.48,-84.78 52.73,-82.94\"/>\n",
       "<text text-anchor=\"start\" x=\"61.08\" y=\"-68.31\" font-family=\"Times,serif\" font-size=\"10.00\">mRNA</text>\n",
       "</g>\n",
       "<!-- (&#39;DNA_store&#39;,) -->\n",
       "<g id=\"node2\" class=\"node\">\n",
       "<title>(&#39;DNA_store&#39;,)</title>\n",
       "<ellipse fill=\"none\" stroke=\"black\" stroke-width=\"2\" cx=\"161.08\" cy=\"-136.39\" rx=\"36.96\" ry=\"36.96\"/>\n",
       "<text text-anchor=\"start\" x=\"133.42\" y=\"-132.79\" font-family=\"Times,serif\" font-size=\"12.00\">DNA_store</text>\n",
       "</g>\n",
       "<!-- (&#39;DNA_store&#39;, &#39;A gene&#39;) -->\n",
       "<g id=\"node3\" class=\"node\">\n",
       "<title>(&#39;DNA_store&#39;, &#39;A gene&#39;)</title>\n",
       "<ellipse fill=\"none\" stroke=\"black\" stroke-width=\"2\" cx=\"161.08\" cy=\"-24.15\" rx=\"24.15\" ry=\"24.15\"/>\n",
       "<text text-anchor=\"start\" x=\"144.25\" y=\"-20.55\" font-family=\"Times,serif\" font-size=\"12.00\">A gene</text>\n",
       "</g>\n",
       "<!-- (&#39;DNA_store&#39;,)&#45;&gt;(&#39;DNA_store&#39;, &#39;A gene&#39;) -->\n",
       "<g id=\"edge1\" class=\"edge\">\n",
       "<title>(&#39;DNA_store&#39;,)&#45;&gt;(&#39;DNA_store&#39;, &#39;A gene&#39;)</title>\n",
       "<path fill=\"none\" stroke=\"black\" stroke-width=\"2\" d=\"M161.08,-98.68C161.08,-82.4 161.08,-63.69 161.08,-49.22\"/>\n",
       "</g>\n",
       "<!-- (&#39;DNA_store&#39;, &#39;B gene&#39;) -->\n",
       "<g id=\"node4\" class=\"node\">\n",
       "<title>(&#39;DNA_store&#39;, &#39;B gene&#39;)</title>\n",
       "<ellipse fill=\"none\" stroke=\"black\" stroke-width=\"2\" cx=\"227.08\" cy=\"-24.15\" rx=\"24.15\" ry=\"24.15\"/>\n",
       "<text text-anchor=\"start\" x=\"210.25\" y=\"-20.55\" font-family=\"Times,serif\" font-size=\"12.00\">B gene</text>\n",
       "</g>\n",
       "<!-- (&#39;DNA_store&#39;,)&#45;&gt;(&#39;DNA_store&#39;, &#39;B gene&#39;) -->\n",
       "<g id=\"edge2\" class=\"edge\">\n",
       "<title>(&#39;DNA_store&#39;,)&#45;&gt;(&#39;DNA_store&#39;, &#39;B gene&#39;)</title>\n",
       "<path fill=\"none\" stroke=\"black\" stroke-width=\"2\" d=\"M180,-103.8C191.12,-85.22 204.87,-62.25 214.63,-45.95\"/>\n",
       "</g>\n",
       "<!-- (&#39;DNA_store&#39;,)&#45;&gt;(&#39;event_process&#39;,) -->\n",
       "<g id=\"edge4\" class=\"edge\">\n",
       "<title>(&#39;DNA_store&#39;,)&#45;&gt;(&#39;event_process&#39;,)</title>\n",
       "<path fill=\"none\" stroke=\"black\" stroke-dasharray=\"5,2\" d=\"M137.93,-106.71C124.2,-89.7 106.91,-68.29 93.5,-51.68\"/>\n",
       "<polygon fill=\"black\" stroke=\"black\" points=\"96.44,-49.76 87.44,-44.17 91,-54.15 96.44,-49.76\"/>\n",
       "<text text-anchor=\"start\" x=\"112.08\" y=\"-68.31\" font-family=\"Times,serif\" font-size=\"10.00\">DNA</text>\n",
       "</g>\n",
       "<!-- (&#39;emitter&#39;,) -->\n",
       "<g id=\"node5\" class=\"node\">\n",
       "<title>(&#39;emitter&#39;,)</title>\n",
       "<polygon fill=\"none\" stroke=\"black\" stroke-width=\"2\" points=\"270.08,-154.39 216.08,-154.39 216.08,-118.39 270.08,-118.39 270.08,-154.39\"/>\n",
       "<text text-anchor=\"start\" x=\"226.09\" y=\"-132.79\" font-family=\"Times,serif\" font-size=\"12.00\">emitter</text>\n",
       "</g>\n",
       "</g>\n",
       "</svg>\n"
      ],
      "text/plain": [
       "<graphviz.graphs.Digraph at 0x1063fff70>"
      ]
     },
     "execution_count": 16,
     "metadata": {},
     "output_type": "execute_result"
    }
   ],
   "source": [
    "b.visualize()"
   ]
  },
  {
   "cell_type": "markdown",
   "id": "c7687da5-6992-447b-a51b-14373984597f",
   "metadata": {},
   "source": [
    "### add interval process to the config"
   ]
  },
  {
   "cell_type": "code",
   "execution_count": 17,
   "id": "f02c15797bdb73b8",
   "metadata": {
    "ExecuteTime": {
     "end_time": "2024-03-05T01:06:35.986588Z",
     "start_time": "2024-03-05T01:06:35.983933Z"
    },
    "collapsed": false,
    "jupyter": {
     "outputs_hidden": false
    }
   },
   "outputs": [],
   "source": [
    "b['interval_process'].add_process(\n",
    "    name='GillespieInterval',\n",
    ")"
   ]
  },
  {
   "cell_type": "code",
   "execution_count": 18,
   "id": "aeb344bcd6a120ae",
   "metadata": {
    "ExecuteTime": {
     "end_time": "2024-03-05T01:06:36.006247Z",
     "start_time": "2024-03-05T01:06:35.987494Z"
    },
    "collapsed": false,
    "jupyter": {
     "outputs_hidden": false
    }
   },
   "outputs": [
    {
     "data": {
      "image/svg+xml": [
       "<?xml version=\"1.0\" encoding=\"UTF-8\" standalone=\"no\"?>\n",
       "<!DOCTYPE svg PUBLIC \"-//W3C//DTD SVG 1.1//EN\"\n",
       " \"http://www.w3.org/Graphics/SVG/1.1/DTD/svg11.dtd\">\n",
       "<!-- Generated by graphviz version 9.0.0 (0)\n",
       " -->\n",
       "<!-- Title: bigraph Pages: 1 -->\n",
       "<svg width=\"409pt\" height=\"181pt\"\n",
       " viewBox=\"0.00 0.00 420.66 186.47\" xmlns=\"http://www.w3.org/2000/svg\" xmlns:xlink=\"http://www.w3.org/1999/xlink\">\n",
       "<g id=\"graph0\" class=\"graph\" transform=\"scale(0.972222 0.972222) rotate(0) translate(4 182.47)\">\n",
       "<title>bigraph</title>\n",
       "<polygon fill=\"white\" stroke=\"none\" points=\"-4,4 -4,-182.47 416.66,-182.47 416.66,4 -4,4\"/>\n",
       "<!-- (&#39;mRNA_store&#39;,) -->\n",
       "<g id=\"node1\" class=\"node\">\n",
       "<title>(&#39;mRNA_store&#39;,)</title>\n",
       "<ellipse fill=\"none\" stroke=\"black\" stroke-width=\"2\" cx=\"42.08\" cy=\"-136.39\" rx=\"42.08\" ry=\"42.08\"/>\n",
       "<text text-anchor=\"start\" x=\"10.08\" y=\"-132.79\" font-family=\"Times,serif\" font-size=\"12.00\">mRNA_store</text>\n",
       "</g>\n",
       "<!-- (&#39;event_process&#39;,) -->\n",
       "<g id=\"node6\" class=\"node\">\n",
       "<title>(&#39;event_process&#39;,)</title>\n",
       "<polygon fill=\"none\" stroke=\"black\" stroke-width=\"2\" points=\"109.67,-42.15 34.5,-42.15 34.5,-6.15 109.67,-6.15 109.67,-42.15\"/>\n",
       "<text text-anchor=\"start\" x=\"38.1\" y=\"-20.55\" font-family=\"Times,serif\" font-size=\"12.00\">event_process</text>\n",
       "</g>\n",
       "<!-- (&#39;mRNA_store&#39;,)&#45;&gt;(&#39;event_process&#39;,) -->\n",
       "<g id=\"edge3\" class=\"edge\">\n",
       "<title>(&#39;mRNA_store&#39;,)&#45;&gt;(&#39;event_process&#39;,)</title>\n",
       "<path fill=\"none\" stroke=\"black\" stroke-dasharray=\"5,2\" d=\"M21.11,-99.11C17.5,-88.3 16.28,-76.6 21.19,-66.31 24.01,-60.39 28.15,-55.06 32.86,-50.34\"/>\n",
       "<polygon fill=\"black\" stroke=\"black\" points=\"34.88,-53.22 40.06,-43.98 30.25,-47.97 34.88,-53.22\"/>\n",
       "<text text-anchor=\"start\" x=\"22.08\" y=\"-68.31\" font-family=\"Times,serif\" font-size=\"10.00\">mRNA</text>\n",
       "</g>\n",
       "<!-- (&#39;mRNA_store&#39;,)&#45;&gt;(&#39;event_process&#39;,) -->\n",
       "<g id=\"edge5\" class=\"edge\">\n",
       "<title>(&#39;mRNA_store&#39;,)&#45;&gt;(&#39;event_process&#39;,)</title>\n",
       "<path fill=\"none\" stroke=\"black\" stroke-dasharray=\"5,2\" d=\"M56.09,-83.9C60.08,-69.26 64.16,-54.27 67.2,-43.1\"/>\n",
       "<polygon fill=\"black\" stroke=\"black\" points=\"52.73,-82.94 53.48,-93.51 59.48,-84.78 52.73,-82.94\"/>\n",
       "<text text-anchor=\"start\" x=\"61.08\" y=\"-68.31\" font-family=\"Times,serif\" font-size=\"10.00\">mRNA</text>\n",
       "</g>\n",
       "<!-- (&#39;DNA_store&#39;,) -->\n",
       "<g id=\"node2\" class=\"node\">\n",
       "<title>(&#39;DNA_store&#39;,)</title>\n",
       "<ellipse fill=\"none\" stroke=\"black\" stroke-width=\"2\" cx=\"161.08\" cy=\"-136.39\" rx=\"36.96\" ry=\"36.96\"/>\n",
       "<text text-anchor=\"start\" x=\"133.42\" y=\"-132.79\" font-family=\"Times,serif\" font-size=\"12.00\">DNA_store</text>\n",
       "</g>\n",
       "<!-- (&#39;DNA_store&#39;, &#39;A gene&#39;) -->\n",
       "<g id=\"node3\" class=\"node\">\n",
       "<title>(&#39;DNA_store&#39;, &#39;A gene&#39;)</title>\n",
       "<ellipse fill=\"none\" stroke=\"black\" stroke-width=\"2\" cx=\"161.08\" cy=\"-24.15\" rx=\"24.15\" ry=\"24.15\"/>\n",
       "<text text-anchor=\"start\" x=\"144.25\" y=\"-20.55\" font-family=\"Times,serif\" font-size=\"12.00\">A gene</text>\n",
       "</g>\n",
       "<!-- (&#39;DNA_store&#39;,)&#45;&gt;(&#39;DNA_store&#39;, &#39;A gene&#39;) -->\n",
       "<g id=\"edge1\" class=\"edge\">\n",
       "<title>(&#39;DNA_store&#39;,)&#45;&gt;(&#39;DNA_store&#39;, &#39;A gene&#39;)</title>\n",
       "<path fill=\"none\" stroke=\"black\" stroke-width=\"2\" d=\"M161.08,-98.68C161.08,-82.4 161.08,-63.69 161.08,-49.22\"/>\n",
       "</g>\n",
       "<!-- (&#39;DNA_store&#39;, &#39;B gene&#39;) -->\n",
       "<g id=\"node4\" class=\"node\">\n",
       "<title>(&#39;DNA_store&#39;, &#39;B gene&#39;)</title>\n",
       "<ellipse fill=\"none\" stroke=\"black\" stroke-width=\"2\" cx=\"227.08\" cy=\"-24.15\" rx=\"24.15\" ry=\"24.15\"/>\n",
       "<text text-anchor=\"start\" x=\"210.25\" y=\"-20.55\" font-family=\"Times,serif\" font-size=\"12.00\">B gene</text>\n",
       "</g>\n",
       "<!-- (&#39;DNA_store&#39;,)&#45;&gt;(&#39;DNA_store&#39;, &#39;B gene&#39;) -->\n",
       "<g id=\"edge2\" class=\"edge\">\n",
       "<title>(&#39;DNA_store&#39;,)&#45;&gt;(&#39;DNA_store&#39;, &#39;B gene&#39;)</title>\n",
       "<path fill=\"none\" stroke=\"black\" stroke-width=\"2\" d=\"M180,-103.8C191.12,-85.22 204.87,-62.25 214.63,-45.95\"/>\n",
       "</g>\n",
       "<!-- (&#39;DNA_store&#39;,)&#45;&gt;(&#39;event_process&#39;,) -->\n",
       "<g id=\"edge4\" class=\"edge\">\n",
       "<title>(&#39;DNA_store&#39;,)&#45;&gt;(&#39;event_process&#39;,)</title>\n",
       "<path fill=\"none\" stroke=\"black\" stroke-dasharray=\"5,2\" d=\"M137.93,-106.71C124.2,-89.7 106.91,-68.29 93.5,-51.68\"/>\n",
       "<polygon fill=\"black\" stroke=\"black\" points=\"96.44,-49.76 87.44,-44.17 91,-54.15 96.44,-49.76\"/>\n",
       "<text text-anchor=\"start\" x=\"112.08\" y=\"-68.31\" font-family=\"Times,serif\" font-size=\"10.00\">DNA</text>\n",
       "</g>\n",
       "<!-- (&#39;emitter&#39;,) -->\n",
       "<g id=\"node5\" class=\"node\">\n",
       "<title>(&#39;emitter&#39;,)</title>\n",
       "<polygon fill=\"none\" stroke=\"black\" stroke-width=\"2\" points=\"270.08,-154.39 216.08,-154.39 216.08,-118.39 270.08,-118.39 270.08,-154.39\"/>\n",
       "<text text-anchor=\"start\" x=\"226.09\" y=\"-132.79\" font-family=\"Times,serif\" font-size=\"12.00\">emitter</text>\n",
       "</g>\n",
       "<!-- (&#39;interval_process&#39;,) -->\n",
       "<g id=\"node7\" class=\"node\">\n",
       "<title>(&#39;interval_process&#39;,)</title>\n",
       "<polygon fill=\"none\" stroke=\"black\" stroke-width=\"2\" points=\"390,-42.15 304.16,-42.15 304.16,-6.15 390,-6.15 390,-42.15\"/>\n",
       "<text text-anchor=\"start\" x=\"307.76\" y=\"-20.55\" font-family=\"Times,serif\" font-size=\"12.00\">interval_process</text>\n",
       "</g>\n",
       "<!-- (&#39;interval_process&#39;, &#39;D&#39;, &#39;N&#39;, &#39;A&#39;) -->\n",
       "<!-- (&#39;interval_process&#39;, &#39;D&#39;, &#39;N&#39;, &#39;A&#39;)&#45;&gt;(&#39;interval_process&#39;,) -->\n",
       "<g id=\"edge6\" class=\"edge\">\n",
       "<title>(&#39;interval_process&#39;, &#39;D&#39;, &#39;N&#39;, &#39;A&#39;)&#45;&gt;(&#39;interval_process&#39;,)</title>\n",
       "<path fill=\"none\" stroke=\"black\" stroke-dasharray=\"5,2\" d=\"M307.01,-111.42C310.24,-97.85 315.04,-80.76 321.42,-66.31 324.95,-58.29 329.85,-50 334.42,-42.97\"/>\n",
       "<polygon fill=\"black\" stroke=\"black\" points=\"303.68,-110.28 304.92,-120.8 310.51,-111.8 303.68,-110.28\"/>\n",
       "<text text-anchor=\"start\" x=\"322.08\" y=\"-68.31\" font-family=\"Times,serif\" font-size=\"10.00\">DNA</text>\n",
       "</g>\n",
       "<!-- (&#39;interval_process&#39;, &#39;m&#39;, &#39;R&#39;, &#39;N&#39;, &#39;A&#39;) -->\n",
       "<!-- (&#39;interval_process&#39;, &#39;m&#39;, &#39;R&#39;, &#39;N&#39;, &#39;A&#39;)&#45;&gt;(&#39;interval_process&#39;,) -->\n",
       "<g id=\"edge7\" class=\"edge\">\n",
       "<title>(&#39;interval_process&#39;, &#39;m&#39;, &#39;R&#39;, &#39;N&#39;, &#39;A&#39;)&#45;&gt;(&#39;interval_process&#39;,)</title>\n",
       "<path fill=\"none\" stroke=\"black\" stroke-dasharray=\"5,2\" d=\"M347.08,-110.54C347.08,-89.92 347.08,-61.11 347.08,-42.79\"/>\n",
       "<polygon fill=\"black\" stroke=\"black\" points=\"343.58,-110.36 347.08,-120.36 350.58,-110.36 343.58,-110.36\"/>\n",
       "<text text-anchor=\"start\" x=\"347.08\" y=\"-68.31\" font-family=\"Times,serif\" font-size=\"10.00\">mRNA</text>\n",
       "</g>\n",
       "<!-- (&#39;interval_process&#39;, &#39;i&#39;, &#39;n&#39;, &#39;t&#39;, &#39;e&#39;, &#39;r&#39;, &#39;v&#39;, &#39;a&#39;, &#39;l&#39;) -->\n",
       "<!-- (&#39;interval_process&#39;, &#39;i&#39;, &#39;n&#39;, &#39;t&#39;, &#39;e&#39;, &#39;r&#39;, &#39;v&#39;, &#39;a&#39;, &#39;l&#39;)&#45;&gt;(&#39;interval_process&#39;,) -->\n",
       "<g id=\"edge8\" class=\"edge\">\n",
       "<title>(&#39;interval_process&#39;, &#39;i&#39;, &#39;n&#39;, &#39;t&#39;, &#39;e&#39;, &#39;r&#39;, &#39;v&#39;, &#39;a&#39;, &#39;l&#39;)&#45;&gt;(&#39;interval_process&#39;,)</title>\n",
       "<path fill=\"none\" stroke=\"black\" stroke-dasharray=\"5,2\" d=\"M393.45,-111.25C389.77,-97.64 384.3,-80.55 377.08,-66.31 372.93,-58.1 367.2,-49.77 361.86,-42.77\"/>\n",
       "<polygon fill=\"black\" stroke=\"black\" points=\"389.99,-111.87 395.84,-120.7 396.78,-110.15 389.99,-111.87\"/>\n",
       "<text text-anchor=\"start\" x=\"381.08\" y=\"-68.31\" font-family=\"Times,serif\" font-size=\"10.00\">interval</text>\n",
       "</g>\n",
       "</g>\n",
       "</svg>\n"
      ],
      "text/plain": [
       "<graphviz.graphs.Digraph at 0x10640c8b0>"
      ]
     },
     "execution_count": 18,
     "metadata": {},
     "output_type": "execute_result"
    }
   ],
   "source": [
    "b.visualize()"
   ]
  },
  {
   "cell_type": "markdown",
   "id": "be3f6695-80ed-4819-a121-de29c5cce23e",
   "metadata": {},
   "source": [
    "### connect port to specific target"
   ]
  },
  {
   "cell_type": "code",
   "execution_count": 19,
   "id": "a5a1f48a-41aa-4768-b931-ad268495d836",
   "metadata": {
    "ExecuteTime": {
     "end_time": "2024-03-05T01:06:36.010180Z",
     "start_time": "2024-03-05T01:06:36.007521Z"
    }
   },
   "outputs": [],
   "source": [
    "# to connect a port in a more targeted way, use connect and specify the port and its target path\n",
    "b['interval_process'].connect(port='interval', target=['event_process', 'interval']) \n",
    "\n",
    "# the remaining ports can connect_all\n",
    "b.connect_all() "
   ]
  },
  {
   "cell_type": "code",
   "execution_count": 20,
   "id": "b21b54ae-49e8-47ad-bc88-1327a8e9d230",
   "metadata": {
    "ExecuteTime": {
     "end_time": "2024-03-05T01:06:36.030350Z",
     "start_time": "2024-03-05T01:06:36.010948Z"
    }
   },
   "outputs": [
    {
     "data": {
      "image/svg+xml": [
       "<?xml version=\"1.0\" encoding=\"UTF-8\" standalone=\"no\"?>\n",
       "<!DOCTYPE svg PUBLIC \"-//W3C//DTD SVG 1.1//EN\"\n",
       " \"http://www.w3.org/Graphics/SVG/1.1/DTD/svg11.dtd\">\n",
       "<!-- Generated by graphviz version 9.0.0 (0)\n",
       " -->\n",
       "<!-- Title: bigraph Pages: 1 -->\n",
       "<svg width=\"521pt\" height=\"195pt\"\n",
       " viewBox=\"0.00 0.00 535.41 200.68\" xmlns=\"http://www.w3.org/2000/svg\" xmlns:xlink=\"http://www.w3.org/1999/xlink\">\n",
       "<g id=\"graph0\" class=\"graph\" transform=\"scale(0.972222 0.972222) rotate(0) translate(4 196.68)\">\n",
       "<title>bigraph</title>\n",
       "<polygon fill=\"white\" stroke=\"none\" points=\"-4,4 -4,-196.68 531.41,-196.68 531.41,4 -4,4\"/>\n",
       "<!-- (&#39;mRNA_store&#39;,) -->\n",
       "<g id=\"node1\" class=\"node\">\n",
       "<title>(&#39;mRNA_store&#39;,)</title>\n",
       "<ellipse fill=\"none\" stroke=\"black\" stroke-width=\"2\" cx=\"145.26\" cy=\"-150.6\" rx=\"42.08\" ry=\"42.08\"/>\n",
       "<text text-anchor=\"start\" x=\"113.26\" y=\"-147\" font-family=\"Times,serif\" font-size=\"12.00\">mRNA_store</text>\n",
       "</g>\n",
       "<!-- (&#39;mRNA_store&#39;, &#39;A mRNA&#39;) -->\n",
       "<g id=\"node2\" class=\"node\">\n",
       "<title>(&#39;mRNA_store&#39;, &#39;A mRNA&#39;)</title>\n",
       "<ellipse fill=\"none\" stroke=\"black\" stroke-width=\"2\" cx=\"31.26\" cy=\"-31.26\" rx=\"31.26\" ry=\"31.26\"/>\n",
       "<text text-anchor=\"start\" x=\"8.42\" y=\"-27.66\" font-family=\"Times,serif\" font-size=\"12.00\">A mRNA</text>\n",
       "</g>\n",
       "<!-- (&#39;mRNA_store&#39;,)&#45;&gt;(&#39;mRNA_store&#39;, &#39;A mRNA&#39;) -->\n",
       "<g id=\"edge1\" class=\"edge\">\n",
       "<title>(&#39;mRNA_store&#39;,)&#45;&gt;(&#39;mRNA_store&#39;, &#39;A mRNA&#39;)</title>\n",
       "<path fill=\"none\" stroke=\"black\" stroke-width=\"2\" d=\"M115.9,-119.38C96.24,-99.14 70.79,-72.95 52.95,-54.59\"/>\n",
       "</g>\n",
       "<!-- (&#39;mRNA_store&#39;, &#39;B mRNA&#39;) -->\n",
       "<g id=\"node3\" class=\"node\">\n",
       "<title>(&#39;mRNA_store&#39;, &#39;B mRNA&#39;)</title>\n",
       "<ellipse fill=\"none\" stroke=\"black\" stroke-width=\"2\" cx=\"112.26\" cy=\"-31.26\" rx=\"31.25\" ry=\"31.25\"/>\n",
       "<text text-anchor=\"start\" x=\"89.42\" y=\"-27.66\" font-family=\"Times,serif\" font-size=\"12.00\">B mRNA</text>\n",
       "</g>\n",
       "<!-- (&#39;mRNA_store&#39;,)&#45;&gt;(&#39;mRNA_store&#39;, &#39;B mRNA&#39;) -->\n",
       "<g id=\"edge2\" class=\"edge\">\n",
       "<title>(&#39;mRNA_store&#39;,)&#45;&gt;(&#39;mRNA_store&#39;, &#39;B mRNA&#39;)</title>\n",
       "<path fill=\"none\" stroke=\"black\" stroke-width=\"2\" d=\"M131.97,-109.67C129.97,-103.29 128,-96.74 126.26,-90.51 123.73,-81.5 121.25,-71.62 119.09,-62.6\"/>\n",
       "</g>\n",
       "<!-- (&#39;event_process&#39;,) -->\n",
       "<g id=\"node8\" class=\"node\">\n",
       "<title>(&#39;event_process&#39;,)</title>\n",
       "<polygon fill=\"none\" stroke=\"black\" stroke-width=\"2\" points=\"236.84,-49.26 161.67,-49.26 161.67,-13.26 236.84,-13.26 236.84,-49.26\"/>\n",
       "<text text-anchor=\"start\" x=\"165.27\" y=\"-27.66\" font-family=\"Times,serif\" font-size=\"12.00\">event_process</text>\n",
       "</g>\n",
       "<!-- (&#39;mRNA_store&#39;,)&#45;&gt;(&#39;event_process&#39;,) -->\n",
       "<g id=\"edge5\" class=\"edge\">\n",
       "<title>(&#39;mRNA_store&#39;,)&#45;&gt;(&#39;event_process&#39;,)</title>\n",
       "<path fill=\"none\" stroke=\"black\" stroke-dasharray=\"5,2\" d=\"M164.75,-112.31C168.35,-105.12 171.99,-97.62 175.26,-90.51 179.68,-80.87 184.2,-70.16 188.11,-60.59\"/>\n",
       "<polygon fill=\"black\" stroke=\"black\" points=\"191.32,-61.99 191.8,-51.41 184.82,-59.38 191.32,-61.99\"/>\n",
       "<text text-anchor=\"start\" x=\"180.26\" y=\"-82.51\" font-family=\"Times,serif\" font-size=\"10.00\">mRNA</text>\n",
       "</g>\n",
       "<!-- (&#39;mRNA_store&#39;,)&#45;&gt;(&#39;event_process&#39;,) -->\n",
       "<g id=\"edge9\" class=\"edge\">\n",
       "<title>(&#39;mRNA_store&#39;,)&#45;&gt;(&#39;event_process&#39;,)</title>\n",
       "<path fill=\"none\" stroke=\"black\" stroke-dasharray=\"5,2\" d=\"M137.83,-97.29C138.52,-91.47 139.94,-85.76 142.36,-80.51 148.02,-68.29 158.48,-58.03 168.89,-50.16\"/>\n",
       "<polygon fill=\"black\" stroke=\"black\" points=\"134.35,-96.87 137.38,-107.02 141.34,-97.19 134.35,-96.87\"/>\n",
       "<text text-anchor=\"start\" x=\"143.26\" y=\"-82.51\" font-family=\"Times,serif\" font-size=\"10.00\">mRNA</text>\n",
       "</g>\n",
       "<!-- (&#39;interval_process&#39;,) -->\n",
       "<g id=\"node9\" class=\"node\">\n",
       "<title>(&#39;interval_process&#39;,)</title>\n",
       "<polygon fill=\"none\" stroke=\"black\" stroke-width=\"2\" points=\"344.18,-49.26 258.34,-49.26 258.34,-13.26 344.18,-13.26 344.18,-49.26\"/>\n",
       "<text text-anchor=\"start\" x=\"261.94\" y=\"-27.66\" font-family=\"Times,serif\" font-size=\"12.00\">interval_process</text>\n",
       "</g>\n",
       "<!-- (&#39;mRNA_store&#39;,)&#45;&gt;(&#39;interval_process&#39;,) -->\n",
       "<g id=\"edge8\" class=\"edge\">\n",
       "<title>(&#39;mRNA_store&#39;,)&#45;&gt;(&#39;interval_process&#39;,)</title>\n",
       "<path fill=\"none\" stroke=\"black\" stroke-dasharray=\"5,2\" d=\"M179.11,-124.13C205.6,-104.2 242.23,-76.65 268.46,-56.93\"/>\n",
       "<polygon fill=\"black\" stroke=\"black\" points=\"270.51,-59.76 276.4,-50.95 266.31,-54.17 270.51,-59.76\"/>\n",
       "<text text-anchor=\"start\" x=\"233.26\" y=\"-82.51\" font-family=\"Times,serif\" font-size=\"10.00\">mRNA</text>\n",
       "</g>\n",
       "<!-- (&#39;DNA_store&#39;,) -->\n",
       "<g id=\"node4\" class=\"node\">\n",
       "<title>(&#39;DNA_store&#39;,)</title>\n",
       "<ellipse fill=\"none\" stroke=\"black\" stroke-width=\"2\" cx=\"418.26\" cy=\"-150.6\" rx=\"36.96\" ry=\"36.96\"/>\n",
       "<text text-anchor=\"start\" x=\"390.59\" y=\"-147\" font-family=\"Times,serif\" font-size=\"12.00\">DNA_store</text>\n",
       "</g>\n",
       "<!-- (&#39;DNA_store&#39;, &#39;A gene&#39;) -->\n",
       "<g id=\"node5\" class=\"node\">\n",
       "<title>(&#39;DNA_store&#39;, &#39;A gene&#39;)</title>\n",
       "<ellipse fill=\"none\" stroke=\"black\" stroke-width=\"2\" cx=\"503.26\" cy=\"-31.26\" rx=\"24.15\" ry=\"24.15\"/>\n",
       "<text text-anchor=\"start\" x=\"486.43\" y=\"-27.66\" font-family=\"Times,serif\" font-size=\"12.00\">A gene</text>\n",
       "</g>\n",
       "<!-- (&#39;DNA_store&#39;,)&#45;&gt;(&#39;DNA_store&#39;, &#39;A gene&#39;) -->\n",
       "<g id=\"edge3\" class=\"edge\">\n",
       "<title>(&#39;DNA_store&#39;,)&#45;&gt;(&#39;DNA_store&#39;, &#39;A gene&#39;)</title>\n",
       "<path fill=\"none\" stroke=\"black\" stroke-width=\"2\" d=\"M439.93,-119.68C455.37,-98.36 475.69,-70.31 489.1,-51.8\"/>\n",
       "</g>\n",
       "<!-- (&#39;DNA_store&#39;, &#39;B gene&#39;) -->\n",
       "<g id=\"node6\" class=\"node\">\n",
       "<title>(&#39;DNA_store&#39;, &#39;B gene&#39;)</title>\n",
       "<ellipse fill=\"none\" stroke=\"black\" stroke-width=\"2\" cx=\"437.26\" cy=\"-31.26\" rx=\"24.15\" ry=\"24.15\"/>\n",
       "<text text-anchor=\"start\" x=\"420.43\" y=\"-27.66\" font-family=\"Times,serif\" font-size=\"12.00\">B gene</text>\n",
       "</g>\n",
       "<!-- (&#39;DNA_store&#39;,)&#45;&gt;(&#39;DNA_store&#39;, &#39;B gene&#39;) -->\n",
       "<g id=\"edge4\" class=\"edge\">\n",
       "<title>(&#39;DNA_store&#39;,)&#45;&gt;(&#39;DNA_store&#39;, &#39;B gene&#39;)</title>\n",
       "<path fill=\"none\" stroke=\"black\" stroke-width=\"2\" d=\"M424.16,-113.11C427.19,-94.41 430.79,-72.18 433.45,-55.77\"/>\n",
       "</g>\n",
       "<!-- (&#39;DNA_store&#39;,)&#45;&gt;(&#39;event_process&#39;,) -->\n",
       "<g id=\"edge6\" class=\"edge\">\n",
       "<title>(&#39;DNA_store&#39;,)&#45;&gt;(&#39;event_process&#39;,)</title>\n",
       "<path fill=\"none\" stroke=\"black\" stroke-dasharray=\"5,2\" d=\"M392.59,-123.28C376.79,-108.57 355.38,-91.11 333.26,-80.51 298.82,-64.02 284.75,-76.59 249.26,-62.51 244.51,-60.63 239.7,-58.32 235.04,-55.82\"/>\n",
       "<polygon fill=\"black\" stroke=\"black\" points=\"236.86,-52.83 226.44,-50.9 233.38,-58.91 236.86,-52.83\"/>\n",
       "<text text-anchor=\"start\" x=\"349.26\" y=\"-82.51\" font-family=\"Times,serif\" font-size=\"10.00\">DNA</text>\n",
       "</g>\n",
       "<!-- (&#39;DNA_store&#39;,)&#45;&gt;(&#39;interval_process&#39;,) -->\n",
       "<g id=\"edge7\" class=\"edge\">\n",
       "<title>(&#39;DNA_store&#39;,)&#45;&gt;(&#39;interval_process&#39;,)</title>\n",
       "<path fill=\"none\" stroke=\"black\" stroke-dasharray=\"5,2\" d=\"M403.1,-116.07C396.58,-103.97 388.17,-90.78 378.26,-80.51 369.27,-71.21 358.14,-62.91 347.17,-55.94\"/>\n",
       "<polygon fill=\"black\" stroke=\"black\" points=\"349.28,-53.12 338.91,-50.94 345.65,-59.11 349.28,-53.12\"/>\n",
       "<text text-anchor=\"start\" x=\"387.26\" y=\"-82.51\" font-family=\"Times,serif\" font-size=\"10.00\">DNA</text>\n",
       "</g>\n",
       "<!-- (&#39;emitter&#39;,) -->\n",
       "<g id=\"node7\" class=\"node\">\n",
       "<title>(&#39;emitter&#39;,)</title>\n",
       "<polygon fill=\"none\" stroke=\"black\" stroke-width=\"2\" points=\"527.26,-168.6 473.26,-168.6 473.26,-132.6 527.26,-132.6 527.26,-168.6\"/>\n",
       "<text text-anchor=\"start\" x=\"483.26\" y=\"-147\" font-family=\"Times,serif\" font-size=\"12.00\">emitter</text>\n",
       "</g>\n",
       "<!-- (&#39;event_process&#39;, &#39;interval&#39;) -->\n",
       "<g id=\"node10\" class=\"node\">\n",
       "<title>(&#39;event_process&#39;, &#39;interval&#39;)</title>\n",
       "<ellipse fill=\"none\" stroke=\"black\" stroke-width=\"2\" cx=\"301.26\" cy=\"-150.6\" rx=\"25.92\" ry=\"25.92\"/>\n",
       "<text text-anchor=\"start\" x=\"282.93\" y=\"-147\" font-family=\"Times,serif\" font-size=\"12.00\">interval</text>\n",
       "</g>\n",
       "<!-- (&#39;event_process&#39;, &#39;interval&#39;)&#45;&gt;(&#39;interval_process&#39;,) -->\n",
       "<g id=\"edge10\" class=\"edge\">\n",
       "<title>(&#39;event_process&#39;, &#39;interval&#39;)&#45;&gt;(&#39;interval_process&#39;,)</title>\n",
       "<path fill=\"none\" stroke=\"black\" stroke-dasharray=\"5,2\" d=\"M301.26,-112.44C301.26,-91.56 301.26,-66.44 301.26,-49.95\"/>\n",
       "<polygon fill=\"black\" stroke=\"black\" points=\"297.76,-112.33 301.26,-122.33 304.76,-112.33 297.76,-112.33\"/>\n",
       "<text text-anchor=\"start\" x=\"301.26\" y=\"-82.51\" font-family=\"Times,serif\" font-size=\"10.00\">interval</text>\n",
       "</g>\n",
       "</g>\n",
       "</svg>\n"
      ],
      "text/plain": [
       "<graphviz.graphs.Digraph at 0x10640c5b0>"
      ]
     },
     "execution_count": 20,
     "metadata": {},
     "output_type": "execute_result"
    }
   ],
   "source": [
    "b.visualize()"
   ]
  },
  {
   "cell_type": "markdown",
   "id": "ed3131ee-c607-42e5-88a3-930a84eedf0f",
   "metadata": {},
   "source": [
    "### check current Builder config"
   ]
  },
  {
   "cell_type": "code",
   "execution_count": 21,
   "id": "6e00749f-03b8-496e-9a10-106dbac3713f",
   "metadata": {
    "ExecuteTime": {
     "end_time": "2024-03-05T01:06:36.034551Z",
     "start_time": "2024-03-05T01:06:36.031467Z"
    }
   },
   "outputs": [
    {
     "data": {
      "text/plain": [
       "Builder({ 'DNA_store': {'A gene': 0.0, 'B gene': 0.0},\n",
       "  'emitter': { '_type': 'step',\n",
       "               'address': 'local:ram-emitter',\n",
       "               'config': {'emit': {}},\n",
       "               'inputs': {},\n",
       "               'instance': <process_bigraph.composite.RAMEmitter object at 0x1063e73d0>,\n",
       "               'outputs': {}},\n",
       "  'event_process': { '_type': 'process',\n",
       "                     'address': 'local:GillespieEvent',\n",
       "                     'config': {'kdeg': 1.0, 'ktsc': 5.0},\n",
       "                     'inputs': {'DNA': ['DNA_store'], 'mRNA': ['mRNA_store']},\n",
       "                     'instance': <process_bigraph.experiments.minimal_gillespie.GillespieEvent object at 0x10640b790>,\n",
       "                     'interval': 1.0,\n",
       "                     'outputs': {'mRNA': ['mRNA_store']}},\n",
       "  'interval_process': { '_type': 'step',\n",
       "                        'address': 'local:GillespieInterval',\n",
       "                        'config': {'kdeg': 0.1, 'ktsc': 5.0},\n",
       "                        'inputs': { 'DNA': ['DNA_store'],\n",
       "                                    'mRNA': ['mRNA_store']},\n",
       "                        'instance': <process_bigraph.experiments.minimal_gillespie.GillespieInterval object at 0x10640c220>,\n",
       "                        'outputs': {'interval': ['event_process', 'interval']}},\n",
       "  'mRNA_store': {}})"
      ]
     },
     "execution_count": 21,
     "metadata": {},
     "output_type": "execute_result"
    }
   ],
   "source": [
    "b"
   ]
  },
  {
   "cell_type": "markdown",
   "id": "9fd708e8-0688-4b97-a50c-e3d0a1c78d83",
   "metadata": {},
   "source": [
    "## Update the initial state"
   ]
  },
  {
   "cell_type": "code",
   "execution_count": 22,
   "id": "212f4501-8050-4c39-88b8-986b3c38e716",
   "metadata": {
    "ExecuteTime": {
     "end_time": "2024-03-05T01:06:36.037632Z",
     "start_time": "2024-03-05T01:06:36.035306Z"
    }
   },
   "outputs": [],
   "source": [
    "initial_state = {\n",
    "    'DNA_store': {\n",
    "        'A gene': 2.0,\n",
    "        'B gene': 1.0},\n",
    "}\n",
    "b.update(initial_state)"
   ]
  },
  {
   "cell_type": "code",
   "execution_count": 23,
   "id": "6b531c8f-e790-4aca-b0a4-77b081dd1fb7",
   "metadata": {
    "ExecuteTime": {
     "end_time": "2024-03-05T01:06:36.040913Z",
     "start_time": "2024-03-05T01:06:36.038385Z"
    }
   },
   "outputs": [
    {
     "data": {
      "text/plain": [
       "Builder({ 'DNA_store': {'A gene': 2.0, 'B gene': 1.0},\n",
       "  'emitter': { '_type': 'step',\n",
       "               'address': 'local:ram-emitter',\n",
       "               'config': {'emit': {}},\n",
       "               'inputs': {},\n",
       "               'instance': <process_bigraph.composite.RAMEmitter object at 0x1063e73d0>,\n",
       "               'outputs': {}},\n",
       "  'event_process': { '_type': 'process',\n",
       "                     'address': 'local:GillespieEvent',\n",
       "                     'config': {'kdeg': 1.0, 'ktsc': 5.0},\n",
       "                     'inputs': {'DNA': ['DNA_store'], 'mRNA': ['mRNA_store']},\n",
       "                     'instance': <process_bigraph.experiments.minimal_gillespie.GillespieEvent object at 0x10640b790>,\n",
       "                     'interval': 1.0,\n",
       "                     'outputs': {'mRNA': ['mRNA_store']}},\n",
       "  'interval_process': { '_type': 'step',\n",
       "                        'address': 'local:GillespieInterval',\n",
       "                        'config': {'kdeg': 0.1, 'ktsc': 5.0},\n",
       "                        'inputs': { 'DNA': ['DNA_store'],\n",
       "                                    'mRNA': ['mRNA_store']},\n",
       "                        'instance': <process_bigraph.experiments.minimal_gillespie.GillespieInterval object at 0x10640c220>,\n",
       "                        'outputs': {'interval': ['event_process', 'interval']}},\n",
       "  'mRNA_store': {'A mRNA': 1.0, 'B mRNA': 1.0}})"
      ]
     },
     "execution_count": 23,
     "metadata": {},
     "output_type": "execute_result"
    }
   ],
   "source": [
    "b"
   ]
  },
  {
   "cell_type": "markdown",
   "id": "305582d1-f701-4a55-88a3-f8ec21643033",
   "metadata": {},
   "source": [
    "## Generate composite from builder config and simulate"
   ]
  },
  {
   "cell_type": "code",
   "execution_count": 24,
   "id": "e9a69f36-154c-416e-b00c-5df0726be49e",
   "metadata": {
    "ExecuteTime": {
     "end_time": "2024-03-05T01:06:36.049438Z",
     "start_time": "2024-03-05T01:06:36.041610Z"
    }
   },
   "outputs": [
    {
     "name": "stdout",
     "output_type": "stream",
     "text": [
      "produced interval: {'interval': 5.68020763460701}\n",
      "received interval: 5.68020763460701\n",
      "produced interval: {'interval': 9.681534786044224}\n"
     ]
    }
   ],
   "source": [
    "composite = b.generate()\n",
    "composite.run(10)"
   ]
  },
  {
   "cell_type": "code",
   "execution_count": 25,
   "id": "578492a9-027d-4c5b-b90a-7d63e3f46bc0",
   "metadata": {
    "ExecuteTime": {
     "end_time": "2024-03-05T01:06:36.052596Z",
     "start_time": "2024-03-05T01:06:36.050246Z"
    }
   },
   "outputs": [
    {
     "data": {
      "text/plain": [
       "{}"
      ]
     },
     "execution_count": 25,
     "metadata": {},
     "output_type": "execute_result"
    }
   ],
   "source": [
    "composite.gather_results()"
   ]
  },
  {
   "cell_type": "markdown",
   "id": "743960b7-a6d3-41af-8737-2776a66c60cd",
   "metadata": {},
   "source": [
    "## Retrieve the composite document"
   ]
  },
  {
   "cell_type": "code",
   "execution_count": 26,
   "id": "c975aab012b2706f",
   "metadata": {
    "ExecuteTime": {
     "end_time": "2024-03-05T01:06:36.056239Z",
     "start_time": "2024-03-05T01:06:36.053317Z"
    },
    "collapsed": false,
    "jupyter": {
     "outputs_hidden": false
    }
   },
   "outputs": [
    {
     "data": {
      "text/plain": [
       "{'emitter': {'_type': 'step',\n",
       "  'address': 'local:ram-emitter',\n",
       "  'config': {'emit': {}},\n",
       "  'inputs': {},\n",
       "  'outputs': {}},\n",
       " 'event_process': {'_type': 'process',\n",
       "  'address': 'local:GillespieEvent',\n",
       "  'config': {'kdeg': 1.0, 'ktsc': 5.0},\n",
       "  'inputs': {'mRNA': ['mRNA_store'], 'DNA': ['DNA_store']},\n",
       "  'outputs': {'mRNA': ['mRNA_store']},\n",
       "  'interval': 9.681534786044224},\n",
       " 'mRNA_store': {'A mRNA': '2.0', 'B mRNA': '1.0'},\n",
       " 'DNA_store': {'A gene': '2.0', 'B gene': '1.0'},\n",
       " 'interval_process': {'_type': 'step',\n",
       "  'address': 'local:GillespieInterval',\n",
       "  'config': {'ktsc': 5.0, 'kdeg': 0.1},\n",
       "  'inputs': {'DNA': ['DNA_store'], 'mRNA': ['mRNA_store']},\n",
       "  'outputs': {'interval': ['event_process', 'interval']}},\n",
       " 'global_time': '10.0'}"
      ]
     },
     "execution_count": 26,
     "metadata": {},
     "output_type": "execute_result"
    }
   ],
   "source": [
    "doc = b.document()\n",
    "doc"
   ]
  },
  {
   "cell_type": "markdown",
   "id": "b32a13ed-134d-4de1-a1ed-b72807b4af45",
   "metadata": {},
   "source": [
    "### save the document to file"
   ]
  },
  {
   "cell_type": "code",
   "execution_count": 27,
   "id": "752e43636bf9fd17",
   "metadata": {
    "ExecuteTime": {
     "end_time": "2024-03-05T01:06:36.059428Z",
     "start_time": "2024-03-05T01:06:36.057038Z"
    },
    "collapsed": false,
    "jupyter": {
     "outputs_hidden": false
    }
   },
   "outputs": [
    {
     "name": "stdout",
     "output_type": "stream",
     "text": [
      "File 'toy_bigraph' successfully written in 'out' directory.\n"
     ]
    }
   ],
   "source": [
    "b.write(filename='toy_bigraph')"
   ]
  },
  {
   "cell_type": "markdown",
   "id": "ebdd7599-0b0e-4f79-a8ab-d507a81646d8",
   "metadata": {
    "ExecuteTime": {
     "start_time": "2024-01-21T21:29:22.001943Z"
    },
    "collapsed": false,
    "jupyter": {
     "outputs_hidden": false
    }
   },
   "source": [
    "### load a composite from document\n",
    "This document represents the full state of the composite, and so can reproduce the previous composite when loaded into a fresh Builder"
   ]
  },
  {
   "cell_type": "code",
   "execution_count": 28,
   "id": "56b14beb-27de-469d-b4e6-10fc628e15e0",
   "metadata": {
    "ExecuteTime": {
     "end_time": "2024-03-05T01:06:36.067311Z",
     "start_time": "2024-03-05T01:06:36.063319Z"
    }
   },
   "outputs": [
    {
     "data": {
      "text/plain": [
       "Builder({ 'DNA_store': {'A gene': 2.0, 'B gene': 1.0},\n",
       "  'emitter': { '_type': 'step',\n",
       "               'address': 'local:ram-emitter',\n",
       "               'config': {'emit': {}},\n",
       "               'inputs': {},\n",
       "               'instance': <process_bigraph.composite.RAMEmitter object at 0x1064280a0>,\n",
       "               'outputs': {}},\n",
       "  'event_process': { '_type': 'process',\n",
       "                     'address': 'local:GillespieEvent',\n",
       "                     'config': {'kdeg': 1.0, 'ktsc': 5.0},\n",
       "                     'inputs': {'DNA': ['DNA_store'], 'mRNA': ['mRNA_store']},\n",
       "                     'instance': <process_bigraph.experiments.minimal_gillespie.GillespieEvent object at 0x106428220>,\n",
       "                     'interval': 9.681534786044224,\n",
       "                     'outputs': {'mRNA': ['mRNA_store']}},\n",
       "  'global_time': '10.0',\n",
       "  'interval_process': { '_type': 'step',\n",
       "                        'address': 'local:GillespieInterval',\n",
       "                        'config': {'kdeg': 0.1, 'ktsc': 5.0},\n",
       "                        'inputs': { 'DNA': ['DNA_store'],\n",
       "                                    'mRNA': ['mRNA_store']},\n",
       "                        'instance': <process_bigraph.experiments.minimal_gillespie.GillespieInterval object at 0x106428970>,\n",
       "                        'outputs': {'interval': ['event_process', 'interval']}},\n",
       "  'mRNA_store': {'A mRNA': 2.0, 'B mRNA': 1.0}})"
      ]
     },
     "execution_count": 28,
     "metadata": {},
     "output_type": "execute_result"
    }
   ],
   "source": [
    "b2 = Builder(core=core, file_path='out/toy_bigraph.json')\n",
    "b2"
   ]
  },
  {
   "cell_type": "code",
   "execution_count": 29,
   "id": "6197f4c3-41ca-468b-929f-cc0ebc1fabe9",
   "metadata": {
    "ExecuteTime": {
     "end_time": "2024-03-05T01:06:36.087030Z",
     "start_time": "2024-03-05T01:06:36.068237Z"
    }
   },
   "outputs": [
    {
     "data": {
      "image/svg+xml": [
       "<?xml version=\"1.0\" encoding=\"UTF-8\" standalone=\"no\"?>\n",
       "<!DOCTYPE svg PUBLIC \"-//W3C//DTD SVG 1.1//EN\"\n",
       " \"http://www.w3.org/Graphics/SVG/1.1/DTD/svg11.dtd\">\n",
       "<!-- Generated by graphviz version 9.0.0 (0)\n",
       " -->\n",
       "<!-- Title: bigraph Pages: 1 -->\n",
       "<svg width=\"521pt\" height=\"195pt\"\n",
       " viewBox=\"0.00 0.00 535.41 200.68\" xmlns=\"http://www.w3.org/2000/svg\" xmlns:xlink=\"http://www.w3.org/1999/xlink\">\n",
       "<g id=\"graph0\" class=\"graph\" transform=\"scale(0.972222 0.972222) rotate(0) translate(4 196.68)\">\n",
       "<title>bigraph</title>\n",
       "<polygon fill=\"white\" stroke=\"none\" points=\"-4,4 -4,-196.68 531.41,-196.68 531.41,4 -4,4\"/>\n",
       "<!-- (&#39;mRNA_store&#39;,) -->\n",
       "<g id=\"node1\" class=\"node\">\n",
       "<title>(&#39;mRNA_store&#39;,)</title>\n",
       "<ellipse fill=\"none\" stroke=\"black\" stroke-width=\"2\" cx=\"145.26\" cy=\"-150.6\" rx=\"42.08\" ry=\"42.08\"/>\n",
       "<text text-anchor=\"start\" x=\"113.26\" y=\"-147\" font-family=\"Times,serif\" font-size=\"12.00\">mRNA_store</text>\n",
       "</g>\n",
       "<!-- (&#39;mRNA_store&#39;, &#39;A mRNA&#39;) -->\n",
       "<g id=\"node2\" class=\"node\">\n",
       "<title>(&#39;mRNA_store&#39;, &#39;A mRNA&#39;)</title>\n",
       "<ellipse fill=\"none\" stroke=\"black\" stroke-width=\"2\" cx=\"31.26\" cy=\"-31.26\" rx=\"31.26\" ry=\"31.26\"/>\n",
       "<text text-anchor=\"start\" x=\"8.42\" y=\"-27.66\" font-family=\"Times,serif\" font-size=\"12.00\">A mRNA</text>\n",
       "</g>\n",
       "<!-- (&#39;mRNA_store&#39;,)&#45;&gt;(&#39;mRNA_store&#39;, &#39;A mRNA&#39;) -->\n",
       "<g id=\"edge1\" class=\"edge\">\n",
       "<title>(&#39;mRNA_store&#39;,)&#45;&gt;(&#39;mRNA_store&#39;, &#39;A mRNA&#39;)</title>\n",
       "<path fill=\"none\" stroke=\"black\" stroke-width=\"2\" d=\"M115.9,-119.38C96.24,-99.14 70.79,-72.95 52.95,-54.59\"/>\n",
       "</g>\n",
       "<!-- (&#39;mRNA_store&#39;, &#39;B mRNA&#39;) -->\n",
       "<g id=\"node3\" class=\"node\">\n",
       "<title>(&#39;mRNA_store&#39;, &#39;B mRNA&#39;)</title>\n",
       "<ellipse fill=\"none\" stroke=\"black\" stroke-width=\"2\" cx=\"112.26\" cy=\"-31.26\" rx=\"31.25\" ry=\"31.25\"/>\n",
       "<text text-anchor=\"start\" x=\"89.42\" y=\"-27.66\" font-family=\"Times,serif\" font-size=\"12.00\">B mRNA</text>\n",
       "</g>\n",
       "<!-- (&#39;mRNA_store&#39;,)&#45;&gt;(&#39;mRNA_store&#39;, &#39;B mRNA&#39;) -->\n",
       "<g id=\"edge2\" class=\"edge\">\n",
       "<title>(&#39;mRNA_store&#39;,)&#45;&gt;(&#39;mRNA_store&#39;, &#39;B mRNA&#39;)</title>\n",
       "<path fill=\"none\" stroke=\"black\" stroke-width=\"2\" d=\"M131.97,-109.67C129.97,-103.29 128,-96.74 126.26,-90.51 123.73,-81.5 121.25,-71.62 119.09,-62.6\"/>\n",
       "</g>\n",
       "<!-- (&#39;event_process&#39;,) -->\n",
       "<g id=\"node8\" class=\"node\">\n",
       "<title>(&#39;event_process&#39;,)</title>\n",
       "<polygon fill=\"none\" stroke=\"black\" stroke-width=\"2\" points=\"236.84,-49.26 161.67,-49.26 161.67,-13.26 236.84,-13.26 236.84,-49.26\"/>\n",
       "<text text-anchor=\"start\" x=\"165.27\" y=\"-27.66\" font-family=\"Times,serif\" font-size=\"12.00\">event_process</text>\n",
       "</g>\n",
       "<!-- (&#39;mRNA_store&#39;,)&#45;&gt;(&#39;event_process&#39;,) -->\n",
       "<g id=\"edge5\" class=\"edge\">\n",
       "<title>(&#39;mRNA_store&#39;,)&#45;&gt;(&#39;event_process&#39;,)</title>\n",
       "<path fill=\"none\" stroke=\"black\" stroke-dasharray=\"5,2\" d=\"M164.75,-112.31C168.35,-105.12 171.99,-97.62 175.26,-90.51 179.68,-80.87 184.2,-70.16 188.11,-60.59\"/>\n",
       "<polygon fill=\"black\" stroke=\"black\" points=\"191.32,-61.99 191.8,-51.41 184.82,-59.38 191.32,-61.99\"/>\n",
       "<text text-anchor=\"start\" x=\"180.26\" y=\"-82.51\" font-family=\"Times,serif\" font-size=\"10.00\">mRNA</text>\n",
       "</g>\n",
       "<!-- (&#39;mRNA_store&#39;,)&#45;&gt;(&#39;event_process&#39;,) -->\n",
       "<g id=\"edge9\" class=\"edge\">\n",
       "<title>(&#39;mRNA_store&#39;,)&#45;&gt;(&#39;event_process&#39;,)</title>\n",
       "<path fill=\"none\" stroke=\"black\" stroke-dasharray=\"5,2\" d=\"M137.83,-97.29C138.52,-91.47 139.94,-85.76 142.36,-80.51 148.02,-68.29 158.48,-58.03 168.89,-50.16\"/>\n",
       "<polygon fill=\"black\" stroke=\"black\" points=\"134.35,-96.87 137.38,-107.02 141.34,-97.19 134.35,-96.87\"/>\n",
       "<text text-anchor=\"start\" x=\"143.26\" y=\"-82.51\" font-family=\"Times,serif\" font-size=\"10.00\">mRNA</text>\n",
       "</g>\n",
       "<!-- (&#39;interval_process&#39;,) -->\n",
       "<g id=\"node9\" class=\"node\">\n",
       "<title>(&#39;interval_process&#39;,)</title>\n",
       "<polygon fill=\"none\" stroke=\"black\" stroke-width=\"2\" points=\"344.18,-49.26 258.34,-49.26 258.34,-13.26 344.18,-13.26 344.18,-49.26\"/>\n",
       "<text text-anchor=\"start\" x=\"261.94\" y=\"-27.66\" font-family=\"Times,serif\" font-size=\"12.00\">interval_process</text>\n",
       "</g>\n",
       "<!-- (&#39;mRNA_store&#39;,)&#45;&gt;(&#39;interval_process&#39;,) -->\n",
       "<g id=\"edge8\" class=\"edge\">\n",
       "<title>(&#39;mRNA_store&#39;,)&#45;&gt;(&#39;interval_process&#39;,)</title>\n",
       "<path fill=\"none\" stroke=\"black\" stroke-dasharray=\"5,2\" d=\"M179.11,-124.13C205.6,-104.2 242.23,-76.65 268.46,-56.93\"/>\n",
       "<polygon fill=\"black\" stroke=\"black\" points=\"270.51,-59.76 276.4,-50.95 266.31,-54.17 270.51,-59.76\"/>\n",
       "<text text-anchor=\"start\" x=\"233.26\" y=\"-82.51\" font-family=\"Times,serif\" font-size=\"10.00\">mRNA</text>\n",
       "</g>\n",
       "<!-- (&#39;DNA_store&#39;,) -->\n",
       "<g id=\"node4\" class=\"node\">\n",
       "<title>(&#39;DNA_store&#39;,)</title>\n",
       "<ellipse fill=\"none\" stroke=\"black\" stroke-width=\"2\" cx=\"418.26\" cy=\"-150.6\" rx=\"36.96\" ry=\"36.96\"/>\n",
       "<text text-anchor=\"start\" x=\"390.59\" y=\"-147\" font-family=\"Times,serif\" font-size=\"12.00\">DNA_store</text>\n",
       "</g>\n",
       "<!-- (&#39;DNA_store&#39;, &#39;A gene&#39;) -->\n",
       "<g id=\"node5\" class=\"node\">\n",
       "<title>(&#39;DNA_store&#39;, &#39;A gene&#39;)</title>\n",
       "<ellipse fill=\"none\" stroke=\"black\" stroke-width=\"2\" cx=\"503.26\" cy=\"-31.26\" rx=\"24.15\" ry=\"24.15\"/>\n",
       "<text text-anchor=\"start\" x=\"486.43\" y=\"-27.66\" font-family=\"Times,serif\" font-size=\"12.00\">A gene</text>\n",
       "</g>\n",
       "<!-- (&#39;DNA_store&#39;,)&#45;&gt;(&#39;DNA_store&#39;, &#39;A gene&#39;) -->\n",
       "<g id=\"edge3\" class=\"edge\">\n",
       "<title>(&#39;DNA_store&#39;,)&#45;&gt;(&#39;DNA_store&#39;, &#39;A gene&#39;)</title>\n",
       "<path fill=\"none\" stroke=\"black\" stroke-width=\"2\" d=\"M439.93,-119.68C455.37,-98.36 475.69,-70.31 489.1,-51.8\"/>\n",
       "</g>\n",
       "<!-- (&#39;DNA_store&#39;, &#39;B gene&#39;) -->\n",
       "<g id=\"node6\" class=\"node\">\n",
       "<title>(&#39;DNA_store&#39;, &#39;B gene&#39;)</title>\n",
       "<ellipse fill=\"none\" stroke=\"black\" stroke-width=\"2\" cx=\"437.26\" cy=\"-31.26\" rx=\"24.15\" ry=\"24.15\"/>\n",
       "<text text-anchor=\"start\" x=\"420.43\" y=\"-27.66\" font-family=\"Times,serif\" font-size=\"12.00\">B gene</text>\n",
       "</g>\n",
       "<!-- (&#39;DNA_store&#39;,)&#45;&gt;(&#39;DNA_store&#39;, &#39;B gene&#39;) -->\n",
       "<g id=\"edge4\" class=\"edge\">\n",
       "<title>(&#39;DNA_store&#39;,)&#45;&gt;(&#39;DNA_store&#39;, &#39;B gene&#39;)</title>\n",
       "<path fill=\"none\" stroke=\"black\" stroke-width=\"2\" d=\"M424.16,-113.11C427.19,-94.41 430.79,-72.18 433.45,-55.77\"/>\n",
       "</g>\n",
       "<!-- (&#39;DNA_store&#39;,)&#45;&gt;(&#39;event_process&#39;,) -->\n",
       "<g id=\"edge6\" class=\"edge\">\n",
       "<title>(&#39;DNA_store&#39;,)&#45;&gt;(&#39;event_process&#39;,)</title>\n",
       "<path fill=\"none\" stroke=\"black\" stroke-dasharray=\"5,2\" d=\"M392.59,-123.28C376.79,-108.57 355.38,-91.11 333.26,-80.51 298.82,-64.02 284.75,-76.59 249.26,-62.51 244.51,-60.63 239.7,-58.32 235.04,-55.82\"/>\n",
       "<polygon fill=\"black\" stroke=\"black\" points=\"236.86,-52.83 226.44,-50.9 233.38,-58.91 236.86,-52.83\"/>\n",
       "<text text-anchor=\"start\" x=\"349.26\" y=\"-82.51\" font-family=\"Times,serif\" font-size=\"10.00\">DNA</text>\n",
       "</g>\n",
       "<!-- (&#39;DNA_store&#39;,)&#45;&gt;(&#39;interval_process&#39;,) -->\n",
       "<g id=\"edge7\" class=\"edge\">\n",
       "<title>(&#39;DNA_store&#39;,)&#45;&gt;(&#39;interval_process&#39;,)</title>\n",
       "<path fill=\"none\" stroke=\"black\" stroke-dasharray=\"5,2\" d=\"M403.1,-116.07C396.58,-103.97 388.17,-90.78 378.26,-80.51 369.27,-71.21 358.14,-62.91 347.17,-55.94\"/>\n",
       "<polygon fill=\"black\" stroke=\"black\" points=\"349.28,-53.12 338.91,-50.94 345.65,-59.11 349.28,-53.12\"/>\n",
       "<text text-anchor=\"start\" x=\"387.26\" y=\"-82.51\" font-family=\"Times,serif\" font-size=\"10.00\">DNA</text>\n",
       "</g>\n",
       "<!-- (&#39;emitter&#39;,) -->\n",
       "<g id=\"node7\" class=\"node\">\n",
       "<title>(&#39;emitter&#39;,)</title>\n",
       "<polygon fill=\"none\" stroke=\"black\" stroke-width=\"2\" points=\"527.26,-168.6 473.26,-168.6 473.26,-132.6 527.26,-132.6 527.26,-168.6\"/>\n",
       "<text text-anchor=\"start\" x=\"483.26\" y=\"-147\" font-family=\"Times,serif\" font-size=\"12.00\">emitter</text>\n",
       "</g>\n",
       "<!-- (&#39;event_process&#39;, &#39;interval&#39;) -->\n",
       "<g id=\"node10\" class=\"node\">\n",
       "<title>(&#39;event_process&#39;, &#39;interval&#39;)</title>\n",
       "<ellipse fill=\"none\" stroke=\"black\" stroke-width=\"2\" cx=\"301.26\" cy=\"-150.6\" rx=\"25.92\" ry=\"25.92\"/>\n",
       "<text text-anchor=\"start\" x=\"282.93\" y=\"-147\" font-family=\"Times,serif\" font-size=\"12.00\">interval</text>\n",
       "</g>\n",
       "<!-- (&#39;event_process&#39;, &#39;interval&#39;)&#45;&gt;(&#39;interval_process&#39;,) -->\n",
       "<g id=\"edge10\" class=\"edge\">\n",
       "<title>(&#39;event_process&#39;, &#39;interval&#39;)&#45;&gt;(&#39;interval_process&#39;,)</title>\n",
       "<path fill=\"none\" stroke=\"black\" stroke-dasharray=\"5,2\" d=\"M301.26,-112.44C301.26,-91.56 301.26,-66.44 301.26,-49.95\"/>\n",
       "<polygon fill=\"black\" stroke=\"black\" points=\"297.76,-112.33 301.26,-122.33 304.76,-112.33 297.76,-112.33\"/>\n",
       "<text text-anchor=\"start\" x=\"301.26\" y=\"-82.51\" font-family=\"Times,serif\" font-size=\"10.00\">interval</text>\n",
       "</g>\n",
       "</g>\n",
       "</svg>\n"
      ],
      "text/plain": [
       "<graphviz.graphs.Digraph at 0x106440070>"
      ]
     },
     "execution_count": 29,
     "metadata": {},
     "output_type": "execute_result"
    }
   ],
   "source": [
    "b2.visualize()"
   ]
  },
  {
   "cell_type": "code",
   "execution_count": null,
   "id": "6c11fc1f-23ee-45e5-9975-f3d3b2e1dff9",
   "metadata": {
    "ExecuteTime": {
     "end_time": "2024-03-05T01:06:36.090025Z",
     "start_time": "2024-03-05T01:06:36.088216Z"
    }
   },
   "outputs": [],
   "source": []
  }
 ],
 "metadata": {
  "kernelspec": {
   "display_name": "venv",
   "language": "python",
   "name": "venv"
  },
  "language_info": {
   "codemirror_mode": {
    "name": "ipython",
    "version": 3
   },
   "file_extension": ".py",
   "mimetype": "text/x-python",
   "name": "python",
   "nbconvert_exporter": "python",
   "pygments_lexer": "ipython3",
   "version": "3.9.6"
  }
 },
 "nbformat": 4,
 "nbformat_minor": 5
}
