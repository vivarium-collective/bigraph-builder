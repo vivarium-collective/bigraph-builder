{
 "cells": [
  {
   "cell_type": "code",
   "execution_count": 1,
   "id": "b385dca6-942d-472c-9963-13b8cb33843c",
   "metadata": {
    "ExecuteTime": {
     "end_time": "2024-01-21T21:29:21.891373Z",
     "start_time": "2024-01-21T21:29:13.531449Z"
    }
   },
   "outputs": [],
   "source": [
    "from builder import Builder, Process"
   ]
  },
  {
   "cell_type": "code",
   "execution_count": 2,
   "id": "30297af1-2d65-43d9-9ab7-0589d94a8cfe",
   "metadata": {
    "ExecuteTime": {
     "end_time": "2024-01-21T21:29:21.896737Z",
     "start_time": "2024-01-21T21:29:21.891980Z"
    }
   },
   "outputs": [],
   "source": [
    "b = Builder()"
   ]
  },
  {
   "cell_type": "code",
   "execution_count": 3,
   "id": "979e0bd85a31d4b0",
   "metadata": {
    "ExecuteTime": {
     "end_time": "2024-01-21T21:29:21.984800Z",
     "start_time": "2024-01-21T21:29:21.894599Z"
    },
    "collapsed": false,
    "jupyter": {
     "outputs_hidden": false
    }
   },
   "outputs": [
    {
     "name": "stdout",
     "output_type": "stream",
     "text": [
      "['console-emitter', 'ram-emitter']\n"
     ]
    }
   ],
   "source": [
    "b.list_processes()"
   ]
  },
  {
   "cell_type": "code",
   "execution_count": 4,
   "id": "5bff2ea4-42f9-430e-b1cc-f0581510ec8d",
   "metadata": {},
   "outputs": [],
   "source": [
    "from process_bigraph.experiments.minimal_gillespie import GillespieEvent , GillespieInterval\n",
    "b.register_process('GillespieEvent', GillespieEvent)\n",
    "b.register_process('GillespieInterval', GillespieInterval)"
   ]
  },
  {
   "cell_type": "code",
   "execution_count": 5,
   "id": "40cde984-cfdf-4571-af9c-3a3755e3763c",
   "metadata": {},
   "outputs": [
    {
     "name": "stdout",
     "output_type": "stream",
     "text": [
      "['GillespieEvent', 'console-emitter', 'ram-emitter', 'GillespieInterval']\n"
     ]
    }
   ],
   "source": [
    "b.list_processes()"
   ]
  },
  {
   "cell_type": "code",
   "execution_count": 6,
   "id": "503863ee-0a58-44b3-accc-20e0167b947b",
   "metadata": {},
   "outputs": [],
   "source": [
    "## add processes\n",
    "b['event_process'].add_process(\n",
    "    name='GillespieEvent',\n",
    "    kdeg=1.0,  # kwargs fill parameters in the config\n",
    ")"
   ]
  },
  {
   "cell_type": "code",
   "execution_count": 7,
   "id": "b094f1e5-5202-48d0-8bdd-57bbdded7fd1",
   "metadata": {},
   "outputs": [],
   "source": [
    "# b.compile()"
   ]
  },
  {
   "cell_type": "code",
   "execution_count": 8,
   "id": "5ea31425-a8bb-45c3-a31d-77714cc8c137",
   "metadata": {},
   "outputs": [
    {
     "name": "stdout",
     "output_type": "stream",
     "text": [
      "{\n",
      "'_inputs': {\n",
      "   'mRNA': 'map[float]',\n",
      "   'DNA': {\n",
      "      'A gene': 'float',\n",
      "      'B gene': 'float'\n",
      "  }\n",
      "},\n",
      "'_outputs': {\n",
      "   'mRNA': 'map[float]'\n",
      "}\n",
      "}\n"
     ]
    }
   ],
   "source": [
    "b['event_process'].ports(True)"
   ]
  },
  {
   "cell_type": "code",
   "execution_count": 9,
   "id": "6e496c34-72a4-4197-aadc-1f95c031d743",
   "metadata": {},
   "outputs": [],
   "source": [
    "# b.schema"
   ]
  },
  {
   "cell_type": "code",
   "execution_count": 10,
   "id": "da4365f0-7a55-4654-a21b-35a5b145b52d",
   "metadata": {},
   "outputs": [
    {
     "data": {
      "text/plain": [
       "{'_type': 'process',\n",
       " '_default': {'inputs': {}, 'outputs': {}},\n",
       " '_apply': 'process_bigraph.composite.apply_process',\n",
       " '_serialize': 'process_bigraph.composite.serialize_process',\n",
       " '_deserialize': 'process_bigraph.composite.deserialize_process',\n",
       " '_check': 'process_bigraph.composite.check_process',\n",
       " '_type_parameters': ['inputs', 'outputs'],\n",
       " '_description': '',\n",
       " 'inputs': {'_type': 'wires',\n",
       "  '_default': {},\n",
       "  '_apply': 'bigraph_schema.registry.apply_tree',\n",
       "  '_serialize': 'bigraph_schema.type_system.serialize_tree',\n",
       "  '_deserialize': 'bigraph_schema.type_system.deserialize_tree',\n",
       "  '_divide': 'bigraph_schema.type_system.divide_tree',\n",
       "  '_check': 'bigraph_schema.type_system.check_tree',\n",
       "  '_type_parameters': ['leaf'],\n",
       "  '_description': 'mapping from str to some type in a potentially nested form',\n",
       "  '_leaf': {'_type': 'path',\n",
       "   '_default': [],\n",
       "   '_apply': 'bigraph_schema.type_system.apply_path',\n",
       "   '_check': 'bigraph_schema.type_system.check_list',\n",
       "   '_serialize': 'bigraph_schema.type_system.serialize_list',\n",
       "   '_deserialize': 'bigraph_schema.type_system.deserialize_list',\n",
       "   '_divide': 'bigraph_schema.type_system.divide_list',\n",
       "   '_type_parameters': ['element'],\n",
       "   '_description': 'general list type (or sublists)',\n",
       "   '_element': {'_type': 'string',\n",
       "    '_default': '',\n",
       "    '_apply': 'bigraph_schema.type_system.replace',\n",
       "    '_check': 'bigraph_schema.type_system.check_string',\n",
       "    '_serialize': 'bigraph_schema.type_system.serialize_string',\n",
       "    '_deserialize': 'bigraph_schema.type_system.deserialize_string',\n",
       "    '_description': '64-bit integer'},\n",
       "   '_inherit': ['list[string]']},\n",
       "  '_inherit': ['tree[path]']},\n",
       " 'outputs': {'_type': 'wires',\n",
       "  '_default': {},\n",
       "  '_apply': 'bigraph_schema.registry.apply_tree',\n",
       "  '_serialize': 'bigraph_schema.type_system.serialize_tree',\n",
       "  '_deserialize': 'bigraph_schema.type_system.deserialize_tree',\n",
       "  '_divide': 'bigraph_schema.type_system.divide_tree',\n",
       "  '_check': 'bigraph_schema.type_system.check_tree',\n",
       "  '_type_parameters': ['leaf'],\n",
       "  '_description': 'mapping from str to some type in a potentially nested form',\n",
       "  '_leaf': {'_type': 'path',\n",
       "   '_default': [],\n",
       "   '_apply': 'bigraph_schema.type_system.apply_path',\n",
       "   '_check': 'bigraph_schema.type_system.check_list',\n",
       "   '_serialize': 'bigraph_schema.type_system.serialize_list',\n",
       "   '_deserialize': 'bigraph_schema.type_system.deserialize_list',\n",
       "   '_divide': 'bigraph_schema.type_system.divide_list',\n",
       "   '_type_parameters': ['element'],\n",
       "   '_description': 'general list type (or sublists)',\n",
       "   '_element': {'_type': 'string',\n",
       "    '_default': '',\n",
       "    '_apply': 'bigraph_schema.type_system.replace',\n",
       "    '_check': 'bigraph_schema.type_system.check_string',\n",
       "    '_serialize': 'bigraph_schema.type_system.serialize_string',\n",
       "    '_deserialize': 'bigraph_schema.type_system.deserialize_string',\n",
       "    '_description': '64-bit integer'},\n",
       "   '_inherit': ['list[string]']},\n",
       "  '_inherit': ['tree[path]']},\n",
       " '_inherit': ['edge'],\n",
       " '_divide': 'process_bigraph.composite.divide_process',\n",
       " 'interval': {'_type': 'interval',\n",
       "  '_apply': 'set',\n",
       "  '_check': 'bigraph_schema.type_system.check_float',\n",
       "  '_serialize': 'bigraph_schema.type_system.to_string',\n",
       "  '_description': '64-bit floating point precision number',\n",
       "  '_default': '1.0',\n",
       "  '_deserialize': 'bigraph_schema.type_system.deserialize_float',\n",
       "  '_divide': 'bigraph_schema.type_system.divide_float',\n",
       "  '_inherit': ['float']},\n",
       " '_inputs': {'mRNA': 'map[float]',\n",
       "  'DNA': {'A gene': 'float', 'B gene': 'float'}},\n",
       " '_outputs': {'mRNA': 'map[float]'}}"
      ]
     },
     "execution_count": 10,
     "metadata": {},
     "output_type": "execute_result"
    }
   ],
   "source": [
    "b['event_process'].schema"
   ]
  },
  {
   "cell_type": "code",
   "execution_count": 11,
   "id": "c9f462bb-5316-4724-aa8e-b3b71eb379b2",
   "metadata": {},
   "outputs": [
    {
     "ename": "Exception",
     "evalue": "cannot wire mRNA as we are already at the top level {'mRNA': 'map[float]', 'DNA': {'A gene': 'float', 'B gene': 'float'}}",
     "output_type": "error",
     "traceback": [
      "\u001b[0;31m---------------------------------------------------------------------------\u001b[0m",
      "\u001b[0;31mException\u001b[0m                                 Traceback (most recent call last)",
      "Cell \u001b[0;32mIn[11], line 1\u001b[0m\n\u001b[0;32m----> 1\u001b[0m \u001b[43mb\u001b[49m\u001b[43m[\u001b[49m\u001b[38;5;124;43m'\u001b[39;49m\u001b[38;5;124;43mevent_process\u001b[39;49m\u001b[38;5;124;43m'\u001b[39;49m\u001b[43m]\u001b[49m\u001b[38;5;241;43m.\u001b[39;49m\u001b[43mconnect\u001b[49m\u001b[43m(\u001b[49m\u001b[43mport\u001b[49m\u001b[38;5;241;43m=\u001b[39;49m\u001b[38;5;124;43m'\u001b[39;49m\u001b[38;5;124;43mmRNA\u001b[39;49m\u001b[38;5;124;43m'\u001b[39;49m\u001b[43m,\u001b[49m\u001b[43m \u001b[49m\u001b[43mtarget\u001b[49m\u001b[38;5;241;43m=\u001b[39;49m\u001b[43m[\u001b[49m\u001b[38;5;124;43m'\u001b[39;49m\u001b[38;5;124;43mmRNA_store\u001b[39;49m\u001b[38;5;124;43m'\u001b[39;49m\u001b[43m]\u001b[49m\u001b[43m)\u001b[49m\n\u001b[1;32m      2\u001b[0m b\n",
      "File \u001b[0;32m~/code/bigraph-builder/builder/builder_api.py:241\u001b[0m, in \u001b[0;36mBuilder.connect\u001b[0;34m(self, port, target)\u001b[0m\n\u001b[1;32m    238\u001b[0m     \u001b[38;5;28mself\u001b[39m\u001b[38;5;241m.\u001b[39mtree[\u001b[38;5;124m'\u001b[39m\u001b[38;5;124moutputs\u001b[39m\u001b[38;5;124m'\u001b[39m][port] \u001b[38;5;241m=\u001b[39m target\n\u001b[1;32m    240\u001b[0m \u001b[38;5;66;03m# reset compiled composite\u001b[39;00m\n\u001b[0;32m--> 241\u001b[0m \u001b[38;5;28;43mself\u001b[39;49m\u001b[38;5;241;43m.\u001b[39;49m\u001b[43mcomplete\u001b[49m\u001b[43m(\u001b[49m\u001b[43m)\u001b[49m\n",
      "File \u001b[0;32m~/code/bigraph-builder/builder/builder_api.py:230\u001b[0m, in \u001b[0;36mBuilder.complete\u001b[0;34m(self)\u001b[0m\n\u001b[1;32m    229\u001b[0m \u001b[38;5;28;01mdef\u001b[39;00m \u001b[38;5;21mcomplete\u001b[39m(\u001b[38;5;28mself\u001b[39m):\n\u001b[0;32m--> 230\u001b[0m     \u001b[38;5;28mself\u001b[39m\u001b[38;5;241m.\u001b[39mschema, tree \u001b[38;5;241m=\u001b[39m \u001b[38;5;28;43mself\u001b[39;49m\u001b[38;5;241;43m.\u001b[39;49m\u001b[43mcore\u001b[49m\u001b[38;5;241;43m.\u001b[39;49m\u001b[43mcomplete\u001b[49m\u001b[43m(\u001b[49m\u001b[38;5;28;43mself\u001b[39;49m\u001b[38;5;241;43m.\u001b[39;49m\u001b[43mschema\u001b[49m\u001b[43m,\u001b[49m\u001b[43m \u001b[49m\u001b[43mdict_from_builder_tree\u001b[49m\u001b[43m(\u001b[49m\u001b[38;5;28;43mself\u001b[39;49m\u001b[38;5;241;43m.\u001b[39;49m\u001b[43mtree\u001b[49m\u001b[43m)\u001b[49m\u001b[43m)\u001b[49m\n\u001b[1;32m    231\u001b[0m     \u001b[38;5;28mself\u001b[39m\u001b[38;5;241m.\u001b[39mtree \u001b[38;5;241m=\u001b[39m builder_tree_from_dict(tree)\n",
      "File \u001b[0;32m~/code/bigraph-schema/bigraph_schema/type_system.py:1252\u001b[0m, in \u001b[0;36mTypeSystem.complete\u001b[0;34m(self, initial_schema, initial_state)\u001b[0m\n\u001b[1;32m   1248\u001b[0m full_schema \u001b[38;5;241m=\u001b[39m \u001b[38;5;28mself\u001b[39m\u001b[38;5;241m.\u001b[39maccess(\n\u001b[1;32m   1249\u001b[0m     initial_schema)\n\u001b[1;32m   1251\u001b[0m \u001b[38;5;66;03m# hydrate the state given the initial composition\u001b[39;00m\n\u001b[0;32m-> 1252\u001b[0m state \u001b[38;5;241m=\u001b[39m \u001b[38;5;28;43mself\u001b[39;49m\u001b[38;5;241;43m.\u001b[39;49m\u001b[43mhydrate\u001b[49m\u001b[43m(\u001b[49m\n\u001b[1;32m   1253\u001b[0m \u001b[43m    \u001b[49m\u001b[43mfull_schema\u001b[49m\u001b[43m,\u001b[49m\n\u001b[1;32m   1254\u001b[0m \u001b[43m    \u001b[49m\u001b[43minitial_state\u001b[49m\u001b[43m)\u001b[49m\n\u001b[1;32m   1256\u001b[0m \u001b[38;5;66;03m# fill in the parts of the composition schema\u001b[39;00m\n\u001b[1;32m   1257\u001b[0m \u001b[38;5;66;03m# determined by the state\u001b[39;00m\n\u001b[1;32m   1258\u001b[0m schema, state \u001b[38;5;241m=\u001b[39m \u001b[38;5;28mself\u001b[39m\u001b[38;5;241m.\u001b[39minfer_schema(\n\u001b[1;32m   1259\u001b[0m     full_schema,\n\u001b[1;32m   1260\u001b[0m     state)\n",
      "File \u001b[0;32m~/code/bigraph-schema/bigraph_schema/type_system.py:1244\u001b[0m, in \u001b[0;36mTypeSystem.hydrate\u001b[0;34m(self, schema, state)\u001b[0m\n\u001b[1;32m   1241\u001b[0m \u001b[38;5;28;01mdef\u001b[39;00m \u001b[38;5;21mhydrate\u001b[39m(\u001b[38;5;28mself\u001b[39m, schema, state):\n\u001b[1;32m   1242\u001b[0m     \u001b[38;5;66;03m# TODO: support partial hydration (!)\u001b[39;00m\n\u001b[1;32m   1243\u001b[0m     hydrated \u001b[38;5;241m=\u001b[39m \u001b[38;5;28mself\u001b[39m\u001b[38;5;241m.\u001b[39mhydrate_state(schema, state)\n\u001b[0;32m-> 1244\u001b[0m     \u001b[38;5;28;01mreturn\u001b[39;00m \u001b[38;5;28;43mself\u001b[39;49m\u001b[38;5;241;43m.\u001b[39;49m\u001b[43mfill\u001b[49m\u001b[43m(\u001b[49m\u001b[43mschema\u001b[49m\u001b[43m,\u001b[49m\u001b[43m \u001b[49m\u001b[43mhydrated\u001b[49m\u001b[43m)\u001b[49m\n",
      "File \u001b[0;32m~/code/bigraph-schema/bigraph_schema/type_system.py:753\u001b[0m, in \u001b[0;36mTypeSystem.fill\u001b[0;34m(self, original_schema, state)\u001b[0m\n\u001b[1;32m    747\u001b[0m \u001b[38;5;28;01mdef\u001b[39;00m \u001b[38;5;21mfill\u001b[39m(\u001b[38;5;28mself\u001b[39m, original_schema, state\u001b[38;5;241m=\u001b[39m\u001b[38;5;28;01mNone\u001b[39;00m):\n\u001b[1;32m    748\u001b[0m     \u001b[38;5;66;03m# # Removing deepcopy means the state may be updated\u001b[39;00m\n\u001b[1;32m    749\u001b[0m     \u001b[38;5;66;03m# if state is not None:\u001b[39;00m\n\u001b[1;32m    750\u001b[0m     \u001b[38;5;66;03m#     state = copy.deepcopy(state)\u001b[39;00m\n\u001b[1;32m    751\u001b[0m     schema \u001b[38;5;241m=\u001b[39m \u001b[38;5;28mself\u001b[39m\u001b[38;5;241m.\u001b[39maccess(original_schema)\n\u001b[0;32m--> 753\u001b[0m     \u001b[38;5;28;01mreturn\u001b[39;00m \u001b[38;5;28;43mself\u001b[39;49m\u001b[38;5;241;43m.\u001b[39;49m\u001b[43mfill_state\u001b[49m\u001b[43m(\u001b[49m\n\u001b[1;32m    754\u001b[0m \u001b[43m        \u001b[49m\u001b[43mschema\u001b[49m\u001b[43m,\u001b[49m\n\u001b[1;32m    755\u001b[0m \u001b[43m        \u001b[49m\u001b[43mstate\u001b[49m\u001b[38;5;241;43m=\u001b[39;49m\u001b[43mstate\u001b[49m\u001b[43m)\u001b[49m\n",
      "File \u001b[0;32m~/code/bigraph-schema/bigraph_schema/type_system.py:714\u001b[0m, in \u001b[0;36mTypeSystem.fill_state\u001b[0;34m(self, schema, state, top, path, type_key, context)\u001b[0m\n\u001b[1;32m    712\u001b[0m \u001b[38;5;28;01mif\u001b[39;00m \u001b[38;5;124m'\u001b[39m\u001b[38;5;124m_inputs\u001b[39m\u001b[38;5;124m'\u001b[39m \u001b[38;5;129;01min\u001b[39;00m schema:\n\u001b[1;32m    713\u001b[0m     inputs \u001b[38;5;241m=\u001b[39m state\u001b[38;5;241m.\u001b[39mget(\u001b[38;5;124m'\u001b[39m\u001b[38;5;124minputs\u001b[39m\u001b[38;5;124m'\u001b[39m, {})\n\u001b[0;32m--> 714\u001b[0m     state \u001b[38;5;241m=\u001b[39m \u001b[38;5;28;43mself\u001b[39;49m\u001b[38;5;241;43m.\u001b[39;49m\u001b[43mfill_ports\u001b[49m\u001b[43m(\u001b[49m\n\u001b[1;32m    715\u001b[0m \u001b[43m        \u001b[49m\u001b[43mschema\u001b[49m\u001b[43m[\u001b[49m\u001b[38;5;124;43m'\u001b[39;49m\u001b[38;5;124;43m_inputs\u001b[39;49m\u001b[38;5;124;43m'\u001b[39;49m\u001b[43m]\u001b[49m\u001b[43m,\u001b[49m\n\u001b[1;32m    716\u001b[0m \u001b[43m        \u001b[49m\u001b[43mwires\u001b[49m\u001b[38;5;241;43m=\u001b[39;49m\u001b[43minputs\u001b[49m\u001b[43m,\u001b[49m\n\u001b[1;32m    717\u001b[0m \u001b[43m        \u001b[49m\u001b[43mstate\u001b[49m\u001b[38;5;241;43m=\u001b[39;49m\u001b[43mstate\u001b[49m\u001b[43m,\u001b[49m\n\u001b[1;32m    718\u001b[0m \u001b[43m        \u001b[49m\u001b[43mtop\u001b[49m\u001b[38;5;241;43m=\u001b[39;49m\u001b[43mtop\u001b[49m\u001b[43m,\u001b[49m\n\u001b[1;32m    719\u001b[0m \u001b[43m        \u001b[49m\u001b[43mpath\u001b[49m\u001b[38;5;241;43m=\u001b[39;49m\u001b[43mpath\u001b[49m\u001b[43m)\u001b[49m\n\u001b[1;32m    721\u001b[0m \u001b[38;5;28;01mif\u001b[39;00m \u001b[38;5;124m'\u001b[39m\u001b[38;5;124m_outputs\u001b[39m\u001b[38;5;124m'\u001b[39m \u001b[38;5;129;01min\u001b[39;00m schema:\n\u001b[1;32m    722\u001b[0m     outputs \u001b[38;5;241m=\u001b[39m state\u001b[38;5;241m.\u001b[39mget(\u001b[38;5;124m'\u001b[39m\u001b[38;5;124moutputs\u001b[39m\u001b[38;5;124m'\u001b[39m, {})\n",
      "File \u001b[0;32m~/code/bigraph-schema/bigraph_schema/type_system.py:663\u001b[0m, in \u001b[0;36mTypeSystem.fill_ports\u001b[0;34m(self, schema, wires, state, top, path)\u001b[0m\n\u001b[1;32m    660\u001b[0m     subwires \u001b[38;5;241m=\u001b[39m (subwires,)\n\u001b[1;32m    662\u001b[0m \u001b[38;5;28;01mif\u001b[39;00m \u001b[38;5;28mlen\u001b[39m(path) \u001b[38;5;241m==\u001b[39m \u001b[38;5;241m0\u001b[39m:\n\u001b[0;32m--> 663\u001b[0m     \u001b[38;5;28;01mraise\u001b[39;00m \u001b[38;5;167;01mException\u001b[39;00m(\n\u001b[1;32m    664\u001b[0m         \u001b[38;5;124mf\u001b[39m\u001b[38;5;124m'\u001b[39m\u001b[38;5;124mcannot wire \u001b[39m\u001b[38;5;132;01m{\u001b[39;00mport_key\u001b[38;5;132;01m}\u001b[39;00m\u001b[38;5;124m as we are already at the top level \u001b[39m\u001b[38;5;132;01m{\u001b[39;00mschema\u001b[38;5;132;01m}\u001b[39;00m\u001b[38;5;124m'\u001b[39m)\n\u001b[1;32m    666\u001b[0m peer \u001b[38;5;241m=\u001b[39m get_path(\n\u001b[1;32m    667\u001b[0m     top,\n\u001b[1;32m    668\u001b[0m     path[:\u001b[38;5;241m-\u001b[39m\u001b[38;5;241m1\u001b[39m])\n\u001b[1;32m    670\u001b[0m destination \u001b[38;5;241m=\u001b[39m establish_path(\n\u001b[1;32m    671\u001b[0m     peer,\n\u001b[1;32m    672\u001b[0m     subwires[:\u001b[38;5;241m-\u001b[39m\u001b[38;5;241m1\u001b[39m],\n\u001b[1;32m    673\u001b[0m     top\u001b[38;5;241m=\u001b[39mtop,\n\u001b[1;32m    674\u001b[0m     cursor\u001b[38;5;241m=\u001b[39mpath[:\u001b[38;5;241m-\u001b[39m\u001b[38;5;241m1\u001b[39m])\n",
      "\u001b[0;31mException\u001b[0m: cannot wire mRNA as we are already at the top level {'mRNA': 'map[float]', 'DNA': {'A gene': 'float', 'B gene': 'float'}}"
     ]
    }
   ],
   "source": [
    "b['event_process'].connect(port='mRNA', target=['mRNA_store'])\n",
    "b"
   ]
  },
  {
   "cell_type": "code",
   "execution_count": null,
   "id": "79809baf-1d87-475a-b85f-3729f4716cb4",
   "metadata": {},
   "outputs": [],
   "source": [
    "b.visualize()"
   ]
  },
  {
   "cell_type": "code",
   "execution_count": null,
   "id": "72088795-49c9-4e28-b539-1bdacd70ea91",
   "metadata": {},
   "outputs": [],
   "source": [
    "# from builder.builder_api import Builder, dict_from_builder_tree\n",
    "# tree_dict = dict_from_builder_tree(b.tree)\n",
    "\n",
    "# tree_dict"
   ]
  },
  {
   "cell_type": "code",
   "execution_count": null,
   "id": "1ee84904801a9ab",
   "metadata": {
    "ExecuteTime": {
     "start_time": "2024-01-21T21:29:21.990417Z"
    },
    "collapsed": false,
    "jupyter": {
     "outputs_hidden": false
    }
   },
   "outputs": [],
   "source": [
    "@b.register_process('toy')\n",
    "class Toy(Process):\n",
    "    config_schema = {\n",
    "        'A': 'float',\n",
    "        'B': 'float',\n",
    "    }\n",
    "\n",
    "    def __init__(self, config, core):\n",
    "        super().__init__(config, core)\n",
    "\n",
    "    def schema(self):\n",
    "        return {\n",
    "            'inputs': {\n",
    "                'A': 'float',\n",
    "                'B': 'float'},\n",
    "            'outputs': {\n",
    "                'C': 'float'}\n",
    "        }\n",
    "\n",
    "    def update(self, state, interval):\n",
    "        update = {\n",
    "            'C': state['A'] + state['B']\n",
    "        }\n",
    "        return update\n"
   ]
  },
  {
   "cell_type": "code",
   "execution_count": null,
   "id": "dae8ca8db70c4845",
   "metadata": {
    "ExecuteTime": {
     "start_time": "2024-01-21T21:29:21.992233Z"
    },
    "collapsed": false,
    "jupyter": {
     "outputs_hidden": false
    }
   },
   "outputs": [],
   "source": [
    "b.list_processes()"
   ]
  },
  {
   "cell_type": "code",
   "execution_count": null,
   "id": "2694ee21-d3b6-4c5d-9dbf-ea2348c97797",
   "metadata": {},
   "outputs": [],
   "source": []
  },
  {
   "cell_type": "code",
   "execution_count": null,
   "id": "8b1f49a78de17642",
   "metadata": {
    "ExecuteTime": {
     "end_time": "2024-01-21T21:29:21.994480Z",
     "start_time": "2024-01-21T21:29:21.994063Z"
    },
    "collapsed": false,
    "jupyter": {
     "outputs_hidden": false
    }
   },
   "outputs": [],
   "source": [
    "b['toy'].add_process(name='toy')"
   ]
  },
  {
   "cell_type": "code",
   "execution_count": null,
   "id": "329e64816e8ff626",
   "metadata": {
    "ExecuteTime": {
     "start_time": "2024-01-21T21:29:21.995413Z"
    },
    "collapsed": false,
    "jupyter": {
     "outputs_hidden": false
    }
   },
   "outputs": [],
   "source": [
    "b['toy'].ports()"
   ]
  },
  {
   "cell_type": "code",
   "execution_count": null,
   "id": "3b1dd8569f3bb67a",
   "metadata": {
    "ExecuteTime": {
     "start_time": "2024-01-21T21:29:21.996690Z"
    },
    "collapsed": false,
    "jupyter": {
     "outputs_hidden": false
    }
   },
   "outputs": [],
   "source": [
    "b.visualize()"
   ]
  },
  {
   "cell_type": "code",
   "execution_count": null,
   "id": "f02c15797bdb73b8",
   "metadata": {
    "ExecuteTime": {
     "start_time": "2024-01-21T21:29:21.997588Z"
    },
    "collapsed": false,
    "jupyter": {
     "outputs_hidden": false
    }
   },
   "outputs": [],
   "source": [
    "b['toy'].connect(port='A', target='A_store')\n",
    "# b['toy'].connect(port='B', target='B_store')  # TODO -- compile is trying to connect A at the wrong level??\n",
    "# b['toy'].connect(port='C', target='C_store')"
   ]
  },
  {
   "cell_type": "code",
   "execution_count": null,
   "id": "aeb344bcd6a120ae",
   "metadata": {
    "ExecuteTime": {
     "start_time": "2024-01-21T21:29:21.998661Z"
    },
    "collapsed": false,
    "jupyter": {
     "outputs_hidden": false
    }
   },
   "outputs": [],
   "source": [
    "b.plot()"
   ]
  },
  {
   "cell_type": "code",
   "execution_count": null,
   "id": "c975aab012b2706f",
   "metadata": {
    "ExecuteTime": {
     "start_time": "2024-01-21T21:29:21.999855Z"
    },
    "collapsed": false,
    "jupyter": {
     "outputs_hidden": false
    }
   },
   "outputs": [],
   "source": [
    "b.document()"
   ]
  },
  {
   "cell_type": "code",
   "execution_count": null,
   "id": "752e43636bf9fd17",
   "metadata": {
    "ExecuteTime": {
     "start_time": "2024-01-21T21:29:22.001078Z"
    },
    "collapsed": false,
    "jupyter": {
     "outputs_hidden": false
    }
   },
   "outputs": [],
   "source": [
    "b.write(filename='toy_bigraph')"
   ]
  },
  {
   "cell_type": "code",
   "execution_count": null,
   "id": "c88f8059a315792e",
   "metadata": {
    "ExecuteTime": {
     "start_time": "2024-01-21T21:29:22.001943Z"
    },
    "collapsed": false,
    "jupyter": {
     "outputs_hidden": false
    }
   },
   "outputs": [],
   "source": []
  }
 ],
 "metadata": {
  "kernelspec": {
   "display_name": "venv",
   "language": "python",
   "name": "venv"
  },
  "language_info": {
   "codemirror_mode": {
    "name": "ipython",
    "version": 3
   },
   "file_extension": ".py",
   "mimetype": "text/x-python",
   "name": "python",
   "nbconvert_exporter": "python",
   "pygments_lexer": "ipython3",
   "version": "3.9.6"
  }
 },
 "nbformat": 4,
 "nbformat_minor": 5
}
