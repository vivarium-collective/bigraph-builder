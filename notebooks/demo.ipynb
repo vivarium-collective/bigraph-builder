{
 "cells": [
  {
   "cell_type": "markdown",
   "id": "808b6a4b-0894-4a8e-99d8-bf11b3164b6a",
   "metadata": {},
   "source": [
    "# Bigraph-Builder Demo"
   ]
  },
  {
   "cell_type": "code",
   "execution_count": 1,
   "id": "b385dca6-942d-472c-9963-13b8cb33843c",
   "metadata": {
    "ExecuteTime": {
     "end_time": "2024-01-21T21:29:21.891373Z",
     "start_time": "2024-01-21T21:29:13.531449Z"
    }
   },
   "outputs": [],
   "source": [
    "# imports\n",
    "from builder import Builder, Process, ProcessTypes"
   ]
  },
  {
   "cell_type": "markdown",
   "id": "a403d619-4dbe-49cc-8f24-29a83e31fe15",
   "metadata": {},
   "source": [
    "## Initialize the builder"
   ]
  },
  {
   "cell_type": "code",
   "execution_count": 2,
   "id": "b6260555-2bad-4834-adc5-e6d358063579",
   "metadata": {},
   "outputs": [],
   "source": [
    "core = ProcessTypes()\n",
    "b = Builder(core=core)"
   ]
  },
  {
   "cell_type": "markdown",
   "id": "dd85f98e-c5e3-467b-97ab-1ced7e810a17",
   "metadata": {},
   "source": [
    "### register new types"
   ]
  },
  {
   "cell_type": "code",
   "execution_count": 3,
   "id": "30297af1-2d65-43d9-9ab7-0589d94a8cfe",
   "metadata": {
    "ExecuteTime": {
     "end_time": "2024-01-21T21:29:21.896737Z",
     "start_time": "2024-01-21T21:29:21.891980Z"
    }
   },
   "outputs": [],
   "source": [
    "b.register_type(\n",
    "    'default 1', {\n",
    "        '_inherit': 'float',\n",
    "        '_default': 1.0})"
   ]
  },
  {
   "cell_type": "markdown",
   "id": "4f7cb796-ae5f-4209-b81c-dec1544f0840",
   "metadata": {},
   "source": [
    "## Register some processes"
   ]
  },
  {
   "cell_type": "markdown",
   "id": "603e75fd-7b86-4e4c-9e95-adb9faf9668b",
   "metadata": {},
   "source": [
    "### list built-in processes"
   ]
  },
  {
   "cell_type": "code",
   "execution_count": 4,
   "id": "979e0bd85a31d4b0",
   "metadata": {
    "ExecuteTime": {
     "end_time": "2024-01-21T21:29:21.984800Z",
     "start_time": "2024-01-21T21:29:21.894599Z"
    },
    "collapsed": false,
    "jupyter": {
     "outputs_hidden": false
    }
   },
   "outputs": [
    {
     "name": "stdout",
     "output_type": "stream",
     "text": [
      "['ram-emitter', 'console-emitter']\n"
     ]
    }
   ],
   "source": [
    "b.list_processes()"
   ]
  },
  {
   "cell_type": "markdown",
   "id": "9710444c-97c5-484c-83b0-8d82c3fdb92f",
   "metadata": {},
   "source": [
    "### register by passing in process class"
   ]
  },
  {
   "cell_type": "code",
   "execution_count": 5,
   "id": "5bff2ea4-42f9-430e-b1cc-f0581510ec8d",
   "metadata": {},
   "outputs": [],
   "source": [
    "from process_bigraph.experiments.minimal_gillespie import GillespieEvent\n",
    "b.register_process('GillespieEvent', GillespieEvent)"
   ]
  },
  {
   "cell_type": "markdown",
   "id": "c3635047-66dd-4c80-85ea-481c74da2a86",
   "metadata": {},
   "source": [
    "### register by address"
   ]
  },
  {
   "cell_type": "code",
   "execution_count": 6,
   "id": "f2893d4a-c13a-4d95-b85e-d5e9dce53a89",
   "metadata": {},
   "outputs": [],
   "source": [
    "b.register_process(\n",
    "    'GillespieInterval',\n",
    "    address='local:!process_bigraph.experiments.minimal_gillespie.GillespieInterval',  # currently only supports local addresses\n",
    ")"
   ]
  },
  {
   "cell_type": "markdown",
   "id": "731974c5-b470-4ddf-a037-4d4aeebc7b42",
   "metadata": {},
   "source": [
    "### register with decorator"
   ]
  },
  {
   "cell_type": "code",
   "execution_count": 7,
   "id": "aec69dcc-471e-4c18-b22b-824cfe440e79",
   "metadata": {},
   "outputs": [],
   "source": [
    "@b.register_process('toy')\n",
    "class Toy(Process):\n",
    "    config_schema = {\n",
    "        'A': 'float',\n",
    "        'B': 'float',\n",
    "    }\n",
    "\n",
    "    def __init__(self, config, core):\n",
    "        super().__init__(config, core)\n",
    "\n",
    "    def schema(self):\n",
    "        return {\n",
    "            'inputs': {\n",
    "                'A': 'float',\n",
    "                'B': 'float'},\n",
    "            'outputs': {\n",
    "                'C': 'float'}\n",
    "        }\n",
    "\n",
    "    def update(self, state, interval):\n",
    "        update = {\n",
    "            'C': state['A'] + state['B']\n",
    "        }\n",
    "        return update\n"
   ]
  },
  {
   "cell_type": "markdown",
   "id": "a108cbf0-a594-41d4-996a-de9bf9b6aeea",
   "metadata": {},
   "source": [
    "### list registered processes"
   ]
  },
  {
   "cell_type": "code",
   "execution_count": 8,
   "id": "40cde984-cfdf-4571-af9c-3a3755e3763c",
   "metadata": {},
   "outputs": [
    {
     "name": "stdout",
     "output_type": "stream",
     "text": [
      "['toy', 'GillespieEvent', 'ram-emitter', 'GillespieInterval', 'console-emitter']\n"
     ]
    }
   ],
   "source": [
    "b.list_processes()"
   ]
  },
  {
   "cell_type": "markdown",
   "id": "dfa2d764-8cdb-4a1e-84c5-fd81cc4e6afe",
   "metadata": {},
   "source": [
    "## Add processes to the bigraph"
   ]
  },
  {
   "cell_type": "code",
   "execution_count": 9,
   "id": "503863ee-0a58-44b3-accc-20e0167b947b",
   "metadata": {},
   "outputs": [],
   "source": [
    "## add processes\n",
    "b['event_process'].add_process(\n",
    "    name='GillespieEvent',\n",
    "    kdeg=1.0,  # kwargs fill parameters in the config\n",
    ")"
   ]
  },
  {
   "cell_type": "code",
   "execution_count": 10,
   "id": "b094f1e5-5202-48d0-8bdd-57bbdded7fd1",
   "metadata": {},
   "outputs": [
    {
     "data": {
      "image/svg+xml": [
       "<?xml version=\"1.0\" encoding=\"UTF-8\" standalone=\"no\"?>\n",
       "<!DOCTYPE svg PUBLIC \"-//W3C//DTD SVG 1.1//EN\"\n",
       " \"http://www.w3.org/Graphics/SVG/1.1/DTD/svg11.dtd\">\n",
       "<!-- Generated by graphviz version 9.0.0 (0)\n",
       " -->\n",
       "<!-- Title: bigraph Pages: 1 -->\n",
       "<svg width=\"81pt\" height=\"43pt\"\n",
       " viewBox=\"0.00 0.00 83.17 44.00\" xmlns=\"http://www.w3.org/2000/svg\" xmlns:xlink=\"http://www.w3.org/1999/xlink\">\n",
       "<g id=\"graph0\" class=\"graph\" transform=\"scale(0.972222 0.972222) rotate(0) translate(4 40)\">\n",
       "<title>bigraph</title>\n",
       "<polygon fill=\"white\" stroke=\"none\" points=\"-4,4 -4,-40 79.17,-40 79.17,4 -4,4\"/>\n",
       "<!-- (&#39;event_process&#39;,) -->\n",
       "<g id=\"node1\" class=\"node\">\n",
       "<title>(&#39;event_process&#39;,)</title>\n",
       "<polygon fill=\"none\" stroke=\"black\" stroke-width=\"2\" points=\"75.17,-36 0,-36 0,0 75.17,0 75.17,-36\"/>\n",
       "<text text-anchor=\"start\" x=\"3.6\" y=\"-14.4\" font-family=\"Times,serif\" font-size=\"12.00\">event_process</text>\n",
       "</g>\n",
       "</g>\n",
       "</svg>\n"
      ],
      "text/plain": [
       "<graphviz.graphs.Digraph at 0x1138962e0>"
      ]
     },
     "execution_count": 10,
     "metadata": {},
     "output_type": "execute_result"
    }
   ],
   "source": [
    "b.visualize()"
   ]
  },
  {
   "cell_type": "markdown",
   "id": "0238392e-5d1f-403d-98c9-785576a0d91b",
   "metadata": {},
   "source": [
    "### print ports"
   ]
  },
  {
   "cell_type": "code",
   "execution_count": 11,
   "id": "5ea31425-a8bb-45c3-a31d-77714cc8c137",
   "metadata": {},
   "outputs": [
    {
     "name": "stdout",
     "output_type": "stream",
     "text": [
      "{\n",
      "'_inputs': {\n",
      "   'mRNA': 'map[float]',\n",
      "   'DNA': {\n",
      "      'A gene': 'float',\n",
      "      'B gene': 'float'\n",
      "  }\n",
      "},\n",
      "'_outputs': {\n",
      "   'mRNA': 'map[float]'\n",
      "}\n",
      "}\n"
     ]
    }
   ],
   "source": [
    "b['event_process'].interface(True)"
   ]
  },
  {
   "cell_type": "markdown",
   "id": "8068e0af-ebdd-4f01-8c54-4fb3b07fc21e",
   "metadata": {},
   "source": [
    "### connect ports"
   ]
  },
  {
   "cell_type": "code",
   "execution_count": 12,
   "id": "c9f462bb-5316-4724-aa8e-b3b71eb379b2",
   "metadata": {},
   "outputs": [
    {
     "data": {
      "text/plain": [
       "{\n",
       "'event_process': {\n",
       "   '_type': 'process',\n",
       "   'address': 'local:GillespieEvent',\n",
       "   'config': {\n",
       "      'kdeg': 1.0,\n",
       "      'ktsc': 5.0\n",
       "  },\n",
       "   'inputs': {\n",
       "      'mRNA': ['mRNA_store'],\n",
       "      'DNA': ['DNA_store']\n",
       "  },\n",
       "   'outputs': {\n",
       "      'mRNA': ['mRNA_store']\n",
       "  },\n",
       "   'instance': <process_bigraph.experiments.minimal_gillespie.GillespieEvent object at 0x1138592b0>,\n",
       "   'interval': 1.0\n",
       "}\n",
       "}"
      ]
     },
     "execution_count": 12,
     "metadata": {},
     "output_type": "execute_result"
    }
   ],
   "source": [
    "b['event_process'].connect(port='mRNA', target=['mRNA_store'])\n",
    "b['event_process'].connect(port='DNA', target=['DNA_store'])\n",
    "b"
   ]
  },
  {
   "cell_type": "code",
   "execution_count": 13,
   "id": "79809baf-1d87-475a-b85f-3729f4716cb4",
   "metadata": {},
   "outputs": [
    {
     "data": {
      "image/svg+xml": [
       "<?xml version=\"1.0\" encoding=\"UTF-8\" standalone=\"no\"?>\n",
       "<!DOCTYPE svg PUBLIC \"-//W3C//DTD SVG 1.1//EN\"\n",
       " \"http://www.w3.org/Graphics/SVG/1.1/DTD/svg11.dtd\">\n",
       "<!-- Generated by graphviz version 9.0.0 (0)\n",
       " -->\n",
       "<!-- Title: bigraph Pages: 1 -->\n",
       "<svg width=\"252pt\" height=\"181pt\"\n",
       " viewBox=\"0.00 0.00 259.23 186.47\" xmlns=\"http://www.w3.org/2000/svg\" xmlns:xlink=\"http://www.w3.org/1999/xlink\">\n",
       "<g id=\"graph0\" class=\"graph\" transform=\"scale(0.972222 0.972222) rotate(0) translate(4 182.47)\">\n",
       "<title>bigraph</title>\n",
       "<polygon fill=\"white\" stroke=\"none\" points=\"-4,4 -4,-182.47 255.23,-182.47 255.23,4 -4,4\"/>\n",
       "<!-- (&#39;mRNA_store&#39;,) -->\n",
       "<g id=\"node1\" class=\"node\">\n",
       "<title>(&#39;mRNA_store&#39;,)</title>\n",
       "<ellipse fill=\"none\" stroke=\"black\" stroke-width=\"2\" cx=\"42.08\" cy=\"-136.39\" rx=\"42.08\" ry=\"42.08\"/>\n",
       "<text text-anchor=\"start\" x=\"10.08\" y=\"-132.79\" font-family=\"Times,serif\" font-size=\"12.00\">mRNA_store</text>\n",
       "</g>\n",
       "<!-- (&#39;event_process&#39;,) -->\n",
       "<g id=\"node5\" class=\"node\">\n",
       "<title>(&#39;event_process&#39;,)</title>\n",
       "<polygon fill=\"none\" stroke=\"black\" stroke-width=\"2\" points=\"109.67,-42.15 34.5,-42.15 34.5,-6.15 109.67,-6.15 109.67,-42.15\"/>\n",
       "<text text-anchor=\"start\" x=\"38.1\" y=\"-20.55\" font-family=\"Times,serif\" font-size=\"12.00\">event_process</text>\n",
       "</g>\n",
       "<!-- (&#39;mRNA_store&#39;,)&#45;&gt;(&#39;event_process&#39;,) -->\n",
       "<g id=\"edge3\" class=\"edge\">\n",
       "<title>(&#39;mRNA_store&#39;,)&#45;&gt;(&#39;event_process&#39;,)</title>\n",
       "<path fill=\"none\" stroke=\"black\" stroke-dasharray=\"5,2\" d=\"M21.11,-99.11C17.5,-88.3 16.28,-76.6 21.19,-66.31 24.01,-60.39 28.15,-55.06 32.86,-50.34\"/>\n",
       "<polygon fill=\"black\" stroke=\"black\" points=\"34.88,-53.22 40.06,-43.98 30.25,-47.97 34.88,-53.22\"/>\n",
       "<text text-anchor=\"start\" x=\"22.08\" y=\"-68.31\" font-family=\"Times,serif\" font-size=\"10.00\">mRNA</text>\n",
       "</g>\n",
       "<!-- (&#39;mRNA_store&#39;,)&#45;&gt;(&#39;event_process&#39;,) -->\n",
       "<g id=\"edge5\" class=\"edge\">\n",
       "<title>(&#39;mRNA_store&#39;,)&#45;&gt;(&#39;event_process&#39;,)</title>\n",
       "<path fill=\"none\" stroke=\"black\" stroke-dasharray=\"5,2\" d=\"M56.09,-83.9C60.08,-69.26 64.16,-54.27 67.2,-43.1\"/>\n",
       "<polygon fill=\"black\" stroke=\"black\" points=\"52.73,-82.94 53.48,-93.51 59.48,-84.78 52.73,-82.94\"/>\n",
       "<text text-anchor=\"start\" x=\"61.08\" y=\"-68.31\" font-family=\"Times,serif\" font-size=\"10.00\">mRNA</text>\n",
       "</g>\n",
       "<!-- (&#39;DNA_store&#39;,) -->\n",
       "<g id=\"node2\" class=\"node\">\n",
       "<title>(&#39;DNA_store&#39;,)</title>\n",
       "<ellipse fill=\"none\" stroke=\"black\" stroke-width=\"2\" cx=\"161.08\" cy=\"-136.39\" rx=\"36.96\" ry=\"36.96\"/>\n",
       "<text text-anchor=\"start\" x=\"133.42\" y=\"-132.79\" font-family=\"Times,serif\" font-size=\"12.00\">DNA_store</text>\n",
       "</g>\n",
       "<!-- (&#39;DNA_store&#39;, &#39;A gene&#39;) -->\n",
       "<g id=\"node3\" class=\"node\">\n",
       "<title>(&#39;DNA_store&#39;, &#39;A gene&#39;)</title>\n",
       "<ellipse fill=\"none\" stroke=\"black\" stroke-width=\"2\" cx=\"161.08\" cy=\"-24.15\" rx=\"24.15\" ry=\"24.15\"/>\n",
       "<text text-anchor=\"start\" x=\"144.25\" y=\"-20.55\" font-family=\"Times,serif\" font-size=\"12.00\">A gene</text>\n",
       "</g>\n",
       "<!-- (&#39;DNA_store&#39;,)&#45;&gt;(&#39;DNA_store&#39;, &#39;A gene&#39;) -->\n",
       "<g id=\"edge1\" class=\"edge\">\n",
       "<title>(&#39;DNA_store&#39;,)&#45;&gt;(&#39;DNA_store&#39;, &#39;A gene&#39;)</title>\n",
       "<path fill=\"none\" stroke=\"black\" stroke-width=\"2\" d=\"M161.08,-98.68C161.08,-82.4 161.08,-63.69 161.08,-49.22\"/>\n",
       "</g>\n",
       "<!-- (&#39;DNA_store&#39;, &#39;B gene&#39;) -->\n",
       "<g id=\"node4\" class=\"node\">\n",
       "<title>(&#39;DNA_store&#39;, &#39;B gene&#39;)</title>\n",
       "<ellipse fill=\"none\" stroke=\"black\" stroke-width=\"2\" cx=\"227.08\" cy=\"-24.15\" rx=\"24.15\" ry=\"24.15\"/>\n",
       "<text text-anchor=\"start\" x=\"210.25\" y=\"-20.55\" font-family=\"Times,serif\" font-size=\"12.00\">B gene</text>\n",
       "</g>\n",
       "<!-- (&#39;DNA_store&#39;,)&#45;&gt;(&#39;DNA_store&#39;, &#39;B gene&#39;) -->\n",
       "<g id=\"edge2\" class=\"edge\">\n",
       "<title>(&#39;DNA_store&#39;,)&#45;&gt;(&#39;DNA_store&#39;, &#39;B gene&#39;)</title>\n",
       "<path fill=\"none\" stroke=\"black\" stroke-width=\"2\" d=\"M180,-103.8C191.12,-85.22 204.87,-62.25 214.63,-45.95\"/>\n",
       "</g>\n",
       "<!-- (&#39;DNA_store&#39;,)&#45;&gt;(&#39;event_process&#39;,) -->\n",
       "<g id=\"edge4\" class=\"edge\">\n",
       "<title>(&#39;DNA_store&#39;,)&#45;&gt;(&#39;event_process&#39;,)</title>\n",
       "<path fill=\"none\" stroke=\"black\" stroke-dasharray=\"5,2\" d=\"M137.93,-106.71C124.2,-89.7 106.91,-68.29 93.5,-51.68\"/>\n",
       "<polygon fill=\"black\" stroke=\"black\" points=\"96.44,-49.76 87.44,-44.17 91,-54.15 96.44,-49.76\"/>\n",
       "<text text-anchor=\"start\" x=\"112.08\" y=\"-68.31\" font-family=\"Times,serif\" font-size=\"10.00\">DNA</text>\n",
       "</g>\n",
       "</g>\n",
       "</svg>\n"
      ],
      "text/plain": [
       "<graphviz.graphs.Digraph at 0x113859fd0>"
      ]
     },
     "execution_count": 13,
     "metadata": {},
     "output_type": "execute_result"
    }
   ],
   "source": [
    "b.visualize()"
   ]
  },
  {
   "cell_type": "code",
   "execution_count": 14,
   "id": "f02c15797bdb73b8",
   "metadata": {
    "ExecuteTime": {
     "start_time": "2024-01-21T21:29:21.997588Z"
    },
    "collapsed": false,
    "jupyter": {
     "outputs_hidden": false
    }
   },
   "outputs": [],
   "source": [
    "b['interval_process'].add_process(\n",
    "    name='GillespieInterval',\n",
    "    # inputs={'port_id': ['store']}  # we should be able to set the wires directly like this\n",
    ")"
   ]
  },
  {
   "cell_type": "code",
   "execution_count": 15,
   "id": "aeb344bcd6a120ae",
   "metadata": {
    "ExecuteTime": {
     "start_time": "2024-01-21T21:29:21.998661Z"
    },
    "collapsed": false,
    "jupyter": {
     "outputs_hidden": false
    }
   },
   "outputs": [
    {
     "data": {
      "image/svg+xml": [
       "<?xml version=\"1.0\" encoding=\"UTF-8\" standalone=\"no\"?>\n",
       "<!DOCTYPE svg PUBLIC \"-//W3C//DTD SVG 1.1//EN\"\n",
       " \"http://www.w3.org/Graphics/SVG/1.1/DTD/svg11.dtd\">\n",
       "<!-- Generated by graphviz version 9.0.0 (0)\n",
       " -->\n",
       "<!-- Title: bigraph Pages: 1 -->\n",
       "<svg width=\"301pt\" height=\"181pt\"\n",
       " viewBox=\"0.00 0.00 310.00 186.47\" xmlns=\"http://www.w3.org/2000/svg\" xmlns:xlink=\"http://www.w3.org/1999/xlink\">\n",
       "<g id=\"graph0\" class=\"graph\" transform=\"scale(0.972222 0.972222) rotate(0) translate(4 182.47)\">\n",
       "<title>bigraph</title>\n",
       "<polygon fill=\"white\" stroke=\"none\" points=\"-4,4 -4,-182.47 306,-182.47 306,4 -4,4\"/>\n",
       "<!-- (&#39;mRNA_store&#39;,) -->\n",
       "<g id=\"node1\" class=\"node\">\n",
       "<title>(&#39;mRNA_store&#39;,)</title>\n",
       "<ellipse fill=\"none\" stroke=\"black\" stroke-width=\"2\" cx=\"42.08\" cy=\"-136.39\" rx=\"42.08\" ry=\"42.08\"/>\n",
       "<text text-anchor=\"start\" x=\"10.08\" y=\"-132.79\" font-family=\"Times,serif\" font-size=\"12.00\">mRNA_store</text>\n",
       "</g>\n",
       "<!-- (&#39;event_process&#39;,) -->\n",
       "<g id=\"node5\" class=\"node\">\n",
       "<title>(&#39;event_process&#39;,)</title>\n",
       "<polygon fill=\"none\" stroke=\"black\" stroke-width=\"2\" points=\"109.67,-42.15 34.5,-42.15 34.5,-6.15 109.67,-6.15 109.67,-42.15\"/>\n",
       "<text text-anchor=\"start\" x=\"38.1\" y=\"-20.55\" font-family=\"Times,serif\" font-size=\"12.00\">event_process</text>\n",
       "</g>\n",
       "<!-- (&#39;mRNA_store&#39;,)&#45;&gt;(&#39;event_process&#39;,) -->\n",
       "<g id=\"edge3\" class=\"edge\">\n",
       "<title>(&#39;mRNA_store&#39;,)&#45;&gt;(&#39;event_process&#39;,)</title>\n",
       "<path fill=\"none\" stroke=\"black\" stroke-dasharray=\"5,2\" d=\"M21.11,-99.11C17.5,-88.3 16.28,-76.6 21.19,-66.31 24.01,-60.39 28.15,-55.06 32.86,-50.34\"/>\n",
       "<polygon fill=\"black\" stroke=\"black\" points=\"34.88,-53.22 40.06,-43.98 30.25,-47.97 34.88,-53.22\"/>\n",
       "<text text-anchor=\"start\" x=\"22.08\" y=\"-68.31\" font-family=\"Times,serif\" font-size=\"10.00\">mRNA</text>\n",
       "</g>\n",
       "<!-- (&#39;mRNA_store&#39;,)&#45;&gt;(&#39;event_process&#39;,) -->\n",
       "<g id=\"edge5\" class=\"edge\">\n",
       "<title>(&#39;mRNA_store&#39;,)&#45;&gt;(&#39;event_process&#39;,)</title>\n",
       "<path fill=\"none\" stroke=\"black\" stroke-dasharray=\"5,2\" d=\"M56.09,-83.9C60.08,-69.26 64.16,-54.27 67.2,-43.1\"/>\n",
       "<polygon fill=\"black\" stroke=\"black\" points=\"52.73,-82.94 53.48,-93.51 59.48,-84.78 52.73,-82.94\"/>\n",
       "<text text-anchor=\"start\" x=\"61.08\" y=\"-68.31\" font-family=\"Times,serif\" font-size=\"10.00\">mRNA</text>\n",
       "</g>\n",
       "<!-- (&#39;DNA_store&#39;,) -->\n",
       "<g id=\"node2\" class=\"node\">\n",
       "<title>(&#39;DNA_store&#39;,)</title>\n",
       "<ellipse fill=\"none\" stroke=\"black\" stroke-width=\"2\" cx=\"161.08\" cy=\"-136.39\" rx=\"36.96\" ry=\"36.96\"/>\n",
       "<text text-anchor=\"start\" x=\"133.42\" y=\"-132.79\" font-family=\"Times,serif\" font-size=\"12.00\">DNA_store</text>\n",
       "</g>\n",
       "<!-- (&#39;DNA_store&#39;, &#39;A gene&#39;) -->\n",
       "<g id=\"node3\" class=\"node\">\n",
       "<title>(&#39;DNA_store&#39;, &#39;A gene&#39;)</title>\n",
       "<ellipse fill=\"none\" stroke=\"black\" stroke-width=\"2\" cx=\"161.08\" cy=\"-24.15\" rx=\"24.15\" ry=\"24.15\"/>\n",
       "<text text-anchor=\"start\" x=\"144.25\" y=\"-20.55\" font-family=\"Times,serif\" font-size=\"12.00\">A gene</text>\n",
       "</g>\n",
       "<!-- (&#39;DNA_store&#39;,)&#45;&gt;(&#39;DNA_store&#39;, &#39;A gene&#39;) -->\n",
       "<g id=\"edge1\" class=\"edge\">\n",
       "<title>(&#39;DNA_store&#39;,)&#45;&gt;(&#39;DNA_store&#39;, &#39;A gene&#39;)</title>\n",
       "<path fill=\"none\" stroke=\"black\" stroke-width=\"2\" d=\"M161.08,-98.68C161.08,-82.4 161.08,-63.69 161.08,-49.22\"/>\n",
       "</g>\n",
       "<!-- (&#39;DNA_store&#39;, &#39;B gene&#39;) -->\n",
       "<g id=\"node4\" class=\"node\">\n",
       "<title>(&#39;DNA_store&#39;, &#39;B gene&#39;)</title>\n",
       "<ellipse fill=\"none\" stroke=\"black\" stroke-width=\"2\" cx=\"227.08\" cy=\"-24.15\" rx=\"24.15\" ry=\"24.15\"/>\n",
       "<text text-anchor=\"start\" x=\"210.25\" y=\"-20.55\" font-family=\"Times,serif\" font-size=\"12.00\">B gene</text>\n",
       "</g>\n",
       "<!-- (&#39;DNA_store&#39;,)&#45;&gt;(&#39;DNA_store&#39;, &#39;B gene&#39;) -->\n",
       "<g id=\"edge2\" class=\"edge\">\n",
       "<title>(&#39;DNA_store&#39;,)&#45;&gt;(&#39;DNA_store&#39;, &#39;B gene&#39;)</title>\n",
       "<path fill=\"none\" stroke=\"black\" stroke-width=\"2\" d=\"M180,-103.8C191.12,-85.22 204.87,-62.25 214.63,-45.95\"/>\n",
       "</g>\n",
       "<!-- (&#39;DNA_store&#39;,)&#45;&gt;(&#39;event_process&#39;,) -->\n",
       "<g id=\"edge4\" class=\"edge\">\n",
       "<title>(&#39;DNA_store&#39;,)&#45;&gt;(&#39;event_process&#39;,)</title>\n",
       "<path fill=\"none\" stroke=\"black\" stroke-dasharray=\"5,2\" d=\"M137.93,-106.71C124.2,-89.7 106.91,-68.29 93.5,-51.68\"/>\n",
       "<polygon fill=\"black\" stroke=\"black\" points=\"96.44,-49.76 87.44,-44.17 91,-54.15 96.44,-49.76\"/>\n",
       "<text text-anchor=\"start\" x=\"112.08\" y=\"-68.31\" font-family=\"Times,serif\" font-size=\"10.00\">DNA</text>\n",
       "</g>\n",
       "<!-- (&#39;interval_process&#39;,) -->\n",
       "<g id=\"node6\" class=\"node\">\n",
       "<title>(&#39;interval_process&#39;,)</title>\n",
       "<polygon fill=\"none\" stroke=\"black\" stroke-width=\"2\" points=\"302,-154.39 216.16,-154.39 216.16,-118.39 302,-118.39 302,-154.39\"/>\n",
       "<text text-anchor=\"start\" x=\"219.76\" y=\"-132.79\" font-family=\"Times,serif\" font-size=\"12.00\">interval_process</text>\n",
       "</g>\n",
       "</g>\n",
       "</svg>\n"
      ],
      "text/plain": [
       "<graphviz.graphs.Digraph at 0x113896cd0>"
      ]
     },
     "execution_count": 15,
     "metadata": {},
     "output_type": "execute_result"
    }
   ],
   "source": [
    "b.visualize()"
   ]
  },
  {
   "cell_type": "code",
   "execution_count": 16,
   "id": "a5a1f48a-41aa-4768-b931-ad268495d836",
   "metadata": {},
   "outputs": [
    {
     "ename": "KeyError",
     "evalue": "'_inputs'",
     "output_type": "error",
     "traceback": [
      "\u001b[0;31m---------------------------------------------------------------------------\u001b[0m",
      "\u001b[0;31mKeyError\u001b[0m                                  Traceback (most recent call last)",
      "Cell \u001b[0;32mIn[16], line 1\u001b[0m\n\u001b[0;32m----> 1\u001b[0m \u001b[43mb\u001b[49m\u001b[38;5;241;43m.\u001b[39;49m\u001b[43mconnect_all\u001b[49m\u001b[43m(\u001b[49m\u001b[43m)\u001b[49m\n",
      "File \u001b[0;32m~/code/bigraph-builder/builder/builder_api.py:246\u001b[0m, in \u001b[0;36mBuilder.connect_all\u001b[0;34m(self)\u001b[0m\n\u001b[1;32m    244\u001b[0m \u001b[38;5;28;01mfor\u001b[39;00m port \u001b[38;5;129;01min\u001b[39;00m \u001b[38;5;28mself\u001b[39m\u001b[38;5;241m.\u001b[39mschema[k][\u001b[38;5;124m'\u001b[39m\u001b[38;5;124m_inputs\u001b[39m\u001b[38;5;124m'\u001b[39m]\u001b[38;5;241m.\u001b[39mkeys():\n\u001b[1;32m    245\u001b[0m     \u001b[38;5;28;01mif\u001b[39;00m port \u001b[38;5;129;01mnot\u001b[39;00m \u001b[38;5;129;01min\u001b[39;00m v\u001b[38;5;241m.\u001b[39mget(\u001b[38;5;124m'\u001b[39m\u001b[38;5;124minputs\u001b[39m\u001b[38;5;124m'\u001b[39m, {}):\n\u001b[0;32m--> 246\u001b[0m         \u001b[38;5;28;43mself\u001b[39;49m\u001b[43m[\u001b[49m\u001b[43mk\u001b[49m\u001b[43m]\u001b[49m\u001b[38;5;241;43m.\u001b[39;49m\u001b[43mconnect\u001b[49m\u001b[43m(\u001b[49m\u001b[43mport\u001b[49m\u001b[38;5;241;43m=\u001b[39;49m\u001b[43mport\u001b[49m\u001b[43m,\u001b[49m\u001b[43m \u001b[49m\u001b[43mtarget\u001b[49m\u001b[38;5;241;43m=\u001b[39;49m\u001b[43m[\u001b[49m\u001b[43mport\u001b[49m\u001b[43m]\u001b[49m\u001b[43m)\u001b[49m\n\u001b[1;32m    247\u001b[0m \u001b[38;5;28;01mfor\u001b[39;00m port \u001b[38;5;129;01min\u001b[39;00m \u001b[38;5;28mself\u001b[39m\u001b[38;5;241m.\u001b[39mschema[k][\u001b[38;5;124m'\u001b[39m\u001b[38;5;124m_outputs\u001b[39m\u001b[38;5;124m'\u001b[39m]\u001b[38;5;241m.\u001b[39mkeys():\n\u001b[1;32m    248\u001b[0m     \u001b[38;5;28;01mif\u001b[39;00m port \u001b[38;5;129;01mnot\u001b[39;00m \u001b[38;5;129;01min\u001b[39;00m v\u001b[38;5;241m.\u001b[39mget(\u001b[38;5;124m'\u001b[39m\u001b[38;5;124moutputs\u001b[39m\u001b[38;5;124m'\u001b[39m, {}):\n",
      "File \u001b[0;32m~/code/bigraph-builder/builder/builder_api.py:257\u001b[0m, in \u001b[0;36mBuilder.connect\u001b[0;34m(self, port, target)\u001b[0m\n\u001b[1;32m    255\u001b[0m \u001b[38;5;28;01massert\u001b[39;00m \u001b[38;5;28mself\u001b[39m\u001b[38;5;241m.\u001b[39mcore\u001b[38;5;241m.\u001b[39mcheck(\u001b[38;5;124m'\u001b[39m\u001b[38;5;124medge\u001b[39m\u001b[38;5;124m'\u001b[39m, \u001b[38;5;28mself\u001b[39m\u001b[38;5;241m.\u001b[39mget_tree())\n\u001b[1;32m    256\u001b[0m \u001b[38;5;66;03m# self.complete()\u001b[39;00m\n\u001b[0;32m--> 257\u001b[0m \u001b[38;5;28;01mif\u001b[39;00m port \u001b[38;5;129;01min\u001b[39;00m \u001b[38;5;28;43mself\u001b[39;49m\u001b[38;5;241;43m.\u001b[39;49m\u001b[43mschema\u001b[49m\u001b[43m[\u001b[49m\u001b[38;5;124;43m'\u001b[39;49m\u001b[38;5;124;43m_inputs\u001b[39;49m\u001b[38;5;124;43m'\u001b[39;49m\u001b[43m]\u001b[49m:\n\u001b[1;32m    258\u001b[0m     \u001b[38;5;28mself\u001b[39m[\u001b[38;5;124m'\u001b[39m\u001b[38;5;124minputs\u001b[39m\u001b[38;5;124m'\u001b[39m][port] \u001b[38;5;241m=\u001b[39m target\n\u001b[1;32m    259\u001b[0m \u001b[38;5;28;01mif\u001b[39;00m port \u001b[38;5;129;01min\u001b[39;00m \u001b[38;5;28mself\u001b[39m\u001b[38;5;241m.\u001b[39mschema[\u001b[38;5;124m'\u001b[39m\u001b[38;5;124m_outputs\u001b[39m\u001b[38;5;124m'\u001b[39m]:\n",
      "\u001b[0;31mKeyError\u001b[0m: '_inputs'"
     ]
    }
   ],
   "source": [
    "b.connect_all()"
   ]
  },
  {
   "cell_type": "code",
   "execution_count": null,
   "id": "6e00749f-03b8-496e-9a10-106dbac3713f",
   "metadata": {},
   "outputs": [],
   "source": [
    "b.builder_tree"
   ]
  },
  {
   "cell_type": "code",
   "execution_count": null,
   "id": "e9a69f36-154c-416e-b00c-5df0726be49e",
   "metadata": {},
   "outputs": [],
   "source": [
    "b.compile()"
   ]
  },
  {
   "cell_type": "code",
   "execution_count": null,
   "id": "c975aab012b2706f",
   "metadata": {
    "ExecuteTime": {
     "start_time": "2024-01-21T21:29:21.999855Z"
    },
    "collapsed": false,
    "jupyter": {
     "outputs_hidden": false
    }
   },
   "outputs": [],
   "source": [
    "doc = b.document()\n",
    "doc"
   ]
  },
  {
   "cell_type": "code",
   "execution_count": null,
   "id": "752e43636bf9fd17",
   "metadata": {
    "ExecuteTime": {
     "start_time": "2024-01-21T21:29:22.001078Z"
    },
    "collapsed": false,
    "jupyter": {
     "outputs_hidden": false
    }
   },
   "outputs": [],
   "source": [
    "b.write(filename='toy_bigraph')"
   ]
  },
  {
   "cell_type": "code",
   "execution_count": null,
   "id": "c88f8059a315792e",
   "metadata": {
    "ExecuteTime": {
     "start_time": "2024-01-21T21:29:22.001943Z"
    },
    "collapsed": false,
    "jupyter": {
     "outputs_hidden": false
    }
   },
   "outputs": [],
   "source": []
  }
 ],
 "metadata": {
  "kernelspec": {
   "display_name": "venv",
   "language": "python",
   "name": "venv"
  },
  "language_info": {
   "codemirror_mode": {
    "name": "ipython",
    "version": 3
   },
   "file_extension": ".py",
   "mimetype": "text/x-python",
   "name": "python",
   "nbconvert_exporter": "python",
   "pygments_lexer": "ipython3",
   "version": "3.9.6"
  }
 },
 "nbformat": 4,
 "nbformat_minor": 5
}
