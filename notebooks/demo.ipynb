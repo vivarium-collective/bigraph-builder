{
 "cells": [
  {
   "cell_type": "code",
   "execution_count": 1,
   "id": "b385dca6-942d-472c-9963-13b8cb33843c",
   "metadata": {
    "ExecuteTime": {
     "end_time": "2024-01-21T21:29:21.891373Z",
     "start_time": "2024-01-21T21:29:13.531449Z"
    }
   },
   "outputs": [
    {
     "ename": "ModuleNotFoundError",
     "evalue": "No module named 'builder'",
     "output_type": "error",
     "traceback": [
      "\u001b[0;31m---------------------------------------------------------------------------\u001b[0m",
      "\u001b[0;31mModuleNotFoundError\u001b[0m                       Traceback (most recent call last)",
      "Cell \u001b[0;32mIn[1], line 1\u001b[0m\n\u001b[0;32m----> 1\u001b[0m \u001b[38;5;28;01mfrom\u001b[39;00m \u001b[38;5;21;01mbuilder\u001b[39;00m \u001b[38;5;28;01mimport\u001b[39;00m Builder, Process\n\u001b[1;32m      2\u001b[0m \u001b[38;5;28;01mfrom\u001b[39;00m \u001b[38;5;21;01mbiosimulator_processes\u001b[39;00m \u001b[38;5;28;01mimport\u001b[39;00m process_registry\n",
      "\u001b[0;31mModuleNotFoundError\u001b[0m: No module named 'builder'"
     ]
    }
   ],
   "source": [
    "from builder import Builder, Process\n",
    "from biosimulator_processes import process_registry"
   ]
  },
  {
   "cell_type": "code",
   "execution_count": 2,
   "id": "30297af1-2d65-43d9-9ab7-0589d94a8cfe",
   "metadata": {
    "ExecuteTime": {
     "end_time": "2024-01-21T21:29:21.896737Z",
     "start_time": "2024-01-21T21:29:21.891980Z"
    }
   },
   "outputs": [],
   "source": [
    "b = Builder(process_registry=process_registry)"
   ]
  },
  {
   "cell_type": "code",
   "execution_count": 3,
   "id": "979e0bd85a31d4b0",
   "metadata": {
    "ExecuteTime": {
     "end_time": "2024-01-21T21:29:21.984800Z",
     "start_time": "2024-01-21T21:29:21.894599Z"
    },
    "collapsed": false,
    "jupyter": {
     "outputs_hidden": false
    }
   },
   "outputs": [
    {
     "ename": "AttributeError",
     "evalue": "'Builder' object has no attribute 'process_registry_list'",
     "output_type": "error",
     "traceback": [
      "\u001b[0;31m---------------------------------------------------------------------------\u001b[0m",
      "\u001b[0;31mAttributeError\u001b[0m                            Traceback (most recent call last)",
      "Cell \u001b[0;32mIn[3], line 1\u001b[0m\n\u001b[0;32m----> 1\u001b[0m \u001b[43mb\u001b[49m\u001b[38;5;241;43m.\u001b[39;49m\u001b[43mprocess_registry_list\u001b[49m()\n",
      "\u001b[0;31mAttributeError\u001b[0m: 'Builder' object has no attribute 'process_registry_list'"
     ]
    }
   ],
   "source": [
    "b.process_registry_list()"
   ]
  },
  {
   "cell_type": "code",
   "execution_count": null,
   "id": "a84d340622208914",
   "metadata": {
    "ExecuteTime": {
     "end_time": "2024-01-21T21:29:21.988572Z",
     "start_time": "2024-01-21T21:29:21.986667Z"
    },
    "collapsed": false,
    "jupyter": {
     "outputs_hidden": false
    }
   },
   "outputs": [],
   "source": [
    "# b['fba'].add_process(name='cobra')"
   ]
  },
  {
   "cell_type": "code",
   "execution_count": null,
   "id": "235efcd79c0f13c1",
   "metadata": {
    "ExecuteTime": {
     "start_time": "2024-01-21T21:29:21.988497Z"
    },
    "collapsed": false,
    "jupyter": {
     "outputs_hidden": false
    }
   },
   "outputs": [],
   "source": [
    "# b['smoldyn'].add_process(name='smoldyn_process')"
   ]
  },
  {
   "cell_type": "code",
   "execution_count": null,
   "id": "1ee84904801a9ab",
   "metadata": {
    "ExecuteTime": {
     "start_time": "2024-01-21T21:29:21.990417Z"
    },
    "collapsed": false,
    "jupyter": {
     "outputs_hidden": false
    }
   },
   "outputs": [],
   "source": [
    "class Toy(Process):\n",
    "    config_schema = {\n",
    "        'A': 'float',\n",
    "        'B': 'float',\n",
    "    }\n",
    "\n",
    "    def __init__(self, config):\n",
    "        super().__init__(config)\n",
    "\n",
    "    def schema(self):\n",
    "        return {\n",
    "            'inputs': {\n",
    "                'A': 'float',\n",
    "                'B': 'float'},\n",
    "            'outputs': {\n",
    "                'C': 'float'}\n",
    "        }\n",
    "\n",
    "    def update(self, state, interval):\n",
    "        update = {\n",
    "            'C': state['A'] + state['B']\n",
    "        }\n",
    "        return update\n",
    "\n",
    "b.register_process('toy', Toy)"
   ]
  },
  {
   "cell_type": "code",
   "execution_count": null,
   "id": "dae8ca8db70c4845",
   "metadata": {
    "ExecuteTime": {
     "start_time": "2024-01-21T21:29:21.992233Z"
    },
    "collapsed": false,
    "jupyter": {
     "outputs_hidden": false
    }
   },
   "outputs": [],
   "source": [
    "b.process_registry_list()"
   ]
  },
  {
   "cell_type": "code",
   "execution_count": null,
   "id": "8b1f49a78de17642",
   "metadata": {
    "ExecuteTime": {
     "end_time": "2024-01-21T21:29:21.994480Z",
     "start_time": "2024-01-21T21:29:21.994063Z"
    },
    "collapsed": false,
    "jupyter": {
     "outputs_hidden": false
    }
   },
   "outputs": [],
   "source": [
    "b['toy'].add_process(name='toy')"
   ]
  },
  {
   "cell_type": "code",
   "execution_count": null,
   "id": "329e64816e8ff626",
   "metadata": {
    "ExecuteTime": {
     "start_time": "2024-01-21T21:29:21.995413Z"
    },
    "collapsed": false,
    "jupyter": {
     "outputs_hidden": false
    }
   },
   "outputs": [],
   "source": [
    "b['toy'].ports()"
   ]
  },
  {
   "cell_type": "code",
   "execution_count": null,
   "id": "3b1dd8569f3bb67a",
   "metadata": {
    "ExecuteTime": {
     "start_time": "2024-01-21T21:29:21.996690Z"
    },
    "collapsed": false,
    "jupyter": {
     "outputs_hidden": false
    }
   },
   "outputs": [],
   "source": [
    "b.plot()"
   ]
  },
  {
   "cell_type": "code",
   "execution_count": null,
   "id": "f02c15797bdb73b8",
   "metadata": {
    "ExecuteTime": {
     "start_time": "2024-01-21T21:29:21.997588Z"
    },
    "collapsed": false,
    "jupyter": {
     "outputs_hidden": false
    }
   },
   "outputs": [],
   "source": [
    "b['toy'].connect(port='A', target='A_store')\n",
    "# b['toy'].connect(port='B', target='B_store')  # TODO -- compile is trying to connect A at the wrong level??\n",
    "# b['toy'].connect(port='C', target='C_store')"
   ]
  },
  {
   "cell_type": "code",
   "execution_count": null,
   "id": "aeb344bcd6a120ae",
   "metadata": {
    "ExecuteTime": {
     "start_time": "2024-01-21T21:29:21.998661Z"
    },
    "collapsed": false,
    "jupyter": {
     "outputs_hidden": false
    }
   },
   "outputs": [],
   "source": [
    "b.plot()"
   ]
  },
  {
   "cell_type": "code",
   "execution_count": null,
   "id": "c975aab012b2706f",
   "metadata": {
    "ExecuteTime": {
     "start_time": "2024-01-21T21:29:21.999855Z"
    },
    "collapsed": false,
    "jupyter": {
     "outputs_hidden": false
    }
   },
   "outputs": [],
   "source": [
    "b.document()"
   ]
  },
  {
   "cell_type": "code",
   "execution_count": null,
   "id": "752e43636bf9fd17",
   "metadata": {
    "ExecuteTime": {
     "start_time": "2024-01-21T21:29:22.001078Z"
    },
    "collapsed": false,
    "jupyter": {
     "outputs_hidden": false
    }
   },
   "outputs": [],
   "source": [
    "b.write(filename='toy_bigraph')"
   ]
  },
  {
   "cell_type": "code",
   "execution_count": null,
   "id": "c88f8059a315792e",
   "metadata": {
    "ExecuteTime": {
     "start_time": "2024-01-21T21:29:22.001943Z"
    },
    "collapsed": false,
    "jupyter": {
     "outputs_hidden": false
    }
   },
   "outputs": [],
   "source": []
  }
 ],
 "metadata": {
  "kernelspec": {
   "display_name": "Python (venv)",
   "language": "python",
   "name": "venv_kernel"
  },
  "language_info": {
   "codemirror_mode": {
    "name": "ipython",
    "version": 3
   },
   "file_extension": ".py",
   "mimetype": "text/x-python",
   "name": "python",
   "nbconvert_exporter": "python",
   "pygments_lexer": "ipython3",
   "version": "3.9.6"
  }
 },
 "nbformat": 4,
 "nbformat_minor": 5
}
