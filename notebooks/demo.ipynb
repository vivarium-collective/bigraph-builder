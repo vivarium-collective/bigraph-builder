{
 "cells": [
  {
   "cell_type": "markdown",
   "id": "808b6a4b-0894-4a8e-99d8-bf11b3164b6a",
   "metadata": {},
   "source": [
    "# Bigraph-Builder Demo"
   ]
  },
  {
   "cell_type": "code",
   "execution_count": 1,
   "id": "72d9bc95-019b-48aa-a841-202fcf449e64",
   "metadata": {},
   "outputs": [
    {
     "data": {
      "text/plain": [
       "'/Users/eranagmon/code/bigraph-builder/venv/bin/python'"
      ]
     },
     "execution_count": 1,
     "metadata": {},
     "output_type": "execute_result"
    }
   ],
   "source": [
    "import sys\n",
    "sys.executable"
   ]
  },
  {
   "cell_type": "code",
   "execution_count": 2,
   "id": "b385dca6-942d-472c-9963-13b8cb33843c",
   "metadata": {
    "ExecuteTime": {
     "end_time": "2024-01-21T21:29:21.891373Z",
     "start_time": "2024-01-21T21:29:13.531449Z"
    }
   },
   "outputs": [
    {
     "ename": "ModuleNotFoundError",
     "evalue": "No module named 'builder.builder_api_old'",
     "output_type": "error",
     "traceback": [
      "\u001b[0;31m---------------------------------------------------------------------------\u001b[0m",
      "\u001b[0;31mModuleNotFoundError\u001b[0m                       Traceback (most recent call last)",
      "Cell \u001b[0;32mIn[2], line 2\u001b[0m\n\u001b[1;32m      1\u001b[0m \u001b[38;5;66;03m# imports\u001b[39;00m\n\u001b[0;32m----> 2\u001b[0m \u001b[38;5;28;01mfrom\u001b[39;00m \u001b[38;5;21;01mbuilder\u001b[39;00m \u001b[38;5;28;01mimport\u001b[39;00m Builder, Process, ProcessTypes\n",
      "File \u001b[0;32m~/code/bigraph-builder/venv/lib/python3.9/site-packages/builder/__init__.py:1\u001b[0m\n\u001b[0;32m----> 1\u001b[0m \u001b[38;5;28;01mfrom\u001b[39;00m \u001b[38;5;21;01mbuilder\u001b[39;00m\u001b[38;5;21;01m.\u001b[39;00m\u001b[38;5;21;01mbuilder_api_old\u001b[39;00m \u001b[38;5;28;01mimport\u001b[39;00m Builder\n\u001b[1;32m      2\u001b[0m \u001b[38;5;28;01mfrom\u001b[39;00m \u001b[38;5;21;01mprocess_bigraph\u001b[39;00m\u001b[38;5;21;01m.\u001b[39;00m\u001b[38;5;21;01mcomposite\u001b[39;00m \u001b[38;5;28;01mimport\u001b[39;00m Process, Step, Composite, ProcessTypes\n\u001b[1;32m      4\u001b[0m __all__ \u001b[38;5;241m=\u001b[39m [\n\u001b[1;32m      5\u001b[0m     \u001b[38;5;124m'\u001b[39m\u001b[38;5;124mBuilder\u001b[39m\u001b[38;5;124m'\u001b[39m,\n\u001b[1;32m      6\u001b[0m     \u001b[38;5;124m'\u001b[39m\u001b[38;5;124mProcess\u001b[39m\u001b[38;5;124m'\u001b[39m,\n\u001b[0;32m   (...)\u001b[0m\n\u001b[1;32m      9\u001b[0m     \u001b[38;5;124m'\u001b[39m\u001b[38;5;124mProcessTypes\u001b[39m\u001b[38;5;124m'\u001b[39m,\n\u001b[1;32m     10\u001b[0m ]\n",
      "\u001b[0;31mModuleNotFoundError\u001b[0m: No module named 'builder.builder_api_old'"
     ]
    }
   ],
   "source": [
    "# imports\n",
    "from builder import Builder, Process, ProcessTypes"
   ]
  },
  {
   "cell_type": "markdown",
   "id": "a403d619-4dbe-49cc-8f24-29a83e31fe15",
   "metadata": {},
   "source": [
    "## Initialize the builder"
   ]
  },
  {
   "cell_type": "code",
   "execution_count": null,
   "id": "b6260555-2bad-4834-adc5-e6d358063579",
   "metadata": {},
   "outputs": [],
   "source": [
    "core = ProcessTypes()\n",
    "b = Builder(core=core)"
   ]
  },
  {
   "cell_type": "markdown",
   "id": "dd85f98e-c5e3-467b-97ab-1ced7e810a17",
   "metadata": {},
   "source": [
    "### register new types"
   ]
  },
  {
   "cell_type": "code",
   "execution_count": null,
   "id": "30297af1-2d65-43d9-9ab7-0589d94a8cfe",
   "metadata": {
    "ExecuteTime": {
     "end_time": "2024-01-21T21:29:21.896737Z",
     "start_time": "2024-01-21T21:29:21.891980Z"
    }
   },
   "outputs": [],
   "source": [
    "b.register_type(\n",
    "    'default 1', {\n",
    "        '_inherit': 'float',\n",
    "        '_default': 1.0})"
   ]
  },
  {
   "cell_type": "markdown",
   "id": "4f7cb796-ae5f-4209-b81c-dec1544f0840",
   "metadata": {},
   "source": [
    "## Register some processes"
   ]
  },
  {
   "cell_type": "markdown",
   "id": "603e75fd-7b86-4e4c-9e95-adb9faf9668b",
   "metadata": {},
   "source": [
    "### list built-in processes"
   ]
  },
  {
   "cell_type": "code",
   "execution_count": null,
   "id": "979e0bd85a31d4b0",
   "metadata": {
    "ExecuteTime": {
     "end_time": "2024-01-21T21:29:21.984800Z",
     "start_time": "2024-01-21T21:29:21.894599Z"
    },
    "collapsed": false,
    "jupyter": {
     "outputs_hidden": false
    }
   },
   "outputs": [],
   "source": [
    "b.list_processes()"
   ]
  },
  {
   "cell_type": "markdown",
   "id": "9710444c-97c5-484c-83b0-8d82c3fdb92f",
   "metadata": {},
   "source": [
    "### register by passing in process class"
   ]
  },
  {
   "cell_type": "code",
   "execution_count": null,
   "id": "5bff2ea4-42f9-430e-b1cc-f0581510ec8d",
   "metadata": {},
   "outputs": [],
   "source": [
    "from process_bigraph.experiments.minimal_gillespie import GillespieEvent\n",
    "b.register_process('GillespieEvent', GillespieEvent)"
   ]
  },
  {
   "cell_type": "markdown",
   "id": "c3635047-66dd-4c80-85ea-481c74da2a86",
   "metadata": {},
   "source": [
    "### register by address"
   ]
  },
  {
   "cell_type": "code",
   "execution_count": null,
   "id": "f2893d4a-c13a-4d95-b85e-d5e9dce53a89",
   "metadata": {},
   "outputs": [],
   "source": [
    "b.register_process(\n",
    "    'GillespieInterval',\n",
    "    address='local:!process_bigraph.experiments.minimal_gillespie.GillespieInterval',  # currently only supports local addresses\n",
    ")"
   ]
  },
  {
   "cell_type": "markdown",
   "id": "731974c5-b470-4ddf-a037-4d4aeebc7b42",
   "metadata": {},
   "source": [
    "### register with decorator"
   ]
  },
  {
   "cell_type": "code",
   "execution_count": null,
   "id": "aec69dcc-471e-4c18-b22b-824cfe440e79",
   "metadata": {},
   "outputs": [],
   "source": [
    "@b.register_process('toy')\n",
    "class Toy(Process):\n",
    "    config_schema = {\n",
    "        'A': 'float',\n",
    "        'B': 'float',\n",
    "    }\n",
    "\n",
    "    def __init__(self, config, core):\n",
    "        super().__init__(config, core)\n",
    "\n",
    "    def schema(self):\n",
    "        return {\n",
    "            'inputs': {\n",
    "                'A': 'float',\n",
    "                'B': 'float'},\n",
    "            'outputs': {\n",
    "                'C': 'float'}\n",
    "        }\n",
    "\n",
    "    def update(self, state, interval):\n",
    "        update = {\n",
    "            'C': state['A'] + state['B']\n",
    "        }\n",
    "        return update\n"
   ]
  },
  {
   "cell_type": "markdown",
   "id": "a108cbf0-a594-41d4-996a-de9bf9b6aeea",
   "metadata": {},
   "source": [
    "### list registered processes"
   ]
  },
  {
   "cell_type": "code",
   "execution_count": null,
   "id": "40cde984-cfdf-4571-af9c-3a3755e3763c",
   "metadata": {},
   "outputs": [],
   "source": [
    "b.list_processes()"
   ]
  },
  {
   "cell_type": "markdown",
   "id": "dfa2d764-8cdb-4a1e-84c5-fd81cc4e6afe",
   "metadata": {},
   "source": [
    "## Add processes to the bigraph"
   ]
  },
  {
   "cell_type": "code",
   "execution_count": null,
   "id": "503863ee-0a58-44b3-accc-20e0167b947b",
   "metadata": {},
   "outputs": [],
   "source": [
    "## add processes\n",
    "b['event_process'].add_process(\n",
    "    name='GillespieEvent',\n",
    "    kdeg=1.0,  # kwargs fill parameters in the config\n",
    ")"
   ]
  },
  {
   "cell_type": "code",
   "execution_count": null,
   "id": "b094f1e5-5202-48d0-8bdd-57bbdded7fd1",
   "metadata": {},
   "outputs": [],
   "source": [
    "b.visualize()"
   ]
  },
  {
   "cell_type": "markdown",
   "id": "0238392e-5d1f-403d-98c9-785576a0d91b",
   "metadata": {},
   "source": [
    "### print ports"
   ]
  },
  {
   "cell_type": "code",
   "execution_count": null,
   "id": "5ea31425-a8bb-45c3-a31d-77714cc8c137",
   "metadata": {},
   "outputs": [],
   "source": [
    "b['event_process'].interface(True)"
   ]
  },
  {
   "cell_type": "markdown",
   "id": "8068e0af-ebdd-4f01-8c54-4fb3b07fc21e",
   "metadata": {},
   "source": [
    "### connect ports"
   ]
  },
  {
   "cell_type": "code",
   "execution_count": null,
   "id": "c9f462bb-5316-4724-aa8e-b3b71eb379b2",
   "metadata": {},
   "outputs": [],
   "source": [
    "b['event_process'].connect(port='mRNA', target=['mRNA_store'])\n",
    "b['event_process'].connect(port='DNA', target=['DNA_store'])\n",
    "b"
   ]
  },
  {
   "cell_type": "code",
   "execution_count": null,
   "id": "79809baf-1d87-475a-b85f-3729f4716cb4",
   "metadata": {},
   "outputs": [],
   "source": [
    "b.visualize()"
   ]
  },
  {
   "cell_type": "code",
   "execution_count": null,
   "id": "f02c15797bdb73b8",
   "metadata": {
    "ExecuteTime": {
     "start_time": "2024-01-21T21:29:21.997588Z"
    },
    "collapsed": false,
    "jupyter": {
     "outputs_hidden": false
    }
   },
   "outputs": [],
   "source": [
    "b['interval_process'].add_process(\n",
    "    name='GillespieInterval',\n",
    "    # inputs={'port_id': ['store']}  # we should be able to set the wires directly like this\n",
    ")"
   ]
  },
  {
   "cell_type": "code",
   "execution_count": null,
   "id": "aeb344bcd6a120ae",
   "metadata": {
    "ExecuteTime": {
     "start_time": "2024-01-21T21:29:21.998661Z"
    },
    "collapsed": false,
    "jupyter": {
     "outputs_hidden": false
    }
   },
   "outputs": [],
   "source": [
    "b.visualize()"
   ]
  },
  {
   "cell_type": "code",
   "execution_count": null,
   "id": "a5a1f48a-41aa-4768-b931-ad268495d836",
   "metadata": {},
   "outputs": [],
   "source": [
    "b.connect_all()"
   ]
  },
  {
   "cell_type": "code",
   "execution_count": null,
   "id": "6e00749f-03b8-496e-9a10-106dbac3713f",
   "metadata": {},
   "outputs": [],
   "source": [
    "b.builder_tree"
   ]
  },
  {
   "cell_type": "code",
   "execution_count": null,
   "id": "e9a69f36-154c-416e-b00c-5df0726be49e",
   "metadata": {},
   "outputs": [],
   "source": [
    "b.compile()"
   ]
  },
  {
   "cell_type": "code",
   "execution_count": null,
   "id": "c975aab012b2706f",
   "metadata": {
    "ExecuteTime": {
     "start_time": "2024-01-21T21:29:21.999855Z"
    },
    "collapsed": false,
    "jupyter": {
     "outputs_hidden": false
    }
   },
   "outputs": [],
   "source": [
    "doc = b.document()\n",
    "doc"
   ]
  },
  {
   "cell_type": "code",
   "execution_count": null,
   "id": "752e43636bf9fd17",
   "metadata": {
    "ExecuteTime": {
     "start_time": "2024-01-21T21:29:22.001078Z"
    },
    "collapsed": false,
    "jupyter": {
     "outputs_hidden": false
    }
   },
   "outputs": [],
   "source": [
    "b.write(filename='toy_bigraph')"
   ]
  },
  {
   "cell_type": "code",
   "execution_count": null,
   "id": "c88f8059a315792e",
   "metadata": {
    "ExecuteTime": {
     "start_time": "2024-01-21T21:29:22.001943Z"
    },
    "collapsed": false,
    "jupyter": {
     "outputs_hidden": false
    }
   },
   "outputs": [],
   "source": []
  }
 ],
 "metadata": {
  "kernelspec": {
   "display_name": "venv",
   "language": "python",
   "name": "venv"
  },
  "language_info": {
   "codemirror_mode": {
    "name": "ipython",
    "version": 3
   },
   "file_extension": ".py",
   "mimetype": "text/x-python",
   "name": "python",
   "nbconvert_exporter": "python",
   "pygments_lexer": "ipython3",
   "version": "3.9.6"
  }
 },
 "nbformat": 4,
 "nbformat_minor": 5
}
