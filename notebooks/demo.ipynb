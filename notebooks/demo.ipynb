{
 "cells": [
  {
   "cell_type": "code",
   "execution_count": 1,
   "id": "b385dca6-942d-472c-9963-13b8cb33843c",
   "metadata": {
    "ExecuteTime": {
     "end_time": "2024-01-21T21:29:21.891373Z",
     "start_time": "2024-01-21T21:29:13.531449Z"
    }
   },
   "outputs": [],
   "source": [
    "from builder import Builder, Process"
   ]
  },
  {
   "cell_type": "code",
   "execution_count": 2,
   "id": "30297af1-2d65-43d9-9ab7-0589d94a8cfe",
   "metadata": {
    "ExecuteTime": {
     "end_time": "2024-01-21T21:29:21.896737Z",
     "start_time": "2024-01-21T21:29:21.891980Z"
    }
   },
   "outputs": [],
   "source": [
    "b = Builder()"
   ]
  },
  {
   "cell_type": "code",
   "execution_count": 3,
   "id": "979e0bd85a31d4b0",
   "metadata": {
    "ExecuteTime": {
     "end_time": "2024-01-21T21:29:21.984800Z",
     "start_time": "2024-01-21T21:29:21.894599Z"
    },
    "collapsed": false,
    "jupyter": {
     "outputs_hidden": false
    }
   },
   "outputs": [
    {
     "name": "stdout",
     "output_type": "stream",
     "text": [
      "['ram-emitter', 'console-emitter']\n"
     ]
    }
   ],
   "source": [
    "b.list_processes()"
   ]
  },
  {
   "cell_type": "code",
   "execution_count": 4,
   "id": "5bff2ea4-42f9-430e-b1cc-f0581510ec8d",
   "metadata": {},
   "outputs": [],
   "source": [
    "from process_bigraph.experiments.minimal_gillespie import GillespieEvent , GillespieInterval\n",
    "b.register_process('GillespieEvent', GillespieEvent)\n",
    "b.register_process('GillespieInterval', GillespieInterval)"
   ]
  },
  {
   "cell_type": "code",
   "execution_count": 5,
   "id": "40cde984-cfdf-4571-af9c-3a3755e3763c",
   "metadata": {},
   "outputs": [
    {
     "name": "stdout",
     "output_type": "stream",
     "text": [
      "['GillespieEvent', 'ram-emitter', 'GillespieInterval', 'console-emitter']\n"
     ]
    }
   ],
   "source": [
    "b.list_processes()"
   ]
  },
  {
   "cell_type": "code",
   "execution_count": 10,
   "id": "503863ee-0a58-44b3-accc-20e0167b947b",
   "metadata": {},
   "outputs": [
    {
     "name": "stdout",
     "output_type": "stream",
     "text": [
      "Unexpected exception formatting exception. Falling back to standard exception\n"
     ]
    },
    {
     "name": "stderr",
     "output_type": "stream",
     "text": [
      "Traceback (most recent call last):\n",
      "  File \"/Users/eranagmon/code/bigraph-builder/venv/lib/python3.9/site-packages/IPython/core/interactiveshell.py\", line 3550, in run_code\n",
      "    exec(code_obj, self.user_global_ns, self.user_ns)\n",
      "  File \"/var/folders/vy/vr0_ytms6m95qrnk7xnh0bth0000gq/T/ipykernel_53425/3145499072.py\", line 2, in <module>\n",
      "    b['event_process'].add_process(\n",
      "  File \"/Users/eranagmon/code/bigraph-builder/builder/builder_api.py\", line 201, in add_process\n",
      "  File \"/Users/eranagmon/code/bigraph-builder/builder/builder_api.py\", line 235, in compile\n",
      "    else:\n",
      "  File \"/Users/eranagmon/code/bigraph-builder/builder/builder_api.py\", line 241, in compile\n",
      "  File \"/Users/eranagmon/code/process-bigraph/process_bigraph/composite.py\", line 731, in __init__\n",
      "    super().__init__(config, core)\n",
      "  File \"/Users/eranagmon/code/process-bigraph/process_bigraph/composite.py\", line 440, in __init__\n",
      "    self.config = self.core.fill(\n",
      "AttributeError: 'NoneType' object has no attribute 'fill'\n",
      "\n",
      "During handling of the above exception, another exception occurred:\n",
      "\n",
      "Traceback (most recent call last):\n",
      "  File \"/Users/eranagmon/code/bigraph-builder/venv/lib/python3.9/site-packages/IPython/core/interactiveshell.py\", line 2144, in showtraceback\n",
      "    stb = self.InteractiveTB.structured_traceback(\n",
      "  File \"/Users/eranagmon/code/bigraph-builder/venv/lib/python3.9/site-packages/IPython/core/ultratb.py\", line 1435, in structured_traceback\n",
      "    return FormattedTB.structured_traceback(\n",
      "  File \"/Users/eranagmon/code/bigraph-builder/venv/lib/python3.9/site-packages/IPython/core/ultratb.py\", line 1326, in structured_traceback\n",
      "    return VerboseTB.structured_traceback(\n",
      "  File \"/Users/eranagmon/code/bigraph-builder/venv/lib/python3.9/site-packages/IPython/core/ultratb.py\", line 1173, in structured_traceback\n",
      "    formatted_exception = self.format_exception_as_a_whole(etype, evalue, etb, number_of_lines_of_context,\n",
      "  File \"/Users/eranagmon/code/bigraph-builder/venv/lib/python3.9/site-packages/IPython/core/ultratb.py\", line 1088, in format_exception_as_a_whole\n",
      "    frames.append(self.format_record(record))\n",
      "  File \"/Users/eranagmon/code/bigraph-builder/venv/lib/python3.9/site-packages/IPython/core/ultratb.py\", line 970, in format_record\n",
      "    frame_info.lines, Colors, self.has_colors, lvals\n",
      "  File \"/Users/eranagmon/code/bigraph-builder/venv/lib/python3.9/site-packages/IPython/core/ultratb.py\", line 792, in lines\n",
      "    return self._sd.lines\n",
      "  File \"/Users/eranagmon/code/bigraph-builder/venv/lib/python3.9/site-packages/stack_data/utils.py\", line 145, in cached_property_wrapper\n",
      "    value = obj.__dict__[self.func.__name__] = self.func(obj)\n",
      "  File \"/Users/eranagmon/code/bigraph-builder/venv/lib/python3.9/site-packages/stack_data/core.py\", line 734, in lines\n",
      "    pieces = self.included_pieces\n",
      "  File \"/Users/eranagmon/code/bigraph-builder/venv/lib/python3.9/site-packages/stack_data/utils.py\", line 145, in cached_property_wrapper\n",
      "    value = obj.__dict__[self.func.__name__] = self.func(obj)\n",
      "  File \"/Users/eranagmon/code/bigraph-builder/venv/lib/python3.9/site-packages/stack_data/core.py\", line 681, in included_pieces\n",
      "    pos = scope_pieces.index(self.executing_piece)\n",
      "  File \"/Users/eranagmon/code/bigraph-builder/venv/lib/python3.9/site-packages/stack_data/utils.py\", line 145, in cached_property_wrapper\n",
      "    value = obj.__dict__[self.func.__name__] = self.func(obj)\n",
      "  File \"/Users/eranagmon/code/bigraph-builder/venv/lib/python3.9/site-packages/stack_data/core.py\", line 660, in executing_piece\n",
      "    return only(\n",
      "  File \"/Users/eranagmon/code/bigraph-builder/venv/lib/python3.9/site-packages/executing/executing.py\", line 116, in only\n",
      "    raise NotOneValueFound('Expected one value, found 0')\n",
      "executing.executing.NotOneValueFound: Expected one value, found 0\n"
     ]
    }
   ],
   "source": [
    "## add processes\n",
    "b['event_process'].add_process(\n",
    "    name='GillespieEvent',\n",
    "    kdeg=1.0,  # kwargs fill parameters in the config\n",
    ")"
   ]
  },
  {
   "cell_type": "code",
   "execution_count": null,
   "id": "2f1f606b-160c-4158-9a54-54dba22f0732",
   "metadata": {},
   "outputs": [],
   "source": []
  },
  {
   "cell_type": "code",
   "execution_count": null,
   "id": "a93508ae-95d3-4a7f-ae18-54c17e6f409e",
   "metadata": {},
   "outputs": [],
   "source": []
  },
  {
   "cell_type": "code",
   "execution_count": 6,
   "id": "a84d340622208914",
   "metadata": {
    "ExecuteTime": {
     "end_time": "2024-01-21T21:29:21.988572Z",
     "start_time": "2024-01-21T21:29:21.986667Z"
    },
    "collapsed": false,
    "jupyter": {
     "outputs_hidden": false
    }
   },
   "outputs": [],
   "source": [
    "# b['fba'].add_process(name='cobra')"
   ]
  },
  {
   "cell_type": "code",
   "execution_count": 7,
   "id": "235efcd79c0f13c1",
   "metadata": {
    "ExecuteTime": {
     "start_time": "2024-01-21T21:29:21.988497Z"
    },
    "collapsed": false,
    "jupyter": {
     "outputs_hidden": false
    }
   },
   "outputs": [],
   "source": [
    "# b['smoldyn'].add_process(name='smoldyn_process')"
   ]
  },
  {
   "cell_type": "code",
   "execution_count": 8,
   "id": "1ee84904801a9ab",
   "metadata": {
    "ExecuteTime": {
     "start_time": "2024-01-21T21:29:21.990417Z"
    },
    "collapsed": false,
    "jupyter": {
     "outputs_hidden": false
    }
   },
   "outputs": [],
   "source": [
    "class Toy(Process):\n",
    "    config_schema = {\n",
    "        'A': 'float',\n",
    "        'B': 'float',\n",
    "    }\n",
    "\n",
    "    def __init__(self, config):\n",
    "        super().__init__(config)\n",
    "\n",
    "    def schema(self):\n",
    "        return {\n",
    "            'inputs': {\n",
    "                'A': 'float',\n",
    "                'B': 'float'},\n",
    "            'outputs': {\n",
    "                'C': 'float'}\n",
    "        }\n",
    "\n",
    "    def update(self, state, interval):\n",
    "        update = {\n",
    "            'C': state['A'] + state['B']\n",
    "        }\n",
    "        return update\n",
    "\n",
    "b.register_process('toy', Toy)"
   ]
  },
  {
   "cell_type": "code",
   "execution_count": 9,
   "id": "dae8ca8db70c4845",
   "metadata": {
    "ExecuteTime": {
     "start_time": "2024-01-21T21:29:21.992233Z"
    },
    "collapsed": false,
    "jupyter": {
     "outputs_hidden": false
    }
   },
   "outputs": [
    {
     "ename": "AttributeError",
     "evalue": "'Builder' object has no attribute 'process_registry_list'",
     "output_type": "error",
     "traceback": [
      "\u001b[0;31m---------------------------------------------------------------------------\u001b[0m",
      "\u001b[0;31mAttributeError\u001b[0m                            Traceback (most recent call last)",
      "Cell \u001b[0;32mIn[9], line 1\u001b[0m\n\u001b[0;32m----> 1\u001b[0m \u001b[43mb\u001b[49m\u001b[38;5;241;43m.\u001b[39;49m\u001b[43mprocess_registry_list\u001b[49m()\n",
      "\u001b[0;31mAttributeError\u001b[0m: 'Builder' object has no attribute 'process_registry_list'"
     ]
    }
   ],
   "source": [
    "b.process_registry_list()"
   ]
  },
  {
   "cell_type": "code",
   "execution_count": null,
   "id": "8b1f49a78de17642",
   "metadata": {
    "ExecuteTime": {
     "end_time": "2024-01-21T21:29:21.994480Z",
     "start_time": "2024-01-21T21:29:21.994063Z"
    },
    "collapsed": false,
    "jupyter": {
     "outputs_hidden": false
    }
   },
   "outputs": [],
   "source": [
    "b['toy'].add_process(name='toy')"
   ]
  },
  {
   "cell_type": "code",
   "execution_count": null,
   "id": "329e64816e8ff626",
   "metadata": {
    "ExecuteTime": {
     "start_time": "2024-01-21T21:29:21.995413Z"
    },
    "collapsed": false,
    "jupyter": {
     "outputs_hidden": false
    }
   },
   "outputs": [],
   "source": [
    "b['toy'].ports()"
   ]
  },
  {
   "cell_type": "code",
   "execution_count": null,
   "id": "3b1dd8569f3bb67a",
   "metadata": {
    "ExecuteTime": {
     "start_time": "2024-01-21T21:29:21.996690Z"
    },
    "collapsed": false,
    "jupyter": {
     "outputs_hidden": false
    }
   },
   "outputs": [],
   "source": [
    "b.plot()"
   ]
  },
  {
   "cell_type": "code",
   "execution_count": null,
   "id": "f02c15797bdb73b8",
   "metadata": {
    "ExecuteTime": {
     "start_time": "2024-01-21T21:29:21.997588Z"
    },
    "collapsed": false,
    "jupyter": {
     "outputs_hidden": false
    }
   },
   "outputs": [],
   "source": [
    "b['toy'].connect(port='A', target='A_store')\n",
    "# b['toy'].connect(port='B', target='B_store')  # TODO -- compile is trying to connect A at the wrong level??\n",
    "# b['toy'].connect(port='C', target='C_store')"
   ]
  },
  {
   "cell_type": "code",
   "execution_count": null,
   "id": "aeb344bcd6a120ae",
   "metadata": {
    "ExecuteTime": {
     "start_time": "2024-01-21T21:29:21.998661Z"
    },
    "collapsed": false,
    "jupyter": {
     "outputs_hidden": false
    }
   },
   "outputs": [],
   "source": [
    "b.plot()"
   ]
  },
  {
   "cell_type": "code",
   "execution_count": null,
   "id": "c975aab012b2706f",
   "metadata": {
    "ExecuteTime": {
     "start_time": "2024-01-21T21:29:21.999855Z"
    },
    "collapsed": false,
    "jupyter": {
     "outputs_hidden": false
    }
   },
   "outputs": [],
   "source": [
    "b.document()"
   ]
  },
  {
   "cell_type": "code",
   "execution_count": null,
   "id": "752e43636bf9fd17",
   "metadata": {
    "ExecuteTime": {
     "start_time": "2024-01-21T21:29:22.001078Z"
    },
    "collapsed": false,
    "jupyter": {
     "outputs_hidden": false
    }
   },
   "outputs": [],
   "source": [
    "b.write(filename='toy_bigraph')"
   ]
  },
  {
   "cell_type": "code",
   "execution_count": null,
   "id": "c88f8059a315792e",
   "metadata": {
    "ExecuteTime": {
     "start_time": "2024-01-21T21:29:22.001943Z"
    },
    "collapsed": false,
    "jupyter": {
     "outputs_hidden": false
    }
   },
   "outputs": [],
   "source": []
  }
 ],
 "metadata": {
  "kernelspec": {
   "display_name": "venv",
   "language": "python",
   "name": "venv"
  },
  "language_info": {
   "codemirror_mode": {
    "name": "ipython",
    "version": 3
   },
   "file_extension": ".py",
   "mimetype": "text/x-python",
   "name": "python",
   "nbconvert_exporter": "python",
   "pygments_lexer": "ipython3",
   "version": "3.9.6"
  }
 },
 "nbformat": 4,
 "nbformat_minor": 5
}
